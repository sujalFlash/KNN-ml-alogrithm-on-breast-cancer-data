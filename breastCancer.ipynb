{
 "cells": [
  {
   "cell_type": "raw",
   "source": [],
   "metadata": {
    "collapsed": false
   },
   "id": "a9b122f4d9d248fe"
  },
  {
   "cell_type": "code",
   "outputs": [],
   "source": [
    "%matplotlib inline\n",
    "import matplotlib.pyplot as plt\n",
    "import os\n",
    "import numpy as np\n",
    "import sklearn\n",
    "import pandas as pd\n",
    "import seaborn as sns\n",
    "import matplotlib as mpl"
   ],
   "metadata": {
    "collapsed": false,
    "ExecuteTime": {
     "end_time": "2024-07-28T12:19:25.791358Z",
     "start_time": "2024-07-28T12:19:25.769551Z"
    }
   },
   "id": "c866c352987f9c",
   "execution_count": 226
  },
  {
   "cell_type": "code",
   "outputs": [],
   "source": [
    "mpl.rc('axes', labelsize=14)\n",
    "mpl.rc('xtick', labelsize=12)\n",
    "mpl.rc('ytick', labelsize=12)"
   ],
   "metadata": {
    "collapsed": false,
    "ExecuteTime": {
     "end_time": "2024-07-28T12:19:27.131237Z",
     "start_time": "2024-07-28T12:19:27.123999Z"
    }
   },
   "id": "f7c70789c51795fb",
   "execution_count": 227
  },
  {
   "cell_type": "code",
   "outputs": [],
   "source": [
    "itraq=pd.read_csv(r\"C:\\Users\\sujal\\PycharmProjects\\KMeanNeighbourBreastCancer\\dataset\\77_cancer_proteomes_CPTAC_itraq.csv\")"
   ],
   "metadata": {
    "collapsed": false,
    "ExecuteTime": {
     "end_time": "2024-07-28T12:19:34.432423Z",
     "start_time": "2024-07-28T12:19:28.194782Z"
    }
   },
   "id": "cc992c4e04e4ff3f",
   "execution_count": 228
  },
  {
   "cell_type": "code",
   "outputs": [
    {
     "data": {
      "text/plain": "  RefSeq_accession_number gene_symbol  \\\n0               NP_958782        PLEC   \n1               NP_958785         NaN   \n2               NP_958786        PLEC   \n3               NP_000436         NaN   \n4               NP_958781         NaN   \n5               NP_958780        PLEC   \n6               NP_958783        PLEC   \n7               NP_958784         NaN   \n8               NP_112598         NaN   \n9               NP_001611       AHNAK   \n\n                                           gene_name  AO-A12D.01TCGA  \\\n0                                  plectin isoform 1        1.096131   \n1                                 plectin isoform 1g        1.111370   \n2                                 plectin isoform 1a        1.111370   \n3                                 plectin isoform 1c        1.107561   \n4                                 plectin isoform 1e        1.115180   \n5                                 plectin isoform 1f        1.107561   \n6                                 plectin isoform 1d        1.111370   \n7                                 plectin isoform 1b        1.111370   \n8                                          epiplakin       -1.517390   \n9  neuroblast differentiation-associated protein ...        0.482754   \n\n   C8-A131.01TCGA  AO-A12B.01TCGA  BH-A18Q.02TCGA  C8-A130.02TCGA  \\\n0        2.609943       -0.659828        0.195341       -0.494060   \n1        2.650422       -0.648742        0.215413       -0.503899   \n2        2.650422       -0.654285        0.215413       -0.500619   \n3        2.646374       -0.632113        0.205377       -0.510459   \n4        2.646374       -0.640428        0.215413       -0.503899   \n5        2.646374       -0.654285        0.215413       -0.503899   \n6        2.650422       -0.648742        0.215413       -0.500619   \n7        2.650422       -0.648742        0.215413       -0.500619   \n8        3.909313       -0.618256       -1.035760       -1.845366   \n9       -1.045294        1.222003       -0.517226       -0.405503   \n\n   C8-A138.03TCGA  E2-A154.03TCGA  ...  AO-A12B.34TCGA  A2-A0SW.35TCGA  \\\n0        2.765081        0.862659  ...       -0.963904       -0.487772   \n1        2.779709        0.870186  ...       -0.938210       -0.487772   \n2        2.779709        0.870186  ...       -0.943919       -0.487772   \n3        2.797995        0.866423  ...       -0.935355       -0.487772   \n4        2.787023        0.870186  ...       -0.935355       -0.503853   \n5        2.779709        0.870186  ...       -0.938210       -0.487772   \n6        2.783366        0.870186  ...       -0.943919       -0.487772   \n7        2.783366        0.870186  ...       -0.943919       -0.487772   \n8        2.205538        1.920171  ...       -1.252252       -1.626289   \n9        0.749997        2.349197  ...        1.325752        0.731148   \n\n   AO-A0JL.35TCGA  BH-A0BV.35TCGA  A2-A0YM.36TCGA  BH-A0C7.36TCGA  \\\n0       -0.106680       -0.065838        0.655850       -0.552212   \n1       -0.106680       -0.055893        0.658143       -0.547749   \n2       -0.106680       -0.065838        0.655850       -0.552212   \n3       -0.106680       -0.055893        0.655850       -0.552212   \n4       -0.106680       -0.062523        0.651264       -0.556675   \n5       -0.106680       -0.055893        0.658143       -0.547749   \n6       -0.106680       -0.062523        0.655850       -0.552212   \n7       -0.106680       -0.062523        0.655850       -0.552212   \n8        0.025189       -2.187600       -1.969534        0.679466   \n9       -1.177327        0.709931        1.307036        0.487574   \n\n   A2-A0SX.36TCGA  263d3f-I.CPTAC  blcdb9-I.CPTAC  c4155b-C.CPTAC  \n0       -0.398560        0.598585       -0.191285        0.566975  \n1       -0.392601        0.606697       -0.183918        0.578702  \n2       -0.392601        0.603993       -0.186022        0.576747  \n3       -0.392601        0.603993       -0.186022        0.576747  \n4       -0.395581        0.603993       -0.167079        0.576747  \n5       -0.392601        0.606697       -0.183918        0.578702  \n6       -0.392601        0.603993       -0.186022        0.576747  \n7       -0.392601        0.603993       -0.186022        0.576747  \n8       -2.504862       -0.602132       -0.340726       -0.205013  \n9        0.694810        2.778263        1.367330        3.215190  \n\n[10 rows x 86 columns]",
      "text/html": "<div>\n<style scoped>\n    .dataframe tbody tr th:only-of-type {\n        vertical-align: middle;\n    }\n\n    .dataframe tbody tr th {\n        vertical-align: top;\n    }\n\n    .dataframe thead th {\n        text-align: right;\n    }\n</style>\n<table border=\"1\" class=\"dataframe\">\n  <thead>\n    <tr style=\"text-align: right;\">\n      <th></th>\n      <th>RefSeq_accession_number</th>\n      <th>gene_symbol</th>\n      <th>gene_name</th>\n      <th>AO-A12D.01TCGA</th>\n      <th>C8-A131.01TCGA</th>\n      <th>AO-A12B.01TCGA</th>\n      <th>BH-A18Q.02TCGA</th>\n      <th>C8-A130.02TCGA</th>\n      <th>C8-A138.03TCGA</th>\n      <th>E2-A154.03TCGA</th>\n      <th>...</th>\n      <th>AO-A12B.34TCGA</th>\n      <th>A2-A0SW.35TCGA</th>\n      <th>AO-A0JL.35TCGA</th>\n      <th>BH-A0BV.35TCGA</th>\n      <th>A2-A0YM.36TCGA</th>\n      <th>BH-A0C7.36TCGA</th>\n      <th>A2-A0SX.36TCGA</th>\n      <th>263d3f-I.CPTAC</th>\n      <th>blcdb9-I.CPTAC</th>\n      <th>c4155b-C.CPTAC</th>\n    </tr>\n  </thead>\n  <tbody>\n    <tr>\n      <th>0</th>\n      <td>NP_958782</td>\n      <td>PLEC</td>\n      <td>plectin isoform 1</td>\n      <td>1.096131</td>\n      <td>2.609943</td>\n      <td>-0.659828</td>\n      <td>0.195341</td>\n      <td>-0.494060</td>\n      <td>2.765081</td>\n      <td>0.862659</td>\n      <td>...</td>\n      <td>-0.963904</td>\n      <td>-0.487772</td>\n      <td>-0.106680</td>\n      <td>-0.065838</td>\n      <td>0.655850</td>\n      <td>-0.552212</td>\n      <td>-0.398560</td>\n      <td>0.598585</td>\n      <td>-0.191285</td>\n      <td>0.566975</td>\n    </tr>\n    <tr>\n      <th>1</th>\n      <td>NP_958785</td>\n      <td>NaN</td>\n      <td>plectin isoform 1g</td>\n      <td>1.111370</td>\n      <td>2.650422</td>\n      <td>-0.648742</td>\n      <td>0.215413</td>\n      <td>-0.503899</td>\n      <td>2.779709</td>\n      <td>0.870186</td>\n      <td>...</td>\n      <td>-0.938210</td>\n      <td>-0.487772</td>\n      <td>-0.106680</td>\n      <td>-0.055893</td>\n      <td>0.658143</td>\n      <td>-0.547749</td>\n      <td>-0.392601</td>\n      <td>0.606697</td>\n      <td>-0.183918</td>\n      <td>0.578702</td>\n    </tr>\n    <tr>\n      <th>2</th>\n      <td>NP_958786</td>\n      <td>PLEC</td>\n      <td>plectin isoform 1a</td>\n      <td>1.111370</td>\n      <td>2.650422</td>\n      <td>-0.654285</td>\n      <td>0.215413</td>\n      <td>-0.500619</td>\n      <td>2.779709</td>\n      <td>0.870186</td>\n      <td>...</td>\n      <td>-0.943919</td>\n      <td>-0.487772</td>\n      <td>-0.106680</td>\n      <td>-0.065838</td>\n      <td>0.655850</td>\n      <td>-0.552212</td>\n      <td>-0.392601</td>\n      <td>0.603993</td>\n      <td>-0.186022</td>\n      <td>0.576747</td>\n    </tr>\n    <tr>\n      <th>3</th>\n      <td>NP_000436</td>\n      <td>NaN</td>\n      <td>plectin isoform 1c</td>\n      <td>1.107561</td>\n      <td>2.646374</td>\n      <td>-0.632113</td>\n      <td>0.205377</td>\n      <td>-0.510459</td>\n      <td>2.797995</td>\n      <td>0.866423</td>\n      <td>...</td>\n      <td>-0.935355</td>\n      <td>-0.487772</td>\n      <td>-0.106680</td>\n      <td>-0.055893</td>\n      <td>0.655850</td>\n      <td>-0.552212</td>\n      <td>-0.392601</td>\n      <td>0.603993</td>\n      <td>-0.186022</td>\n      <td>0.576747</td>\n    </tr>\n    <tr>\n      <th>4</th>\n      <td>NP_958781</td>\n      <td>NaN</td>\n      <td>plectin isoform 1e</td>\n      <td>1.115180</td>\n      <td>2.646374</td>\n      <td>-0.640428</td>\n      <td>0.215413</td>\n      <td>-0.503899</td>\n      <td>2.787023</td>\n      <td>0.870186</td>\n      <td>...</td>\n      <td>-0.935355</td>\n      <td>-0.503853</td>\n      <td>-0.106680</td>\n      <td>-0.062523</td>\n      <td>0.651264</td>\n      <td>-0.556675</td>\n      <td>-0.395581</td>\n      <td>0.603993</td>\n      <td>-0.167079</td>\n      <td>0.576747</td>\n    </tr>\n    <tr>\n      <th>5</th>\n      <td>NP_958780</td>\n      <td>PLEC</td>\n      <td>plectin isoform 1f</td>\n      <td>1.107561</td>\n      <td>2.646374</td>\n      <td>-0.654285</td>\n      <td>0.215413</td>\n      <td>-0.503899</td>\n      <td>2.779709</td>\n      <td>0.870186</td>\n      <td>...</td>\n      <td>-0.938210</td>\n      <td>-0.487772</td>\n      <td>-0.106680</td>\n      <td>-0.055893</td>\n      <td>0.658143</td>\n      <td>-0.547749</td>\n      <td>-0.392601</td>\n      <td>0.606697</td>\n      <td>-0.183918</td>\n      <td>0.578702</td>\n    </tr>\n    <tr>\n      <th>6</th>\n      <td>NP_958783</td>\n      <td>PLEC</td>\n      <td>plectin isoform 1d</td>\n      <td>1.111370</td>\n      <td>2.650422</td>\n      <td>-0.648742</td>\n      <td>0.215413</td>\n      <td>-0.500619</td>\n      <td>2.783366</td>\n      <td>0.870186</td>\n      <td>...</td>\n      <td>-0.943919</td>\n      <td>-0.487772</td>\n      <td>-0.106680</td>\n      <td>-0.062523</td>\n      <td>0.655850</td>\n      <td>-0.552212</td>\n      <td>-0.392601</td>\n      <td>0.603993</td>\n      <td>-0.186022</td>\n      <td>0.576747</td>\n    </tr>\n    <tr>\n      <th>7</th>\n      <td>NP_958784</td>\n      <td>NaN</td>\n      <td>plectin isoform 1b</td>\n      <td>1.111370</td>\n      <td>2.650422</td>\n      <td>-0.648742</td>\n      <td>0.215413</td>\n      <td>-0.500619</td>\n      <td>2.783366</td>\n      <td>0.870186</td>\n      <td>...</td>\n      <td>-0.943919</td>\n      <td>-0.487772</td>\n      <td>-0.106680</td>\n      <td>-0.062523</td>\n      <td>0.655850</td>\n      <td>-0.552212</td>\n      <td>-0.392601</td>\n      <td>0.603993</td>\n      <td>-0.186022</td>\n      <td>0.576747</td>\n    </tr>\n    <tr>\n      <th>8</th>\n      <td>NP_112598</td>\n      <td>NaN</td>\n      <td>epiplakin</td>\n      <td>-1.517390</td>\n      <td>3.909313</td>\n      <td>-0.618256</td>\n      <td>-1.035760</td>\n      <td>-1.845366</td>\n      <td>2.205538</td>\n      <td>1.920171</td>\n      <td>...</td>\n      <td>-1.252252</td>\n      <td>-1.626289</td>\n      <td>0.025189</td>\n      <td>-2.187600</td>\n      <td>-1.969534</td>\n      <td>0.679466</td>\n      <td>-2.504862</td>\n      <td>-0.602132</td>\n      <td>-0.340726</td>\n      <td>-0.205013</td>\n    </tr>\n    <tr>\n      <th>9</th>\n      <td>NP_001611</td>\n      <td>AHNAK</td>\n      <td>neuroblast differentiation-associated protein ...</td>\n      <td>0.482754</td>\n      <td>-1.045294</td>\n      <td>1.222003</td>\n      <td>-0.517226</td>\n      <td>-0.405503</td>\n      <td>0.749997</td>\n      <td>2.349197</td>\n      <td>...</td>\n      <td>1.325752</td>\n      <td>0.731148</td>\n      <td>-1.177327</td>\n      <td>0.709931</td>\n      <td>1.307036</td>\n      <td>0.487574</td>\n      <td>0.694810</td>\n      <td>2.778263</td>\n      <td>1.367330</td>\n      <td>3.215190</td>\n    </tr>\n  </tbody>\n</table>\n<p>10 rows × 86 columns</p>\n</div>"
     },
     "execution_count": 229,
     "metadata": {},
     "output_type": "execute_result"
    }
   ],
   "source": [
    "itraq.head(10)"
   ],
   "metadata": {
    "collapsed": false,
    "ExecuteTime": {
     "end_time": "2024-07-28T12:19:36.818506Z",
     "start_time": "2024-07-28T12:19:36.777318Z"
    }
   },
   "id": "e55acbdf04c5a624",
   "execution_count": 229
  },
  {
   "cell_type": "code",
   "outputs": [
    {
     "name": "stdout",
     "output_type": "stream",
     "text": [
      "<class 'pandas.core.frame.DataFrame'>\n",
      "RangeIndex: 12553 entries, 0 to 12552\n",
      "Data columns (total 86 columns):\n",
      " #   Column                   Non-Null Count  Dtype  \n",
      "---  ------                   --------------  -----  \n",
      " 0   RefSeq_accession_number  12553 non-null  object \n",
      " 1   gene_symbol              10773 non-null  object \n",
      " 2   gene_name                12553 non-null  object \n",
      " 3   AO-A12D.01TCGA           11334 non-null  float64\n",
      " 4   C8-A131.01TCGA           11335 non-null  float64\n",
      " 5   AO-A12B.01TCGA           11334 non-null  float64\n",
      " 6   BH-A18Q.02TCGA           12024 non-null  float64\n",
      " 7   C8-A130.02TCGA           12025 non-null  float64\n",
      " 8   C8-A138.03TCGA           11833 non-null  float64\n",
      " 9   E2-A154.03TCGA           11833 non-null  float64\n",
      " 10  C8-A12L.04TCGA           11732 non-null  float64\n",
      " 11  A2-A0EX.04TCGA           11732 non-null  float64\n",
      " 12  AO-A12D.05TCGA           11276 non-null  float64\n",
      " 13  AN-A04A.05TCGA           11276 non-null  float64\n",
      " 14  BH-A0AV.05TCGA           11274 non-null  float64\n",
      " 15  C8-A12T.06TCGA           11132 non-null  float64\n",
      " 16  A8-A06Z.07TCGA           10871 non-null  float64\n",
      " 17  A2-A0CM.07TCGA           10871 non-null  float64\n",
      " 18  BH-A18U.08TCGA           10980 non-null  float64\n",
      " 19  A2-A0EQ.08TCGA           10980 non-null  float64\n",
      " 20  AR-A0U4.09TCGA           10748 non-null  float64\n",
      " 21  AO-A0J9.10TCGA           11152 non-null  float64\n",
      " 22  AR-A1AP.11TCGA           11579 non-null  float64\n",
      " 23  AN-A0FK.11TCGA           11579 non-null  float64\n",
      " 24  AO-A0J6.11TCGA           11578 non-null  float64\n",
      " 25  A7-A13F.12TCGA           11108 non-null  float64\n",
      " 26  BH-A0E1.12TCGA           11108 non-null  float64\n",
      " 27  A7-A0CE.13TCGA           11145 non-null  float64\n",
      " 28  A2-A0YC.13TCGA           11145 non-null  float64\n",
      " 29  AO-A0JC.14TCGA           10919 non-null  float64\n",
      " 30  A8-A08Z.14TCGA           10919 non-null  float64\n",
      " 31  AR-A0TX.14TCGA           10916 non-null  float64\n",
      " 32  A8-A076.15TCGA           11269 non-null  float64\n",
      " 33  AO-A126.15TCGA           11269 non-null  float64\n",
      " 34  BH-A0C1.16TCGA           11380 non-null  float64\n",
      " 35  A2-A0EY.16TCGA           11380 non-null  float64\n",
      " 36  AR-A1AW.17TCGA           10893 non-null  float64\n",
      " 37  AR-A1AV.17TCGA           10893 non-null  float64\n",
      " 38  C8-A135.17TCGA           10892 non-null  float64\n",
      " 39  A2-A0EV.18TCGA           11477 non-null  float64\n",
      " 40  AN-A0AM.18TCGA           11477 non-null  float64\n",
      " 41  D8-A142.18TCGA           11477 non-null  float64\n",
      " 42  AN-A0FL.19TCGA           11281 non-null  float64\n",
      " 43  BH-A0DG.19TCGA           11281 non-null  float64\n",
      " 44  AR-A0TV.20TCGA           11801 non-null  float64\n",
      " 45  C8-A12Z.20TCGA           11800 non-null  float64\n",
      " 46  AO-A0JJ.20TCGA           11801 non-null  float64\n",
      " 47  AO-A0JE.21TCGA           11277 non-null  float64\n",
      " 48  AN-A0AJ.21TCGA           11277 non-null  float64\n",
      " 49  A7-A0CJ.22TCGA           11519 non-null  float64\n",
      " 50  AO-A12F.22TCGA           11519 non-null  float64\n",
      " 51  A8-A079.23TCGA           11418 non-null  float64\n",
      " 52  A2-A0T3.24TCGA           11512 non-null  float64\n",
      " 53  A2-A0YD.24TCGA           11512 non-null  float64\n",
      " 54  AR-A0TR.25TCGA           11950 non-null  float64\n",
      " 55  AO-A03O.25TCGA           11950 non-null  float64\n",
      " 56  AO-A12E.26TCGA           10850 non-null  float64\n",
      " 57  A8-A06N.26TCGA           10850 non-null  float64\n",
      " 58  A2-A0YG.27TCGA           11215 non-null  float64\n",
      " 59  BH-A18N.27TCGA           11215 non-null  float64\n",
      " 60  AN-A0AL.28TCGA           10866 non-null  float64\n",
      " 61  A2-A0T6.29TCGA           11280 non-null  float64\n",
      " 62  E2-A158.29TCGA           11281 non-null  float64\n",
      " 63  E2-A15A.29TCGA           11281 non-null  float64\n",
      " 64  AO-A0JM.30TCGA           11618 non-null  float64\n",
      " 65  C8-A12V.30TCGA           11619 non-null  float64\n",
      " 66  A2-A0D2.31TCGA           11706 non-null  float64\n",
      " 67  C8-A12U.31TCGA           11706 non-null  float64\n",
      " 68  AR-A1AS.31TCGA           11706 non-null  float64\n",
      " 69  A8-A09G.32TCGA           11397 non-null  float64\n",
      " 70  C8-A131.32TCGA           11397 non-null  float64\n",
      " 71  C8-A134.32TCGA           11397 non-null  float64\n",
      " 72  A2-A0YF.33TCGA           11224 non-null  float64\n",
      " 73  BH-A0DD.33TCGA           11224 non-null  float64\n",
      " 74  BH-A0E9.33TCGA           11224 non-null  float64\n",
      " 75  AR-A0TT.34TCGA           11477 non-null  float64\n",
      " 76  AO-A12B.34TCGA           11477 non-null  float64\n",
      " 77  A2-A0SW.35TCGA           10324 non-null  float64\n",
      " 78  AO-A0JL.35TCGA           10324 non-null  float64\n",
      " 79  BH-A0BV.35TCGA           10324 non-null  float64\n",
      " 80  A2-A0YM.36TCGA           9694 non-null   float64\n",
      " 81  BH-A0C7.36TCGA           9693 non-null   float64\n",
      " 82  A2-A0SX.36TCGA           9697 non-null   float64\n",
      " 83  263d3f-I.CPTAC           10912 non-null  float64\n",
      " 84  blcdb9-I.CPTAC           10885 non-null  float64\n",
      " 85  c4155b-C.CPTAC           10913 non-null  float64\n",
      "dtypes: float64(83), object(3)\n",
      "memory usage: 8.2+ MB\n"
     ]
    }
   ],
   "source": [
    "itraq.info()"
   ],
   "metadata": {
    "collapsed": false,
    "ExecuteTime": {
     "end_time": "2024-07-28T12:19:38.630209Z",
     "start_time": "2024-07-28T12:19:38.601642Z"
    }
   },
   "id": "62e253a491205d8c",
   "execution_count": 230
  },
  {
   "cell_type": "code",
   "outputs": [
    {
     "data": {
      "text/plain": "RefSeq_accession_number       0\ngene_symbol                1780\ngene_name                     0\nAO-A12D.01TCGA             1219\nC8-A131.01TCGA             1218\n                           ... \nBH-A0C7.36TCGA             2860\nA2-A0SX.36TCGA             2856\n263d3f-I.CPTAC             1641\nblcdb9-I.CPTAC             1668\nc4155b-C.CPTAC             1640\nLength: 86, dtype: int64"
     },
     "execution_count": 231,
     "metadata": {},
     "output_type": "execute_result"
    }
   ],
   "source": [
    "itraq.isnull().sum()"
   ],
   "metadata": {
    "collapsed": false,
    "ExecuteTime": {
     "end_time": "2024-07-28T12:19:39.921314Z",
     "start_time": "2024-07-28T12:19:39.903106Z"
    }
   },
   "id": "421d999da43b295c",
   "execution_count": 231
  },
  {
   "cell_type": "code",
   "outputs": [
    {
     "data": {
      "text/plain": "       AO-A12D.01TCGA  C8-A131.01TCGA  AO-A12B.01TCGA  BH-A18Q.02TCGA  \\\ncount    11334.000000    11335.000000    11334.000000    12024.000000   \nmean         0.133079        0.128822       -0.440764       -0.729233   \nstd          1.734231        1.579845        1.634930        2.422452   \nmin        -12.466750      -13.156553       -9.911008      -24.553794   \n25%         -0.656376       -0.583835       -1.330525       -1.266591   \n50%          0.078915        0.116448       -0.318937       -0.296430   \n75%          0.905641        0.853163        0.489641        0.449590   \nmax         17.623036       12.677023        8.289261       11.790434   \n\n       C8-A130.02TCGA  C8-A138.03TCGA  E2-A154.03TCGA  C8-A12L.04TCGA  \\\ncount    12025.000000    11833.000000    11833.000000    11732.000000   \nmean        -0.039436        0.115353       -0.618354       -0.305320   \nstd          1.353505        1.652918        2.281818        1.567687   \nmin        -15.004199      -12.956961      -16.640848      -18.710032   \n25%         -0.671172       -0.679944       -1.278707       -0.991299   \n50%          0.024160        0.088055       -0.157218       -0.231885   \n75%          0.719492        0.929197        0.670727        0.483663   \nmax          6.925004       10.602330       10.079191        8.804312   \n\n       A2-A0EX.04TCGA  AO-A12D.05TCGA  ...  AO-A12B.34TCGA  A2-A0SW.35TCGA  \\\ncount    11732.000000    11276.000000  ...    11477.000000    10324.000000   \nmean        -0.021228        0.077247  ...       -0.677085       -0.103215   \nstd          1.651917        1.749695  ...        2.018394        1.570606   \nmin        -14.711526      -13.441463  ...      -12.497832      -12.152747   \n25%         -0.718023       -0.728075  ...       -1.731881       -0.815820   \n50%          0.037039        0.045209  ...       -0.444306       -0.056808   \n75%          0.750830        0.862472  ...        0.500677        0.657177   \nmax          9.548006       13.066445  ...        8.839935       10.694780   \n\n       AO-A0JL.35TCGA  BH-A0BV.35TCGA  A2-A0YM.36TCGA  BH-A0C7.36TCGA  \\\ncount    10324.000000    10324.000000     9694.000000     9693.000000   \nmean        -0.021222       -0.100912        0.488502       -0.368762   \nstd          1.656519        1.628017        1.658080        1.453737   \nmin        -11.874381      -11.128835       -8.772601      -10.427946   \n25%         -0.740905       -0.805968       -0.497485       -1.063180   \n50%          0.023619       -0.037659        0.314206       -0.204129   \n75%          0.800701        0.714075        1.276655        0.521043   \nmax         11.309371       12.638208       11.164262        7.886564   \n\n       A2-A0SX.36TCGA  263d3f-I.CPTAC  blcdb9-I.CPTAC  c4155b-C.CPTAC  \ncount     9697.000000    10912.000000    10885.000000    10913.000000  \nmean        -0.050669        0.069555       -0.298170        0.310974  \nstd          1.716237        1.950822        1.307027        1.706759  \nmin        -12.967849      -12.609296       -9.058864       -6.328154  \n25%         -0.934818       -0.867155       -1.056363       -0.652571  \n50%         -0.079784        0.052313       -0.191285        0.137007  \n75%          0.757374        1.009641        0.574868        1.059485  \nmax         11.521261       16.183559        6.435721       10.497291  \n\n[8 rows x 83 columns]",
      "text/html": "<div>\n<style scoped>\n    .dataframe tbody tr th:only-of-type {\n        vertical-align: middle;\n    }\n\n    .dataframe tbody tr th {\n        vertical-align: top;\n    }\n\n    .dataframe thead th {\n        text-align: right;\n    }\n</style>\n<table border=\"1\" class=\"dataframe\">\n  <thead>\n    <tr style=\"text-align: right;\">\n      <th></th>\n      <th>AO-A12D.01TCGA</th>\n      <th>C8-A131.01TCGA</th>\n      <th>AO-A12B.01TCGA</th>\n      <th>BH-A18Q.02TCGA</th>\n      <th>C8-A130.02TCGA</th>\n      <th>C8-A138.03TCGA</th>\n      <th>E2-A154.03TCGA</th>\n      <th>C8-A12L.04TCGA</th>\n      <th>A2-A0EX.04TCGA</th>\n      <th>AO-A12D.05TCGA</th>\n      <th>...</th>\n      <th>AO-A12B.34TCGA</th>\n      <th>A2-A0SW.35TCGA</th>\n      <th>AO-A0JL.35TCGA</th>\n      <th>BH-A0BV.35TCGA</th>\n      <th>A2-A0YM.36TCGA</th>\n      <th>BH-A0C7.36TCGA</th>\n      <th>A2-A0SX.36TCGA</th>\n      <th>263d3f-I.CPTAC</th>\n      <th>blcdb9-I.CPTAC</th>\n      <th>c4155b-C.CPTAC</th>\n    </tr>\n  </thead>\n  <tbody>\n    <tr>\n      <th>count</th>\n      <td>11334.000000</td>\n      <td>11335.000000</td>\n      <td>11334.000000</td>\n      <td>12024.000000</td>\n      <td>12025.000000</td>\n      <td>11833.000000</td>\n      <td>11833.000000</td>\n      <td>11732.000000</td>\n      <td>11732.000000</td>\n      <td>11276.000000</td>\n      <td>...</td>\n      <td>11477.000000</td>\n      <td>10324.000000</td>\n      <td>10324.000000</td>\n      <td>10324.000000</td>\n      <td>9694.000000</td>\n      <td>9693.000000</td>\n      <td>9697.000000</td>\n      <td>10912.000000</td>\n      <td>10885.000000</td>\n      <td>10913.000000</td>\n    </tr>\n    <tr>\n      <th>mean</th>\n      <td>0.133079</td>\n      <td>0.128822</td>\n      <td>-0.440764</td>\n      <td>-0.729233</td>\n      <td>-0.039436</td>\n      <td>0.115353</td>\n      <td>-0.618354</td>\n      <td>-0.305320</td>\n      <td>-0.021228</td>\n      <td>0.077247</td>\n      <td>...</td>\n      <td>-0.677085</td>\n      <td>-0.103215</td>\n      <td>-0.021222</td>\n      <td>-0.100912</td>\n      <td>0.488502</td>\n      <td>-0.368762</td>\n      <td>-0.050669</td>\n      <td>0.069555</td>\n      <td>-0.298170</td>\n      <td>0.310974</td>\n    </tr>\n    <tr>\n      <th>std</th>\n      <td>1.734231</td>\n      <td>1.579845</td>\n      <td>1.634930</td>\n      <td>2.422452</td>\n      <td>1.353505</td>\n      <td>1.652918</td>\n      <td>2.281818</td>\n      <td>1.567687</td>\n      <td>1.651917</td>\n      <td>1.749695</td>\n      <td>...</td>\n      <td>2.018394</td>\n      <td>1.570606</td>\n      <td>1.656519</td>\n      <td>1.628017</td>\n      <td>1.658080</td>\n      <td>1.453737</td>\n      <td>1.716237</td>\n      <td>1.950822</td>\n      <td>1.307027</td>\n      <td>1.706759</td>\n    </tr>\n    <tr>\n      <th>min</th>\n      <td>-12.466750</td>\n      <td>-13.156553</td>\n      <td>-9.911008</td>\n      <td>-24.553794</td>\n      <td>-15.004199</td>\n      <td>-12.956961</td>\n      <td>-16.640848</td>\n      <td>-18.710032</td>\n      <td>-14.711526</td>\n      <td>-13.441463</td>\n      <td>...</td>\n      <td>-12.497832</td>\n      <td>-12.152747</td>\n      <td>-11.874381</td>\n      <td>-11.128835</td>\n      <td>-8.772601</td>\n      <td>-10.427946</td>\n      <td>-12.967849</td>\n      <td>-12.609296</td>\n      <td>-9.058864</td>\n      <td>-6.328154</td>\n    </tr>\n    <tr>\n      <th>25%</th>\n      <td>-0.656376</td>\n      <td>-0.583835</td>\n      <td>-1.330525</td>\n      <td>-1.266591</td>\n      <td>-0.671172</td>\n      <td>-0.679944</td>\n      <td>-1.278707</td>\n      <td>-0.991299</td>\n      <td>-0.718023</td>\n      <td>-0.728075</td>\n      <td>...</td>\n      <td>-1.731881</td>\n      <td>-0.815820</td>\n      <td>-0.740905</td>\n      <td>-0.805968</td>\n      <td>-0.497485</td>\n      <td>-1.063180</td>\n      <td>-0.934818</td>\n      <td>-0.867155</td>\n      <td>-1.056363</td>\n      <td>-0.652571</td>\n    </tr>\n    <tr>\n      <th>50%</th>\n      <td>0.078915</td>\n      <td>0.116448</td>\n      <td>-0.318937</td>\n      <td>-0.296430</td>\n      <td>0.024160</td>\n      <td>0.088055</td>\n      <td>-0.157218</td>\n      <td>-0.231885</td>\n      <td>0.037039</td>\n      <td>0.045209</td>\n      <td>...</td>\n      <td>-0.444306</td>\n      <td>-0.056808</td>\n      <td>0.023619</td>\n      <td>-0.037659</td>\n      <td>0.314206</td>\n      <td>-0.204129</td>\n      <td>-0.079784</td>\n      <td>0.052313</td>\n      <td>-0.191285</td>\n      <td>0.137007</td>\n    </tr>\n    <tr>\n      <th>75%</th>\n      <td>0.905641</td>\n      <td>0.853163</td>\n      <td>0.489641</td>\n      <td>0.449590</td>\n      <td>0.719492</td>\n      <td>0.929197</td>\n      <td>0.670727</td>\n      <td>0.483663</td>\n      <td>0.750830</td>\n      <td>0.862472</td>\n      <td>...</td>\n      <td>0.500677</td>\n      <td>0.657177</td>\n      <td>0.800701</td>\n      <td>0.714075</td>\n      <td>1.276655</td>\n      <td>0.521043</td>\n      <td>0.757374</td>\n      <td>1.009641</td>\n      <td>0.574868</td>\n      <td>1.059485</td>\n    </tr>\n    <tr>\n      <th>max</th>\n      <td>17.623036</td>\n      <td>12.677023</td>\n      <td>8.289261</td>\n      <td>11.790434</td>\n      <td>6.925004</td>\n      <td>10.602330</td>\n      <td>10.079191</td>\n      <td>8.804312</td>\n      <td>9.548006</td>\n      <td>13.066445</td>\n      <td>...</td>\n      <td>8.839935</td>\n      <td>10.694780</td>\n      <td>11.309371</td>\n      <td>12.638208</td>\n      <td>11.164262</td>\n      <td>7.886564</td>\n      <td>11.521261</td>\n      <td>16.183559</td>\n      <td>6.435721</td>\n      <td>10.497291</td>\n    </tr>\n  </tbody>\n</table>\n<p>8 rows × 83 columns</p>\n</div>"
     },
     "execution_count": 232,
     "metadata": {},
     "output_type": "execute_result"
    }
   ],
   "source": [
    "itraq.describe()"
   ],
   "metadata": {
    "collapsed": false,
    "ExecuteTime": {
     "end_time": "2024-07-28T12:19:41.607366Z",
     "start_time": "2024-07-28T12:19:41.333746Z"
    }
   },
   "id": "cc218c12d7056c6d",
   "execution_count": 232
  },
  {
   "cell_type": "code",
   "outputs": [],
   "source": [
    "patient=pd.read_csv(r\"C:\\Users\\sujal\\PycharmProjects\\KMeanNeighbourBreastCancer\\dataset\\clinical_data_breast_cancer.csv\")"
   ],
   "metadata": {
    "collapsed": false,
    "ExecuteTime": {
     "end_time": "2024-07-28T12:26:31.180586Z",
     "start_time": "2024-07-28T12:26:31.169242Z"
    }
   },
   "id": "3a34021083fdd67d",
   "execution_count": 322
  },
  {
   "cell_type": "code",
   "outputs": [
    {
     "data": {
      "text/plain": "  Complete TCGA ID  Gender  Age at Initial Pathologic Diagnosis ER Status  \\\n0     TCGA-A2-A0T2  FEMALE                                   66  Negative   \n1     TCGA-A2-A0CM  FEMALE                                   40  Negative   \n2     TCGA-BH-A18V  FEMALE                                   48  Negative   \n3     TCGA-BH-A18Q  FEMALE                                   56  Negative   \n4     TCGA-BH-A0E0  FEMALE                                   38  Negative   \n5     TCGA-A7-A0CE  FEMALE                                   57  Negative   \n6     TCGA-D8-A142  FEMALE                                   74  Negative   \n7     TCGA-A2-A0D0  FEMALE                                   60  Negative   \n8     TCGA-AO-A0J6  FEMALE                                   61  Negative   \n9     TCGA-A2-A0YM  FEMALE                                   67  Negative   \n\n  PR Status HER2 Final Status Tumor Tumor--T1 Coded Node Node-Coded  ...  \\\n0  Negative          Negative    T3         T_Other   N3   Positive  ...   \n1  Negative          Negative    T2         T_Other   N0   Negative  ...   \n2  Negative          Negative    T2         T_Other   N1   Positive  ...   \n3  Negative          Negative    T2         T_Other   N1   Positive  ...   \n4  Negative          Negative    T3         T_Other   N3   Positive  ...   \n5  Negative          Negative    T2         T_Other   N0   Negative  ...   \n6  Negative          Negative    T3         T_Other   N0   Negative  ...   \n7  Negative          Negative    T2         T_Other   N0   Negative  ...   \n8  Negative          Negative    T2         T_Other   N0   Negative  ...   \n9  Negative          Negative    T2         T_Other   N0   Negative  ...   \n\n   PAM50 mRNA SigClust Unsupervised mRNA SigClust Intrinsic mRNA  \\\n0  Basal-like                          0                     -13   \n1  Basal-like                        -12                     -13   \n2  Basal-like                        -12                     -13   \n3  Basal-like                        -12                     -13   \n4  Basal-like                          0                     -13   \n5  Basal-like                          0                     -13   \n6  Basal-like                          0                     -13   \n7  Basal-like                        -12                     -13   \n8  Basal-like                        -12                     -13   \n9  Basal-like                        -12                     -13   \n\n  miRNA Clusters methylation Clusters RPPA Clusters  CN Clusters  \\\n0              3                    5         Basal            3   \n1              4                    4         Basal            4   \n2              5                    5         Basal            1   \n3              5                    5         Basal            1   \n4              5                    5         Basal            1   \n5              5                    5         Basal            1   \n6              3                    5             X            1   \n7              5                    5         Basal            1   \n8              2                    5         Basal            1   \n9              5                    5         Basal            3   \n\n   Integrated Clusters (with PAM50)  Integrated Clusters (no exp)  \\\n0                                 2                             2   \n1                                 2                             1   \n2                                 2                             2   \n3                                 2                             2   \n4                                 2                             2   \n5                                 2                             2   \n6                                 2                             2   \n7                                 2                             2   \n8                                 2                             2   \n9                                 2                             2   \n\n   Integrated Clusters (unsup exp)  \n0                                2  \n1                                1  \n2                                2  \n3                                2  \n4                                2  \n5                                2  \n6                                2  \n7                                2  \n8                                2  \n9                                2  \n\n[10 rows x 30 columns]",
      "text/html": "<div>\n<style scoped>\n    .dataframe tbody tr th:only-of-type {\n        vertical-align: middle;\n    }\n\n    .dataframe tbody tr th {\n        vertical-align: top;\n    }\n\n    .dataframe thead th {\n        text-align: right;\n    }\n</style>\n<table border=\"1\" class=\"dataframe\">\n  <thead>\n    <tr style=\"text-align: right;\">\n      <th></th>\n      <th>Complete TCGA ID</th>\n      <th>Gender</th>\n      <th>Age at Initial Pathologic Diagnosis</th>\n      <th>ER Status</th>\n      <th>PR Status</th>\n      <th>HER2 Final Status</th>\n      <th>Tumor</th>\n      <th>Tumor--T1 Coded</th>\n      <th>Node</th>\n      <th>Node-Coded</th>\n      <th>...</th>\n      <th>PAM50 mRNA</th>\n      <th>SigClust Unsupervised mRNA</th>\n      <th>SigClust Intrinsic mRNA</th>\n      <th>miRNA Clusters</th>\n      <th>methylation Clusters</th>\n      <th>RPPA Clusters</th>\n      <th>CN Clusters</th>\n      <th>Integrated Clusters (with PAM50)</th>\n      <th>Integrated Clusters (no exp)</th>\n      <th>Integrated Clusters (unsup exp)</th>\n    </tr>\n  </thead>\n  <tbody>\n    <tr>\n      <th>0</th>\n      <td>TCGA-A2-A0T2</td>\n      <td>FEMALE</td>\n      <td>66</td>\n      <td>Negative</td>\n      <td>Negative</td>\n      <td>Negative</td>\n      <td>T3</td>\n      <td>T_Other</td>\n      <td>N3</td>\n      <td>Positive</td>\n      <td>...</td>\n      <td>Basal-like</td>\n      <td>0</td>\n      <td>-13</td>\n      <td>3</td>\n      <td>5</td>\n      <td>Basal</td>\n      <td>3</td>\n      <td>2</td>\n      <td>2</td>\n      <td>2</td>\n    </tr>\n    <tr>\n      <th>1</th>\n      <td>TCGA-A2-A0CM</td>\n      <td>FEMALE</td>\n      <td>40</td>\n      <td>Negative</td>\n      <td>Negative</td>\n      <td>Negative</td>\n      <td>T2</td>\n      <td>T_Other</td>\n      <td>N0</td>\n      <td>Negative</td>\n      <td>...</td>\n      <td>Basal-like</td>\n      <td>-12</td>\n      <td>-13</td>\n      <td>4</td>\n      <td>4</td>\n      <td>Basal</td>\n      <td>4</td>\n      <td>2</td>\n      <td>1</td>\n      <td>1</td>\n    </tr>\n    <tr>\n      <th>2</th>\n      <td>TCGA-BH-A18V</td>\n      <td>FEMALE</td>\n      <td>48</td>\n      <td>Negative</td>\n      <td>Negative</td>\n      <td>Negative</td>\n      <td>T2</td>\n      <td>T_Other</td>\n      <td>N1</td>\n      <td>Positive</td>\n      <td>...</td>\n      <td>Basal-like</td>\n      <td>-12</td>\n      <td>-13</td>\n      <td>5</td>\n      <td>5</td>\n      <td>Basal</td>\n      <td>1</td>\n      <td>2</td>\n      <td>2</td>\n      <td>2</td>\n    </tr>\n    <tr>\n      <th>3</th>\n      <td>TCGA-BH-A18Q</td>\n      <td>FEMALE</td>\n      <td>56</td>\n      <td>Negative</td>\n      <td>Negative</td>\n      <td>Negative</td>\n      <td>T2</td>\n      <td>T_Other</td>\n      <td>N1</td>\n      <td>Positive</td>\n      <td>...</td>\n      <td>Basal-like</td>\n      <td>-12</td>\n      <td>-13</td>\n      <td>5</td>\n      <td>5</td>\n      <td>Basal</td>\n      <td>1</td>\n      <td>2</td>\n      <td>2</td>\n      <td>2</td>\n    </tr>\n    <tr>\n      <th>4</th>\n      <td>TCGA-BH-A0E0</td>\n      <td>FEMALE</td>\n      <td>38</td>\n      <td>Negative</td>\n      <td>Negative</td>\n      <td>Negative</td>\n      <td>T3</td>\n      <td>T_Other</td>\n      <td>N3</td>\n      <td>Positive</td>\n      <td>...</td>\n      <td>Basal-like</td>\n      <td>0</td>\n      <td>-13</td>\n      <td>5</td>\n      <td>5</td>\n      <td>Basal</td>\n      <td>1</td>\n      <td>2</td>\n      <td>2</td>\n      <td>2</td>\n    </tr>\n    <tr>\n      <th>5</th>\n      <td>TCGA-A7-A0CE</td>\n      <td>FEMALE</td>\n      <td>57</td>\n      <td>Negative</td>\n      <td>Negative</td>\n      <td>Negative</td>\n      <td>T2</td>\n      <td>T_Other</td>\n      <td>N0</td>\n      <td>Negative</td>\n      <td>...</td>\n      <td>Basal-like</td>\n      <td>0</td>\n      <td>-13</td>\n      <td>5</td>\n      <td>5</td>\n      <td>Basal</td>\n      <td>1</td>\n      <td>2</td>\n      <td>2</td>\n      <td>2</td>\n    </tr>\n    <tr>\n      <th>6</th>\n      <td>TCGA-D8-A142</td>\n      <td>FEMALE</td>\n      <td>74</td>\n      <td>Negative</td>\n      <td>Negative</td>\n      <td>Negative</td>\n      <td>T3</td>\n      <td>T_Other</td>\n      <td>N0</td>\n      <td>Negative</td>\n      <td>...</td>\n      <td>Basal-like</td>\n      <td>0</td>\n      <td>-13</td>\n      <td>3</td>\n      <td>5</td>\n      <td>X</td>\n      <td>1</td>\n      <td>2</td>\n      <td>2</td>\n      <td>2</td>\n    </tr>\n    <tr>\n      <th>7</th>\n      <td>TCGA-A2-A0D0</td>\n      <td>FEMALE</td>\n      <td>60</td>\n      <td>Negative</td>\n      <td>Negative</td>\n      <td>Negative</td>\n      <td>T2</td>\n      <td>T_Other</td>\n      <td>N0</td>\n      <td>Negative</td>\n      <td>...</td>\n      <td>Basal-like</td>\n      <td>-12</td>\n      <td>-13</td>\n      <td>5</td>\n      <td>5</td>\n      <td>Basal</td>\n      <td>1</td>\n      <td>2</td>\n      <td>2</td>\n      <td>2</td>\n    </tr>\n    <tr>\n      <th>8</th>\n      <td>TCGA-AO-A0J6</td>\n      <td>FEMALE</td>\n      <td>61</td>\n      <td>Negative</td>\n      <td>Negative</td>\n      <td>Negative</td>\n      <td>T2</td>\n      <td>T_Other</td>\n      <td>N0</td>\n      <td>Negative</td>\n      <td>...</td>\n      <td>Basal-like</td>\n      <td>-12</td>\n      <td>-13</td>\n      <td>2</td>\n      <td>5</td>\n      <td>Basal</td>\n      <td>1</td>\n      <td>2</td>\n      <td>2</td>\n      <td>2</td>\n    </tr>\n    <tr>\n      <th>9</th>\n      <td>TCGA-A2-A0YM</td>\n      <td>FEMALE</td>\n      <td>67</td>\n      <td>Negative</td>\n      <td>Negative</td>\n      <td>Negative</td>\n      <td>T2</td>\n      <td>T_Other</td>\n      <td>N0</td>\n      <td>Negative</td>\n      <td>...</td>\n      <td>Basal-like</td>\n      <td>-12</td>\n      <td>-13</td>\n      <td>5</td>\n      <td>5</td>\n      <td>Basal</td>\n      <td>3</td>\n      <td>2</td>\n      <td>2</td>\n      <td>2</td>\n    </tr>\n  </tbody>\n</table>\n<p>10 rows × 30 columns</p>\n</div>"
     },
     "execution_count": 323,
     "metadata": {},
     "output_type": "execute_result"
    }
   ],
   "source": [
    "patient.head(10)"
   ],
   "metadata": {
    "collapsed": false,
    "ExecuteTime": {
     "end_time": "2024-07-28T12:26:32.514164Z",
     "start_time": "2024-07-28T12:26:32.486001Z"
    }
   },
   "id": "77db5c35579e356",
   "execution_count": 323
  },
  {
   "cell_type": "code",
   "outputs": [
    {
     "data": {
      "text/plain": "Gender\nFEMALE    103\nMALE        2\nName: count, dtype: int64"
     },
     "execution_count": 324,
     "metadata": {},
     "output_type": "execute_result"
    }
   ],
   "source": [
    "patient.isnull().sum()\n",
    "patient['Gender'].value_counts()"
   ],
   "metadata": {
    "collapsed": false,
    "ExecuteTime": {
     "end_time": "2024-07-28T12:26:34.396360Z",
     "start_time": "2024-07-28T12:26:34.386847Z"
    }
   },
   "id": "20ee5217e8c697ac",
   "execution_count": 324
  },
  {
   "cell_type": "code",
   "outputs": [
    {
     "name": "stdout",
     "output_type": "stream",
     "text": [
      "<class 'pandas.core.frame.DataFrame'>\n",
      "RangeIndex: 105 entries, 0 to 104\n",
      "Data columns (total 30 columns):\n",
      " #   Column                               Non-Null Count  Dtype  \n",
      "---  ------                               --------------  -----  \n",
      " 0   Complete TCGA ID                     105 non-null    object \n",
      " 1   Gender                               105 non-null    object \n",
      " 2   Age at Initial Pathologic Diagnosis  105 non-null    int64  \n",
      " 3   ER Status                            105 non-null    object \n",
      " 4   PR Status                            105 non-null    object \n",
      " 5   HER2 Final Status                    105 non-null    object \n",
      " 6   Tumor                                105 non-null    object \n",
      " 7   Tumor--T1 Coded                      105 non-null    object \n",
      " 8   Node                                 105 non-null    object \n",
      " 9   Node-Coded                           105 non-null    object \n",
      " 10  Metastasis                           105 non-null    object \n",
      " 11  Metastasis-Coded                     105 non-null    object \n",
      " 12  AJCC Stage                           105 non-null    object \n",
      " 13  Converted Stage                      105 non-null    object \n",
      " 14  Survival Data Form                   105 non-null    object \n",
      " 15  Vital Status                         105 non-null    object \n",
      " 16  Days to Date of Last Contact         105 non-null    int64  \n",
      " 17  Days to date of Death                11 non-null     float64\n",
      " 18  OS event                             105 non-null    int64  \n",
      " 19  OS Time                              105 non-null    int64  \n",
      " 20  PAM50 mRNA                           105 non-null    object \n",
      " 21  SigClust Unsupervised mRNA           105 non-null    int64  \n",
      " 22  SigClust Intrinsic mRNA              105 non-null    int64  \n",
      " 23  miRNA Clusters                       105 non-null    int64  \n",
      " 24  methylation Clusters                 105 non-null    int64  \n",
      " 25  RPPA Clusters                        105 non-null    object \n",
      " 26  CN Clusters                          105 non-null    int64  \n",
      " 27  Integrated Clusters (with PAM50)     105 non-null    int64  \n",
      " 28  Integrated Clusters (no exp)         105 non-null    int64  \n",
      " 29  Integrated Clusters (unsup exp)      105 non-null    int64  \n",
      "dtypes: float64(1), int64(12), object(17)\n",
      "memory usage: 24.7+ KB\n"
     ]
    }
   ],
   "source": [
    "patient.info()"
   ],
   "metadata": {
    "collapsed": false,
    "ExecuteTime": {
     "end_time": "2024-07-28T12:26:36.846020Z",
     "start_time": "2024-07-28T12:26:36.831932Z"
    }
   },
   "id": "970ada56f571c617",
   "execution_count": 325
  },
  {
   "cell_type": "code",
   "outputs": [
    {
     "data": {
      "text/plain": "       Age at Initial Pathologic Diagnosis  Days to Date of Last Contact  \\\ncount                           105.000000                    105.000000   \nmean                             58.685714                    788.390476   \nstd                              13.066630                    645.283040   \nmin                              30.000000                      0.000000   \n25%                              49.000000                    240.000000   \n50%                              58.000000                    643.000000   \n75%                              67.000000                   1288.000000   \nmax                              88.000000                   2850.000000   \n\n       Days to date of Death    OS event      OS Time  \\\ncount              11.000000  105.000000   105.000000   \nmean             1254.454545    0.104762   817.647619   \nstd               678.050642    0.307715   672.026613   \nmin               160.000000    0.000000     0.000000   \n25%               947.500000    0.000000   240.000000   \n50%              1364.000000    0.000000   665.000000   \n75%              1627.500000    0.000000  1305.000000   \nmax              2483.000000    1.000000  2850.000000   \n\n       SigClust Unsupervised mRNA  SigClust Intrinsic mRNA  miRNA Clusters  \\\ncount                  105.000000               105.000000      105.000000   \nmean                    -4.885714                -7.180952        4.000000   \nstd                      3.558074                 5.022605        1.593255   \nmin                    -12.000000               -13.000000        1.000000   \n25%                     -6.000000               -12.000000        3.000000   \n50%                     -5.000000                -6.000000        4.000000   \n75%                     -3.000000                -2.000000        5.000000   \nmax                      0.000000                 0.000000        7.000000   \n\n       methylation Clusters  CN Clusters  Integrated Clusters (with PAM50)  \\\ncount            105.000000   105.000000                        105.000000   \nmean               3.342857     2.590476                          2.742857   \nstd                1.406226     1.342323                          1.074428   \nmin                1.000000     1.000000                          1.000000   \n25%                2.000000     1.000000                          2.000000   \n50%                4.000000     3.000000                          3.000000   \n75%                4.000000     3.000000                          4.000000   \nmax                5.000000     5.000000                          4.000000   \n\n       Integrated Clusters (no exp)  Integrated Clusters (unsup exp)  \ncount                    105.000000                       105.000000  \nmean                       1.980952                         2.352381  \nstd                        0.970537                         1.091761  \nmin                        1.000000                         1.000000  \n25%                        1.000000                         1.000000  \n50%                        2.000000                         2.000000  \n75%                        3.000000                         3.000000  \nmax                        4.000000                         5.000000  ",
      "text/html": "<div>\n<style scoped>\n    .dataframe tbody tr th:only-of-type {\n        vertical-align: middle;\n    }\n\n    .dataframe tbody tr th {\n        vertical-align: top;\n    }\n\n    .dataframe thead th {\n        text-align: right;\n    }\n</style>\n<table border=\"1\" class=\"dataframe\">\n  <thead>\n    <tr style=\"text-align: right;\">\n      <th></th>\n      <th>Age at Initial Pathologic Diagnosis</th>\n      <th>Days to Date of Last Contact</th>\n      <th>Days to date of Death</th>\n      <th>OS event</th>\n      <th>OS Time</th>\n      <th>SigClust Unsupervised mRNA</th>\n      <th>SigClust Intrinsic mRNA</th>\n      <th>miRNA Clusters</th>\n      <th>methylation Clusters</th>\n      <th>CN Clusters</th>\n      <th>Integrated Clusters (with PAM50)</th>\n      <th>Integrated Clusters (no exp)</th>\n      <th>Integrated Clusters (unsup exp)</th>\n    </tr>\n  </thead>\n  <tbody>\n    <tr>\n      <th>count</th>\n      <td>105.000000</td>\n      <td>105.000000</td>\n      <td>11.000000</td>\n      <td>105.000000</td>\n      <td>105.000000</td>\n      <td>105.000000</td>\n      <td>105.000000</td>\n      <td>105.000000</td>\n      <td>105.000000</td>\n      <td>105.000000</td>\n      <td>105.000000</td>\n      <td>105.000000</td>\n      <td>105.000000</td>\n    </tr>\n    <tr>\n      <th>mean</th>\n      <td>58.685714</td>\n      <td>788.390476</td>\n      <td>1254.454545</td>\n      <td>0.104762</td>\n      <td>817.647619</td>\n      <td>-4.885714</td>\n      <td>-7.180952</td>\n      <td>4.000000</td>\n      <td>3.342857</td>\n      <td>2.590476</td>\n      <td>2.742857</td>\n      <td>1.980952</td>\n      <td>2.352381</td>\n    </tr>\n    <tr>\n      <th>std</th>\n      <td>13.066630</td>\n      <td>645.283040</td>\n      <td>678.050642</td>\n      <td>0.307715</td>\n      <td>672.026613</td>\n      <td>3.558074</td>\n      <td>5.022605</td>\n      <td>1.593255</td>\n      <td>1.406226</td>\n      <td>1.342323</td>\n      <td>1.074428</td>\n      <td>0.970537</td>\n      <td>1.091761</td>\n    </tr>\n    <tr>\n      <th>min</th>\n      <td>30.000000</td>\n      <td>0.000000</td>\n      <td>160.000000</td>\n      <td>0.000000</td>\n      <td>0.000000</td>\n      <td>-12.000000</td>\n      <td>-13.000000</td>\n      <td>1.000000</td>\n      <td>1.000000</td>\n      <td>1.000000</td>\n      <td>1.000000</td>\n      <td>1.000000</td>\n      <td>1.000000</td>\n    </tr>\n    <tr>\n      <th>25%</th>\n      <td>49.000000</td>\n      <td>240.000000</td>\n      <td>947.500000</td>\n      <td>0.000000</td>\n      <td>240.000000</td>\n      <td>-6.000000</td>\n      <td>-12.000000</td>\n      <td>3.000000</td>\n      <td>2.000000</td>\n      <td>1.000000</td>\n      <td>2.000000</td>\n      <td>1.000000</td>\n      <td>1.000000</td>\n    </tr>\n    <tr>\n      <th>50%</th>\n      <td>58.000000</td>\n      <td>643.000000</td>\n      <td>1364.000000</td>\n      <td>0.000000</td>\n      <td>665.000000</td>\n      <td>-5.000000</td>\n      <td>-6.000000</td>\n      <td>4.000000</td>\n      <td>4.000000</td>\n      <td>3.000000</td>\n      <td>3.000000</td>\n      <td>2.000000</td>\n      <td>2.000000</td>\n    </tr>\n    <tr>\n      <th>75%</th>\n      <td>67.000000</td>\n      <td>1288.000000</td>\n      <td>1627.500000</td>\n      <td>0.000000</td>\n      <td>1305.000000</td>\n      <td>-3.000000</td>\n      <td>-2.000000</td>\n      <td>5.000000</td>\n      <td>4.000000</td>\n      <td>3.000000</td>\n      <td>4.000000</td>\n      <td>3.000000</td>\n      <td>3.000000</td>\n    </tr>\n    <tr>\n      <th>max</th>\n      <td>88.000000</td>\n      <td>2850.000000</td>\n      <td>2483.000000</td>\n      <td>1.000000</td>\n      <td>2850.000000</td>\n      <td>0.000000</td>\n      <td>0.000000</td>\n      <td>7.000000</td>\n      <td>5.000000</td>\n      <td>5.000000</td>\n      <td>4.000000</td>\n      <td>4.000000</td>\n      <td>5.000000</td>\n    </tr>\n  </tbody>\n</table>\n</div>"
     },
     "execution_count": 326,
     "metadata": {},
     "output_type": "execute_result"
    }
   ],
   "source": [
    "patient.describe()"
   ],
   "metadata": {
    "collapsed": false,
    "ExecuteTime": {
     "end_time": "2024-07-28T12:26:39.394138Z",
     "start_time": "2024-07-28T12:26:39.342428Z"
    }
   },
   "id": "60b538612f8ca029",
   "execution_count": 326
  },
  {
   "cell_type": "code",
   "outputs": [],
   "source": [
    "pam50_protein=pd.read_csv(r\"C:\\Users\\sujal\\PycharmProjects\\KMeanNeighbourBreastCancer\\dataset\\PAM50_proteins.csv\")"
   ],
   "metadata": {
    "collapsed": false,
    "ExecuteTime": {
     "end_time": "2024-07-28T12:19:51.935011Z",
     "start_time": "2024-07-28T12:19:51.925270Z"
    }
   },
   "id": "9c1042cfcc0f4194",
   "execution_count": 238
  },
  {
   "cell_type": "code",
   "outputs": [
    {
     "data": {
      "text/plain": "  GeneSymbol RefSeqProteinID       Species  \\\n0        MIA       NP_006524  Homo sapiens   \n1      FGFR4       NP_002002  Homo sapiens   \n2      FGFR4       NP_998812  Homo sapiens   \n3      FGFR4       NP_075252  Homo sapiens   \n4     GPR160       NP_055188  Homo sapiens   \n5     ACTR3B       NP_065178  Homo sapiens   \n6     ACTR3B    NP_001035225  Homo sapiens   \n7       MLPH    NP_001035932  Homo sapiens   \n8       MLPH       NP_077006  Homo sapiens   \n9      ERBB2    NP_001005862  Homo sapiens   \n\n                                           Gene Name  \n0                       melanoma inhibitory activity  \n1                fibroblast growth factor receptor 4  \n2                fibroblast growth factor receptor 4  \n3                fibroblast growth factor receptor 4  \n4                     G protein-coupled receptor 160  \n5     ARP3 actin-related protein 3 homolog B (yeast)  \n6     ARP3 actin-related protein 3 homolog B (yeast)  \n7                                       melanophilin  \n8                                       melanophilin  \n9  v-erb-b2 erythroblastic leukemia viral oncogen...  ",
      "text/html": "<div>\n<style scoped>\n    .dataframe tbody tr th:only-of-type {\n        vertical-align: middle;\n    }\n\n    .dataframe tbody tr th {\n        vertical-align: top;\n    }\n\n    .dataframe thead th {\n        text-align: right;\n    }\n</style>\n<table border=\"1\" class=\"dataframe\">\n  <thead>\n    <tr style=\"text-align: right;\">\n      <th></th>\n      <th>GeneSymbol</th>\n      <th>RefSeqProteinID</th>\n      <th>Species</th>\n      <th>Gene Name</th>\n    </tr>\n  </thead>\n  <tbody>\n    <tr>\n      <th>0</th>\n      <td>MIA</td>\n      <td>NP_006524</td>\n      <td>Homo sapiens</td>\n      <td>melanoma inhibitory activity</td>\n    </tr>\n    <tr>\n      <th>1</th>\n      <td>FGFR4</td>\n      <td>NP_002002</td>\n      <td>Homo sapiens</td>\n      <td>fibroblast growth factor receptor 4</td>\n    </tr>\n    <tr>\n      <th>2</th>\n      <td>FGFR4</td>\n      <td>NP_998812</td>\n      <td>Homo sapiens</td>\n      <td>fibroblast growth factor receptor 4</td>\n    </tr>\n    <tr>\n      <th>3</th>\n      <td>FGFR4</td>\n      <td>NP_075252</td>\n      <td>Homo sapiens</td>\n      <td>fibroblast growth factor receptor 4</td>\n    </tr>\n    <tr>\n      <th>4</th>\n      <td>GPR160</td>\n      <td>NP_055188</td>\n      <td>Homo sapiens</td>\n      <td>G protein-coupled receptor 160</td>\n    </tr>\n    <tr>\n      <th>5</th>\n      <td>ACTR3B</td>\n      <td>NP_065178</td>\n      <td>Homo sapiens</td>\n      <td>ARP3 actin-related protein 3 homolog B (yeast)</td>\n    </tr>\n    <tr>\n      <th>6</th>\n      <td>ACTR3B</td>\n      <td>NP_001035225</td>\n      <td>Homo sapiens</td>\n      <td>ARP3 actin-related protein 3 homolog B (yeast)</td>\n    </tr>\n    <tr>\n      <th>7</th>\n      <td>MLPH</td>\n      <td>NP_001035932</td>\n      <td>Homo sapiens</td>\n      <td>melanophilin</td>\n    </tr>\n    <tr>\n      <th>8</th>\n      <td>MLPH</td>\n      <td>NP_077006</td>\n      <td>Homo sapiens</td>\n      <td>melanophilin</td>\n    </tr>\n    <tr>\n      <th>9</th>\n      <td>ERBB2</td>\n      <td>NP_001005862</td>\n      <td>Homo sapiens</td>\n      <td>v-erb-b2 erythroblastic leukemia viral oncogen...</td>\n    </tr>\n  </tbody>\n</table>\n</div>"
     },
     "execution_count": 239,
     "metadata": {},
     "output_type": "execute_result"
    }
   ],
   "source": [
    "pam50_protein.head(10)"
   ],
   "metadata": {
    "collapsed": false,
    "ExecuteTime": {
     "end_time": "2024-07-28T12:19:53.147023Z",
     "start_time": "2024-07-28T12:19:53.134232Z"
    }
   },
   "id": "3c5c014620435460",
   "execution_count": 239
  },
  {
   "cell_type": "code",
   "outputs": [
    {
     "name": "stdout",
     "output_type": "stream",
     "text": [
      "<class 'pandas.core.frame.DataFrame'>\n",
      "RangeIndex: 100 entries, 0 to 99\n",
      "Data columns (total 4 columns):\n",
      " #   Column           Non-Null Count  Dtype \n",
      "---  ------           --------------  ----- \n",
      " 0   GeneSymbol       100 non-null    object\n",
      " 1   RefSeqProteinID  100 non-null    object\n",
      " 2   Species          100 non-null    object\n",
      " 3   Gene Name        100 non-null    object\n",
      "dtypes: object(4)\n",
      "memory usage: 3.3+ KB\n"
     ]
    }
   ],
   "source": [
    "pam50_protein.info()"
   ],
   "metadata": {
    "collapsed": false,
    "ExecuteTime": {
     "end_time": "2024-07-28T12:19:54.535540Z",
     "start_time": "2024-07-28T12:19:54.525009Z"
    }
   },
   "id": "fc599ec2f331f7a0",
   "execution_count": 240
  },
  {
   "cell_type": "code",
   "outputs": [
    {
     "data": {
      "text/plain": "GeneSymbol         0\nRefSeqProteinID    0\nSpecies            0\nGene Name          0\ndtype: int64"
     },
     "execution_count": 241,
     "metadata": {},
     "output_type": "execute_result"
    }
   ],
   "source": [
    "pam50_protein.isnull().sum()"
   ],
   "metadata": {
    "collapsed": false,
    "ExecuteTime": {
     "end_time": "2024-07-28T12:19:54.550641Z",
     "start_time": "2024-07-28T12:19:54.537865Z"
    }
   },
   "id": "568490c8e5dbb9ee",
   "execution_count": 241
  },
  {
   "cell_type": "code",
   "outputs": [],
   "source": [
    "patient.drop(['Gender'],axis=1,inplace=True)"
   ],
   "metadata": {
    "collapsed": false,
    "ExecuteTime": {
     "end_time": "2024-07-28T12:26:52.351338Z",
     "start_time": "2024-07-28T12:26:52.346032Z"
    }
   },
   "id": "1f0f2b80f60ad725",
   "execution_count": 327
  },
  {
   "cell_type": "code",
   "outputs": [
    {
     "ename": "KeyError",
     "evalue": "\"['gene_name'] not found in axis\"",
     "output_type": "error",
     "traceback": [
      "\u001B[1;31m---------------------------------------------------------------------------\u001B[0m",
      "\u001B[1;31mKeyError\u001B[0m                                  Traceback (most recent call last)",
      "Cell \u001B[1;32mIn[328], line 1\u001B[0m\n\u001B[1;32m----> 1\u001B[0m \u001B[43mitraq\u001B[49m\u001B[38;5;241;43m.\u001B[39;49m\u001B[43mdrop\u001B[49m\u001B[43m(\u001B[49m\u001B[43m[\u001B[49m\u001B[38;5;124;43m'\u001B[39;49m\u001B[38;5;124;43mgene_name\u001B[39;49m\u001B[38;5;124;43m'\u001B[39;49m\u001B[43m]\u001B[49m\u001B[43m,\u001B[49m\u001B[43maxis\u001B[49m\u001B[38;5;241;43m=\u001B[39;49m\u001B[38;5;241;43m1\u001B[39;49m\u001B[43m,\u001B[49m\u001B[43minplace\u001B[49m\u001B[38;5;241;43m=\u001B[39;49m\u001B[38;5;28;43;01mTrue\u001B[39;49;00m\u001B[43m)\u001B[49m\n",
      "File \u001B[1;32m~\\PycharmProjects\\KMeanNeighbourBreastCancer\\.venv\\Lib\\site-packages\\pandas\\core\\frame.py:5581\u001B[0m, in \u001B[0;36mDataFrame.drop\u001B[1;34m(self, labels, axis, index, columns, level, inplace, errors)\u001B[0m\n\u001B[0;32m   5433\u001B[0m \u001B[38;5;28;01mdef\u001B[39;00m \u001B[38;5;21mdrop\u001B[39m(\n\u001B[0;32m   5434\u001B[0m     \u001B[38;5;28mself\u001B[39m,\n\u001B[0;32m   5435\u001B[0m     labels: IndexLabel \u001B[38;5;241m|\u001B[39m \u001B[38;5;28;01mNone\u001B[39;00m \u001B[38;5;241m=\u001B[39m \u001B[38;5;28;01mNone\u001B[39;00m,\n\u001B[1;32m   (...)\u001B[0m\n\u001B[0;32m   5442\u001B[0m     errors: IgnoreRaise \u001B[38;5;241m=\u001B[39m \u001B[38;5;124m\"\u001B[39m\u001B[38;5;124mraise\u001B[39m\u001B[38;5;124m\"\u001B[39m,\n\u001B[0;32m   5443\u001B[0m ) \u001B[38;5;241m-\u001B[39m\u001B[38;5;241m>\u001B[39m DataFrame \u001B[38;5;241m|\u001B[39m \u001B[38;5;28;01mNone\u001B[39;00m:\n\u001B[0;32m   5444\u001B[0m \u001B[38;5;250m    \u001B[39m\u001B[38;5;124;03m\"\"\"\u001B[39;00m\n\u001B[0;32m   5445\u001B[0m \u001B[38;5;124;03m    Drop specified labels from rows or columns.\u001B[39;00m\n\u001B[0;32m   5446\u001B[0m \n\u001B[1;32m   (...)\u001B[0m\n\u001B[0;32m   5579\u001B[0m \u001B[38;5;124;03m            weight  1.0     0.8\u001B[39;00m\n\u001B[0;32m   5580\u001B[0m \u001B[38;5;124;03m    \"\"\"\u001B[39;00m\n\u001B[1;32m-> 5581\u001B[0m     \u001B[38;5;28;01mreturn\u001B[39;00m \u001B[38;5;28;43msuper\u001B[39;49m\u001B[43m(\u001B[49m\u001B[43m)\u001B[49m\u001B[38;5;241;43m.\u001B[39;49m\u001B[43mdrop\u001B[49m\u001B[43m(\u001B[49m\n\u001B[0;32m   5582\u001B[0m \u001B[43m        \u001B[49m\u001B[43mlabels\u001B[49m\u001B[38;5;241;43m=\u001B[39;49m\u001B[43mlabels\u001B[49m\u001B[43m,\u001B[49m\n\u001B[0;32m   5583\u001B[0m \u001B[43m        \u001B[49m\u001B[43maxis\u001B[49m\u001B[38;5;241;43m=\u001B[39;49m\u001B[43maxis\u001B[49m\u001B[43m,\u001B[49m\n\u001B[0;32m   5584\u001B[0m \u001B[43m        \u001B[49m\u001B[43mindex\u001B[49m\u001B[38;5;241;43m=\u001B[39;49m\u001B[43mindex\u001B[49m\u001B[43m,\u001B[49m\n\u001B[0;32m   5585\u001B[0m \u001B[43m        \u001B[49m\u001B[43mcolumns\u001B[49m\u001B[38;5;241;43m=\u001B[39;49m\u001B[43mcolumns\u001B[49m\u001B[43m,\u001B[49m\n\u001B[0;32m   5586\u001B[0m \u001B[43m        \u001B[49m\u001B[43mlevel\u001B[49m\u001B[38;5;241;43m=\u001B[39;49m\u001B[43mlevel\u001B[49m\u001B[43m,\u001B[49m\n\u001B[0;32m   5587\u001B[0m \u001B[43m        \u001B[49m\u001B[43minplace\u001B[49m\u001B[38;5;241;43m=\u001B[39;49m\u001B[43minplace\u001B[49m\u001B[43m,\u001B[49m\n\u001B[0;32m   5588\u001B[0m \u001B[43m        \u001B[49m\u001B[43merrors\u001B[49m\u001B[38;5;241;43m=\u001B[39;49m\u001B[43merrors\u001B[49m\u001B[43m,\u001B[49m\n\u001B[0;32m   5589\u001B[0m \u001B[43m    \u001B[49m\u001B[43m)\u001B[49m\n",
      "File \u001B[1;32m~\\PycharmProjects\\KMeanNeighbourBreastCancer\\.venv\\Lib\\site-packages\\pandas\\core\\generic.py:4788\u001B[0m, in \u001B[0;36mNDFrame.drop\u001B[1;34m(self, labels, axis, index, columns, level, inplace, errors)\u001B[0m\n\u001B[0;32m   4786\u001B[0m \u001B[38;5;28;01mfor\u001B[39;00m axis, labels \u001B[38;5;129;01min\u001B[39;00m axes\u001B[38;5;241m.\u001B[39mitems():\n\u001B[0;32m   4787\u001B[0m     \u001B[38;5;28;01mif\u001B[39;00m labels \u001B[38;5;129;01mis\u001B[39;00m \u001B[38;5;129;01mnot\u001B[39;00m \u001B[38;5;28;01mNone\u001B[39;00m:\n\u001B[1;32m-> 4788\u001B[0m         obj \u001B[38;5;241m=\u001B[39m \u001B[43mobj\u001B[49m\u001B[38;5;241;43m.\u001B[39;49m\u001B[43m_drop_axis\u001B[49m\u001B[43m(\u001B[49m\u001B[43mlabels\u001B[49m\u001B[43m,\u001B[49m\u001B[43m \u001B[49m\u001B[43maxis\u001B[49m\u001B[43m,\u001B[49m\u001B[43m \u001B[49m\u001B[43mlevel\u001B[49m\u001B[38;5;241;43m=\u001B[39;49m\u001B[43mlevel\u001B[49m\u001B[43m,\u001B[49m\u001B[43m \u001B[49m\u001B[43merrors\u001B[49m\u001B[38;5;241;43m=\u001B[39;49m\u001B[43merrors\u001B[49m\u001B[43m)\u001B[49m\n\u001B[0;32m   4790\u001B[0m \u001B[38;5;28;01mif\u001B[39;00m inplace:\n\u001B[0;32m   4791\u001B[0m     \u001B[38;5;28mself\u001B[39m\u001B[38;5;241m.\u001B[39m_update_inplace(obj)\n",
      "File \u001B[1;32m~\\PycharmProjects\\KMeanNeighbourBreastCancer\\.venv\\Lib\\site-packages\\pandas\\core\\generic.py:4830\u001B[0m, in \u001B[0;36mNDFrame._drop_axis\u001B[1;34m(self, labels, axis, level, errors, only_slice)\u001B[0m\n\u001B[0;32m   4828\u001B[0m         new_axis \u001B[38;5;241m=\u001B[39m axis\u001B[38;5;241m.\u001B[39mdrop(labels, level\u001B[38;5;241m=\u001B[39mlevel, errors\u001B[38;5;241m=\u001B[39merrors)\n\u001B[0;32m   4829\u001B[0m     \u001B[38;5;28;01melse\u001B[39;00m:\n\u001B[1;32m-> 4830\u001B[0m         new_axis \u001B[38;5;241m=\u001B[39m \u001B[43maxis\u001B[49m\u001B[38;5;241;43m.\u001B[39;49m\u001B[43mdrop\u001B[49m\u001B[43m(\u001B[49m\u001B[43mlabels\u001B[49m\u001B[43m,\u001B[49m\u001B[43m \u001B[49m\u001B[43merrors\u001B[49m\u001B[38;5;241;43m=\u001B[39;49m\u001B[43merrors\u001B[49m\u001B[43m)\u001B[49m\n\u001B[0;32m   4831\u001B[0m     indexer \u001B[38;5;241m=\u001B[39m axis\u001B[38;5;241m.\u001B[39mget_indexer(new_axis)\n\u001B[0;32m   4833\u001B[0m \u001B[38;5;66;03m# Case for non-unique axis\u001B[39;00m\n\u001B[0;32m   4834\u001B[0m \u001B[38;5;28;01melse\u001B[39;00m:\n",
      "File \u001B[1;32m~\\PycharmProjects\\KMeanNeighbourBreastCancer\\.venv\\Lib\\site-packages\\pandas\\core\\indexes\\base.py:7070\u001B[0m, in \u001B[0;36mIndex.drop\u001B[1;34m(self, labels, errors)\u001B[0m\n\u001B[0;32m   7068\u001B[0m \u001B[38;5;28;01mif\u001B[39;00m mask\u001B[38;5;241m.\u001B[39many():\n\u001B[0;32m   7069\u001B[0m     \u001B[38;5;28;01mif\u001B[39;00m errors \u001B[38;5;241m!=\u001B[39m \u001B[38;5;124m\"\u001B[39m\u001B[38;5;124mignore\u001B[39m\u001B[38;5;124m\"\u001B[39m:\n\u001B[1;32m-> 7070\u001B[0m         \u001B[38;5;28;01mraise\u001B[39;00m \u001B[38;5;167;01mKeyError\u001B[39;00m(\u001B[38;5;124mf\u001B[39m\u001B[38;5;124m\"\u001B[39m\u001B[38;5;132;01m{\u001B[39;00mlabels[mask]\u001B[38;5;241m.\u001B[39mtolist()\u001B[38;5;132;01m}\u001B[39;00m\u001B[38;5;124m not found in axis\u001B[39m\u001B[38;5;124m\"\u001B[39m)\n\u001B[0;32m   7071\u001B[0m     indexer \u001B[38;5;241m=\u001B[39m indexer[\u001B[38;5;241m~\u001B[39mmask]\n\u001B[0;32m   7072\u001B[0m \u001B[38;5;28;01mreturn\u001B[39;00m \u001B[38;5;28mself\u001B[39m\u001B[38;5;241m.\u001B[39mdelete(indexer)\n",
      "\u001B[1;31mKeyError\u001B[0m: \"['gene_name'] not found in axis\""
     ]
    }
   ],
   "source": [
    "itraq.drop(['gene_name'],axis=1,inplace=True)"
   ],
   "metadata": {
    "collapsed": false,
    "ExecuteTime": {
     "end_time": "2024-07-28T12:26:54.990469Z",
     "start_time": "2024-07-28T12:26:53.634614Z"
    }
   },
   "id": "12933c845c637e9b",
   "execution_count": 328
  },
  {
   "cell_type": "code",
   "outputs": [
    {
     "name": "stdout",
     "output_type": "stream",
     "text": [
      "<class 'pandas.core.frame.DataFrame'>\n",
      "RangeIndex: 12553 entries, 0 to 12552\n",
      "Data columns (total 85 columns):\n",
      " #   Column                   Non-Null Count  Dtype  \n",
      "---  ------                   --------------  -----  \n",
      " 0   RefSeq_accession_number  12553 non-null  object \n",
      " 1   gene_symbol              10773 non-null  object \n",
      " 2   AO-A12D.01TCGA           11334 non-null  float64\n",
      " 3   C8-A131.01TCGA           11335 non-null  float64\n",
      " 4   AO-A12B.01TCGA           11334 non-null  float64\n",
      " 5   BH-A18Q.02TCGA           12024 non-null  float64\n",
      " 6   C8-A130.02TCGA           12025 non-null  float64\n",
      " 7   C8-A138.03TCGA           11833 non-null  float64\n",
      " 8   E2-A154.03TCGA           11833 non-null  float64\n",
      " 9   C8-A12L.04TCGA           11732 non-null  float64\n",
      " 10  A2-A0EX.04TCGA           11732 non-null  float64\n",
      " 11  AO-A12D.05TCGA           11276 non-null  float64\n",
      " 12  AN-A04A.05TCGA           11276 non-null  float64\n",
      " 13  BH-A0AV.05TCGA           11274 non-null  float64\n",
      " 14  C8-A12T.06TCGA           11132 non-null  float64\n",
      " 15  A8-A06Z.07TCGA           10871 non-null  float64\n",
      " 16  A2-A0CM.07TCGA           10871 non-null  float64\n",
      " 17  BH-A18U.08TCGA           10980 non-null  float64\n",
      " 18  A2-A0EQ.08TCGA           10980 non-null  float64\n",
      " 19  AR-A0U4.09TCGA           10748 non-null  float64\n",
      " 20  AO-A0J9.10TCGA           11152 non-null  float64\n",
      " 21  AR-A1AP.11TCGA           11579 non-null  float64\n",
      " 22  AN-A0FK.11TCGA           11579 non-null  float64\n",
      " 23  AO-A0J6.11TCGA           11578 non-null  float64\n",
      " 24  A7-A13F.12TCGA           11108 non-null  float64\n",
      " 25  BH-A0E1.12TCGA           11108 non-null  float64\n",
      " 26  A7-A0CE.13TCGA           11145 non-null  float64\n",
      " 27  A2-A0YC.13TCGA           11145 non-null  float64\n",
      " 28  AO-A0JC.14TCGA           10919 non-null  float64\n",
      " 29  A8-A08Z.14TCGA           10919 non-null  float64\n",
      " 30  AR-A0TX.14TCGA           10916 non-null  float64\n",
      " 31  A8-A076.15TCGA           11269 non-null  float64\n",
      " 32  AO-A126.15TCGA           11269 non-null  float64\n",
      " 33  BH-A0C1.16TCGA           11380 non-null  float64\n",
      " 34  A2-A0EY.16TCGA           11380 non-null  float64\n",
      " 35  AR-A1AW.17TCGA           10893 non-null  float64\n",
      " 36  AR-A1AV.17TCGA           10893 non-null  float64\n",
      " 37  C8-A135.17TCGA           10892 non-null  float64\n",
      " 38  A2-A0EV.18TCGA           11477 non-null  float64\n",
      " 39  AN-A0AM.18TCGA           11477 non-null  float64\n",
      " 40  D8-A142.18TCGA           11477 non-null  float64\n",
      " 41  AN-A0FL.19TCGA           11281 non-null  float64\n",
      " 42  BH-A0DG.19TCGA           11281 non-null  float64\n",
      " 43  AR-A0TV.20TCGA           11801 non-null  float64\n",
      " 44  C8-A12Z.20TCGA           11800 non-null  float64\n",
      " 45  AO-A0JJ.20TCGA           11801 non-null  float64\n",
      " 46  AO-A0JE.21TCGA           11277 non-null  float64\n",
      " 47  AN-A0AJ.21TCGA           11277 non-null  float64\n",
      " 48  A7-A0CJ.22TCGA           11519 non-null  float64\n",
      " 49  AO-A12F.22TCGA           11519 non-null  float64\n",
      " 50  A8-A079.23TCGA           11418 non-null  float64\n",
      " 51  A2-A0T3.24TCGA           11512 non-null  float64\n",
      " 52  A2-A0YD.24TCGA           11512 non-null  float64\n",
      " 53  AR-A0TR.25TCGA           11950 non-null  float64\n",
      " 54  AO-A03O.25TCGA           11950 non-null  float64\n",
      " 55  AO-A12E.26TCGA           10850 non-null  float64\n",
      " 56  A8-A06N.26TCGA           10850 non-null  float64\n",
      " 57  A2-A0YG.27TCGA           11215 non-null  float64\n",
      " 58  BH-A18N.27TCGA           11215 non-null  float64\n",
      " 59  AN-A0AL.28TCGA           10866 non-null  float64\n",
      " 60  A2-A0T6.29TCGA           11280 non-null  float64\n",
      " 61  E2-A158.29TCGA           11281 non-null  float64\n",
      " 62  E2-A15A.29TCGA           11281 non-null  float64\n",
      " 63  AO-A0JM.30TCGA           11618 non-null  float64\n",
      " 64  C8-A12V.30TCGA           11619 non-null  float64\n",
      " 65  A2-A0D2.31TCGA           11706 non-null  float64\n",
      " 66  C8-A12U.31TCGA           11706 non-null  float64\n",
      " 67  AR-A1AS.31TCGA           11706 non-null  float64\n",
      " 68  A8-A09G.32TCGA           11397 non-null  float64\n",
      " 69  C8-A131.32TCGA           11397 non-null  float64\n",
      " 70  C8-A134.32TCGA           11397 non-null  float64\n",
      " 71  A2-A0YF.33TCGA           11224 non-null  float64\n",
      " 72  BH-A0DD.33TCGA           11224 non-null  float64\n",
      " 73  BH-A0E9.33TCGA           11224 non-null  float64\n",
      " 74  AR-A0TT.34TCGA           11477 non-null  float64\n",
      " 75  AO-A12B.34TCGA           11477 non-null  float64\n",
      " 76  A2-A0SW.35TCGA           10324 non-null  float64\n",
      " 77  AO-A0JL.35TCGA           10324 non-null  float64\n",
      " 78  BH-A0BV.35TCGA           10324 non-null  float64\n",
      " 79  A2-A0YM.36TCGA           9694 non-null   float64\n",
      " 80  BH-A0C7.36TCGA           9693 non-null   float64\n",
      " 81  A2-A0SX.36TCGA           9697 non-null   float64\n",
      " 82  263d3f-I.CPTAC           10912 non-null  float64\n",
      " 83  blcdb9-I.CPTAC           10885 non-null  float64\n",
      " 84  c4155b-C.CPTAC           10913 non-null  float64\n",
      "dtypes: float64(83), object(2)\n",
      "memory usage: 8.1+ MB\n"
     ]
    }
   ],
   "source": [
    "itraq.info()"
   ],
   "metadata": {
    "collapsed": false,
    "ExecuteTime": {
     "end_time": "2024-07-28T12:19:55.714989Z",
     "start_time": "2024-07-28T12:19:55.695091Z"
    }
   },
   "id": "97a713cbc1517b96",
   "execution_count": 244
  },
  {
   "cell_type": "code",
   "outputs": [
    {
     "data": {
      "text/plain": "RefSeq_accession_number\nNP_219494       1\nNP_958782       1\nNP_958785       1\nNP_958786       1\nNP_000436       1\n               ..\nNP_001138241    1\nNP_036222       1\nNP_001367       1\nNP_076965       1\nNP_001611       1\nName: count, Length: 12553, dtype: int64"
     },
     "execution_count": 245,
     "metadata": {},
     "output_type": "execute_result"
    }
   ],
   "source": [
    "itraq['RefSeq_accession_number'].value_counts()"
   ],
   "metadata": {
    "collapsed": false,
    "ExecuteTime": {
     "end_time": "2024-07-28T12:19:55.849892Z",
     "start_time": "2024-07-28T12:19:55.832730Z"
    }
   },
   "id": "5bc56545ebeda055",
   "execution_count": 245
  },
  {
   "cell_type": "code",
   "outputs": [],
   "source": [
    "reference_list=list(itraq.RefSeq_accession_number)"
   ],
   "metadata": {
    "collapsed": false,
    "ExecuteTime": {
     "end_time": "2024-07-28T12:19:57.084759Z",
     "start_time": "2024-07-28T12:19:57.079295Z"
    }
   },
   "id": "41741989b3b0b16d",
   "execution_count": 246
  },
  {
   "cell_type": "code",
   "outputs": [
    {
     "data": {
      "text/plain": "['NP_958782',\n 'NP_958785',\n 'NP_958786',\n 'NP_000436',\n 'NP_958781',\n 'NP_958780',\n 'NP_958783',\n 'NP_958784',\n 'NP_112598',\n 'NP_001611',\n 'NP_076965',\n 'NP_001367',\n 'NP_036222',\n 'NP_001138241',\n 'NP_001714',\n 'NP_002464',\n 'NP_001073936',\n 'NP_061198',\n 'NP_001074248',\n 'NP_001074419',\n 'NP_056009',\n 'NP_036355',\n 'NP_001155291',\n 'NP_002462',\n 'NP_000248',\n 'NP_036467',\n 'NP_004989',\n 'NP_001243024',\n 'NP_149043',\n 'NP_067047',\n 'NP_002461',\n 'NP_060003',\n 'NP_003793',\n 'NP_060004',\n 'NP_005954',\n 'NP_002463',\n 'NP_689914',\n 'NP_001242941',\n 'NP_060227',\n 'NP_055796',\n 'NP_065935',\n 'NP_008974',\n 'NP_001156806',\n 'NP_000251',\n 'NP_001242970',\n 'NP_001094891',\n 'NP_057323',\n 'NP_002465',\n 'NP_005955',\n 'NP_001035202',\n 'NP_001070654',\n 'NP_079005',\n 'NP_000250',\n 'NP_878918',\n 'NP_892006',\n 'NP_149062',\n 'NP_001138722',\n 'NP_003118',\n 'NP_001123910',\n 'NP_001182461',\n 'NP_001243000',\n 'NP_004406',\n 'NP_689916',\n 'NP_060124',\n 'NP_443141',\n 'NP_008835',\n 'NP_000375',\n 'NP_001447',\n 'NP_001157789',\n 'NP_001448',\n 'NP_001449',\n 'NP_001120959',\n 'NP_003119',\n 'NP_842565',\n 'NP_001020029',\n 'NP_008877',\n 'NP_000338',\n 'NP_066022',\n 'NP_001243415',\n 'NP_004478',\n 'NP_001243417',\n 'NP_005742',\n 'NP_671714',\n 'NP_005520',\n 'NP_004360',\n 'NP_476507',\n 'NP_065816',\n 'NP_006280',\n 'NP_055874',\n 'NP_113584',\n 'NP_612482',\n 'NP_006176',\n 'NP_006258',\n 'NP_055185',\n 'NP_001137485',\n 'NP_005045',\n 'NP_872394',\n 'NP_001019628',\n 'NP_872634',\n 'NP_005029',\n 'NP_003128',\n 'NP_005720',\n 'NP_004095',\n 'NP_002017',\n 'NP_997647',\n 'NP_997639',\n 'NP_009055',\n 'NP_003997',\n 'NP_004005',\n 'NP_004007',\n 'NP_001164655',\n 'NP_000055',\n 'NP_002323',\n 'NP_061027',\n 'NP_065872',\n 'NP_006827',\n 'NP_003117',\n 'NP_612429',\n 'NP_003283',\n 'NP_054733',\n 'NP_000468',\n 'NP_004361',\n 'NP_004850',\n 'NP_009029',\n 'NP_003861',\n 'NP_006624',\n 'NP_839943',\n 'NP_002696',\n 'NP_002069',\n 'NP_001166184',\n 'NP_114141',\n 'NP_001254479',\n 'NP_001091738',\n 'NP_596870',\n 'NP_663304',\n 'NP_003179',\n 'NP_001229542',\n 'NP_001138668',\n 'NP_001014364',\n 'NP_003741',\n 'NP_003080',\n 'NP_002895',\n 'NP_067051',\n 'NP_078873',\n 'NP_001166987',\n 'NP_065700',\n 'NP_055107',\n 'NP_002151',\n 'NP_061978',\n 'NP_006436',\n 'NP_006717',\n 'NP_001186211',\n 'NP_056493',\n 'NP_004230',\n 'NP_510880',\n 'NP_004516',\n 'NP_579899',\n 'NP_038479',\n 'NP_001124459',\n 'NP_001124453',\n 'NP_001229752',\n 'NP_001002029',\n 'NP_009224',\n 'NP_000543',\n 'NP_057336',\n 'NP_005551',\n 'NP_937762',\n 'NP_004437',\n 'NP_005900',\n 'NP_002364',\n 'NP_055987',\n 'NP_542417',\n 'NP_037450',\n 'NP_001264',\n 'NP_001005271',\n 'NP_056372',\n 'NP_001034679',\n 'NP_004645',\n 'NP_001008938',\n 'NP_005091',\n 'NP_942133',\n 'NP_001084',\n 'NP_004332',\n 'NP_002449',\n 'XP_003960896',\n 'XP_003960532',\n 'NP_203754',\n 'NP_001979',\n 'NP_001138599',\n 'NP_001072989',\n 'NP_001072990',\n 'NP_000005',\n 'NP_002855',\n 'NP_573566',\n 'NP_057427',\n 'NP_003364',\n 'NP_056083',\n 'NP_001123476',\n 'NP_001093',\n 'NP_004915',\n 'NP_001265272',\n 'NP_001095',\n 'NP_055426',\n 'NP_062536',\n 'NP_009131',\n 'NP_001257475',\n 'NP_001231509',\n 'NP_003557',\n 'NP_055710',\n 'NP_115645',\n 'NP_055872',\n 'NP_004362',\n 'NP_001091868',\n 'NP_006297',\n 'NP_004990',\n 'NP_056234',\n 'NP_056110',\n 'NP_001243194',\n 'NP_001243193',\n 'NP_006022',\n 'NP_000129',\n 'NP_001990',\n 'NP_000928',\n 'NP_940980',\n 'NP_068506',\n 'NP_003165',\n 'NP_001059',\n 'NP_001058',\n 'NP_066933',\n 'NP_005436',\n 'NP_066267',\n 'NP_001191333',\n 'NP_001191332',\n 'NP_000028',\n 'NP_065210',\n 'NP_001139',\n 'NP_066187',\n 'NP_001140',\n 'NP_055458',\n 'NP_733821',\n 'NP_733822',\n 'NP_005563',\n 'NP_116126',\n 'NP_005564',\n 'NP_001185486',\n 'NP_009049',\n 'NP_001019831',\n 'NP_008995',\n 'NP_001135452',\n 'NP_444253',\n 'NP_444254',\n 'NP_444259',\n 'NP_004949',\n 'NP_005723',\n 'NP_000867',\n 'NP_001054',\n 'NP_002283',\n 'NP_031382',\n 'NP_000019',\n 'NP_060024',\n 'NP_001193937',\n 'NP_001035089',\n 'NP_002284',\n 'NP_006050',\n 'NP_996744',\n 'NP_006274',\n 'NP_852118',\n 'NP_055490',\n 'NP_001098677',\n 'NP_009057',\n 'NP_000457',\n 'NP_006787',\n 'NP_002524',\n 'NP_000278',\n 'NP_112593',\n 'NP_065871',\n 'NP_006819',\n 'NP_071374',\n 'NP_683692',\n 'NP_612378',\n 'NP_005327',\n 'NP_001230829',\n 'NP_056197',\n 'NP_115927',\n 'NP_001258898',\n 'NP_001017963',\n 'NP_003290',\n 'NP_057376',\n 'NP_001615',\n 'NP_001092693',\n 'NP_002408',\n 'NP_055873',\n 'NP_001009814',\n 'NP_002263',\n 'NP_003371',\n 'NP_872313',\n 'NP_778253',\n 'NP_006112',\n 'NP_005373',\n 'NP_000414',\n 'NP_006253',\n 'NP_006149',\n 'NP_002275',\n 'NP_066554',\n 'NP_002272',\n 'NP_001243211',\n 'NP_476429',\n 'NP_002046',\n 'NP_116116',\n 'NP_542785',\n 'NP_001099011',\n 'NP_057613',\n 'NP_778223',\n 'NP_005547',\n 'NP_149034',\n 'NP_258259',\n 'NP_778238',\n 'NP_775487',\n 'NP_149022',\n 'NP_001918',\n 'NP_000415',\n 'NP_005546',\n 'NP_005545',\n 'NP_004684',\n 'NP_787028',\n 'NP_001609',\n 'NP_001073867',\n 'NP_055816',\n 'NP_056069',\n 'NP_006603',\n 'NP_008985',\n 'NP_004789',\n 'NP_065810',\n 'NP_002245',\n 'NP_001092763',\n 'NP_878905',\n 'NP_005541',\n 'NP_065867',\n 'NP_659464',\n 'NP_078980',\n 'NP_055889',\n 'NP_071396',\n 'NP_001099038',\n 'NP_001186795',\n 'NP_004312',\n 'NP_036442',\n 'NP_904325',\n 'NP_036565',\n 'NP_005886',\n 'NP_003161',\n 'NP_003237',\n 'NP_003238',\n 'NP_002102',\n 'NP_006608',\n 'NP_056986',\n 'NP_062535',\n 'NP_003248',\n 'NP_783297',\n 'NP_004136',\n 'NP_008832',\n 'NP_001952',\n 'NP_001716',\n 'NP_004841',\n 'NP_005397',\n 'NP_001181875',\n 'NP_886553',\n 'NP_937887',\n 'NP_937885',\n 'NP_001185730',\n 'NP_001263347',\n 'NP_055681',\n 'NP_056193',\n 'NP_001511',\n 'NP_072174',\n 'NP_073585',\n 'NP_056134',\n 'NP_065821',\n 'NP_002282',\n 'NP_001193583',\n 'NP_006303',\n 'NP_006302',\n 'NP_569707',\n 'NP_570924',\n 'NP_002841',\n 'NP_002830',\n 'NP_663780',\n 'NP_056101',\n 'NP_000417',\n 'NP_001073291',\n 'NP_005550',\n 'NP_064505',\n 'NP_064506',\n 'NP_149072',\n 'NP_055968',\n 'NP_056121',\n 'NP_006026',\n 'NP_003598',\n 'NP_055641',\n 'NP_059995',\n 'NP_001075031',\n 'NP_055907',\n 'XP_003960679',\n 'XP_003960702',\n 'XP_003960698',\n 'NP_056993',\n 'NP_001157968',\n 'NP_078789',\n 'NP_006188',\n 'NP_003461',\n 'NP_000042',\n 'NP_705833',\n 'NP_055791',\n 'NP_000480',\n 'NP_612114',\n 'NP_060473',\n 'NP_055928',\n 'NP_006466',\n 'NP_001129406',\n 'NP_001129407',\n 'NP_597677',\n 'NP_002366',\n 'NP_001102',\n 'NP_056655',\n 'NP_001234926',\n 'NP_937883',\n 'NP_115797',\n 'NP_001103132',\n 'NP_006411',\n 'NP_006412',\n 'NP_004753',\n 'NP_059431',\n 'NP_004218',\n 'NP_037517',\n 'NP_002215',\n 'NP_002214',\n 'NP_001161744',\n 'NP_002213',\n 'NP_149129',\n 'NP_149130',\n 'NP_004333',\n 'NP_001124295',\n 'NP_001370',\n 'NP_056988',\n 'NP_002853',\n 'NP_002854',\n 'NP_005600',\n 'NP_001726',\n 'NP_060918',\n 'NP_001155971',\n 'NP_055847',\n 'NP_001093869',\n 'NP_003881',\n 'NP_001422',\n 'NP_001186318',\n 'NP_036439',\n 'NP_001245258',\n 'NP_001159477',\n 'NP_818932',\n 'NP_004428',\n 'NP_001245259',\n 'NP_001258928',\n 'NP_212132',\n 'NP_982272',\n 'NP_065863',\n 'NP_005517',\n 'NP_004497',\n 'NP_001035757',\n 'NP_004512',\n 'NP_004513',\n 'NP_004975',\n 'NP_002145',\n 'NP_006635',\n 'NP_055093',\n 'NP_005349',\n 'NP_056667',\n 'NP_065741',\n 'NP_115593',\n 'NP_060217',\n 'NP_078944',\n 'NP_005119',\n 'NP_001186871',\n 'NP_001073883',\n 'NP_057688',\n 'NP_060903',\n 'NP_940953',\n 'NP_001509',\n 'NP_001003795',\n 'NP_775808',\n 'NP_938149',\n 'NP_938148',\n 'NP_009041',\n 'NP_001258152',\n 'NP_443075',\n 'NP_695012',\n 'NP_002152',\n 'NP_940978',\n 'NP_000292',\n 'NP_005568',\n 'NP_829884',\n 'NP_056391',\n 'NP_055454',\n 'NP_064502',\n 'NP_005210',\n 'NP_036533',\n 'NP_000177',\n 'NP_002104',\n 'NP_066303',\n 'NP_005657',\n 'NP_001188479',\n 'NP_003226',\n 'NP_055951',\n 'NP_001014972',\n 'NP_009123',\n 'NP_005106',\n 'NP_055950',\n 'NP_055205',\n 'NP_060542',\n 'NP_006286',\n 'NP_065073',\n 'NP_056281',\n 'NP_057535',\n 'NP_000087',\n 'NP_004578',\n 'NP_065972',\n 'NP_002435',\n 'NP_003370',\n 'NP_002897',\n 'NP_001247425',\n 'NP_060783',\n 'NP_002999',\n 'NP_001146',\n 'NP_056090',\n 'NP_073616',\n 'NP_003852',\n 'NP_001193814',\n 'NP_001193813',\n 'NP_001322',\n 'NP_001078935',\n 'NP_005378',\n 'NP_001186308',\n 'NP_004184',\n 'NP_001155901',\n 'NP_037506',\n 'NP_002334',\n 'NP_001032412',\n 'NP_003282',\n 'NP_004482',\n 'NP_003592',\n 'NP_003060',\n 'NP_620604',\n 'NP_055644',\n 'NP_009117',\n 'NP_001123892',\n 'NP_003066',\n 'NP_003065',\n 'NP_003473',\n 'NP_733751',\n 'NP_061322',\n 'NP_001181885',\n 'NP_055535',\n 'NP_005981',\n 'NP_002532',\n 'NP_001158508',\n 'NP_060715',\n 'NP_005500',\n 'NP_001167587',\n 'NP_001005619',\n 'NP_001005731',\n 'NP_079330',\n 'NP_056240',\n 'NP_008986',\n 'NP_056111',\n 'NP_001123520',\n 'NP_653259',\n 'NP_055504',\n 'NP_872579',\n 'NP_004450',\n 'NP_061897',\n 'NP_056288',\n 'NP_060101',\n 'NP_001012985',\n 'NP_001371',\n 'NP_004937',\n 'NP_079216',\n 'NP_874365',\n 'NP_056171',\n 'NP_060684',\n 'NP_940890',\n 'NP_001087',\n 'NP_942127',\n 'NP_001368',\n 'NP_055627',\n 'NP_001035864',\n 'NP_001106197',\n 'NP_055820',\n 'NP_061903',\n 'NP_057417',\n 'NP_001894',\n 'NP_004380',\n 'NP_037398',\n 'NP_000079',\n 'NP_001835',\n 'NP_002902',\n 'NP_001158287',\n 'NP_001158286',\n 'NP_055524',\n 'NP_114032',\n 'NP_004492',\n 'NP_570849',\n 'NP_060395',\n 'NP_001138295',\n 'NP_004808',\n 'NP_001163886',\n 'NP_001163885',\n 'NP_001164100',\n 'NP_001262',\n 'NP_001261',\n 'NP_060250',\n 'NP_115597',\n 'NP_079410',\n 'NP_001257903',\n 'NP_004694',\n 'NP_001077054',\n 'NP_000170',\n 'NP_005947',\n 'NP_001229696',\n 'NP_056255',\n 'NP_002289',\n 'NP_005023',\n 'NP_002661',\n 'NP_001193980',\n 'NP_056097',\n 'NP_055912',\n 'NP_001193973',\n 'NP_036601',\n 'NP_055845',\n 'NP_075463',\n 'NP_001073869',\n 'NP_542194',\n 'NP_954650',\n 'NP_056025',\n 'NP_001012279',\n 'NP_003962',\n 'NP_001124000',\n 'NP_001123999',\n 'NP_001238900',\n 'NP_055948',\n 'NP_006380',\n 'NP_001035957',\n 'NP_872270',\n 'NP_001193725',\n 'NP_001193727',\n 'NP_000289',\n 'NP_060110',\n 'NP_001167448',\n 'NP_004902',\n 'NP_005304',\n 'NP_004376',\n 'NP_941372',\n 'NP_066964',\n 'NP_001138231',\n 'NP_001127910',\n 'NP_942147',\n 'NP_060554',\n 'NP_001129069',\n 'NP_001073922',\n 'NP_071504',\n 'NP_006830',\n 'NP_001093639',\n 'NP_001093640',\n 'NP_006588',\n 'NP_005338',\n 'NP_005337',\n 'NP_001035924',\n 'NP_068814',\n 'NP_694881',\n 'NP_005518',\n 'NP_002146',\n 'NP_060898',\n 'NP_005959',\n 'NP_001596',\n 'NP_002799',\n 'NP_115784',\n 'NP_031387',\n 'NP_002499',\n 'NP_060414',\n 'NP_066997',\n 'NP_203752',\n 'NP_001139381',\n 'NP_004658',\n 'XP_003403905',\n 'NP_054831',\n 'NP_003472',\n 'NP_003931',\n 'NP_057662',\n 'NP_036425',\n 'NP_055949',\n 'NP_958431',\n 'NP_001034230',\n 'NP_619538',\n 'NP_476516',\n 'NP_078837',\n 'NP_036387',\n 'NP_057212',\n 'NP_036265',\n 'NP_060090',\n 'NP_036350',\n 'NP_060857',\n 'NP_060697',\n 'NP_620305',\n 'NP_115571',\n 'NP_004229',\n 'NP_001025177',\n 'NP_663782',\n 'NP_477352',\n 'NP_001005360',\n 'NP_001005361',\n 'NP_004936',\n 'NP_001005336',\n 'NP_056384',\n 'NP_037423',\n 'NP_004125',\n 'NP_803187',\n 'NP_006428',\n 'NP_060404',\n 'NP_061836',\n 'NP_694984',\n 'NP_006833',\n 'NP_055888',\n 'NP_056371',\n 'NP_065859',\n 'NP_001106189',\n 'NP_001106190',\n 'NP_005076',\n 'NP_001026884',\n 'NP_071934',\n 'NP_055506',\n 'NP_056992',\n 'NP_001138678',\n 'NP_056154',\n 'NP_001035207',\n 'NP_001128662',\n 'NP_003617',\n 'NP_003651',\n 'NP_003616',\n 'XP_003960947',\n 'NP_055868',\n 'NP_001073953',\n 'NP_055423',\n 'NP_055191',\n 'NP_001028200',\n 'NP_006268',\n 'NP_003015',\n 'NP_001001132',\n 'NP_671494',\n 'NP_005115',\n 'NP_001036015',\n 'NP_036546',\n 'NP_003613',\n 'NP_001185844',\n 'NP_003612',\n 'NP_001243497',\n 'NP_056280',\n 'NP_000179',\n 'NP_000180',\n 'NP_002106',\n 'NP_079406',\n 'NP_006006',\n 'NP_065783',\n 'NP_619520',\n 'NP_150648',\n 'NP_001155855',\n 'NP_001035905',\n 'NP_001177371',\n 'NP_001075019',\n 'NP_055318',\n 'NP_000499',\n 'NP_001408',\n 'NP_004477',\n 'NP_001099008',\n 'NP_000120',\n 'NP_001120683',\n 'NP_001245227',\n 'NP_001070675',\n 'NP_060621',\n 'NP_055990',\n 'NP_001460',\n 'NP_057441',\n 'NP_001107018',\n 'NP_001107019',\n 'NP_056392',\n 'NP_001138997',\n 'NP_001138994',\n 'NP_036525',\n 'NP_006178',\n 'NP_005487',\n 'NP_065910',\n 'NP_001640',\n 'NP_065768',\n 'NP_055464',\n 'NP_002958',\n 'NP_002473',\n 'NP_001182122',\n 'NP_689511',\n 'NP_006169',\n 'NP_002471',\n 'NP_001231921',\n 'NP_002472',\n 'NP_001184060',\n 'NP_002652',\n 'NP_003061',\n 'NP_001122321',\n 'NP_001122317',\n 'NP_004757',\n 'NP_055456',\n 'NP_002365',\n 'NP_001034627',\n 'NP_061889',\n 'NP_000215',\n 'NP_061883',\n 'NP_000214',\n 'NP_002271',\n 'NP_002268',\n 'NP_853515',\n 'NP_003762',\n 'NP_689562',\n 'NP_002267',\n 'NP_002269',\n 'NP_066293',\n 'NP_000413',\n 'NP_002266',\n 'NP_000517',\n 'NP_005548',\n 'NP_056330',\n 'NP_000412',\n 'NP_705694',\n 'NP_001073027',\n 'NP_003950',\n 'NP_005329',\n 'NP_001073341',\n 'NP_001008895',\n 'NP_001265443',\n 'NP_000168',\n 'NP_001121134',\n 'NP_001121138',\n 'NP_001121135',\n 'NP_003913',\n 'NP_001185594',\n 'NP_056128',\n 'NP_008841',\n 'NP_009045',\n 'NP_006697',\n 'NP_777597',\n 'NP_056130',\n 'NP_060548',\n 'NP_005246',\n 'NP_005325',\n 'NP_037452',\n 'NP_056261',\n 'NP_008860',\n 'NP_056390',\n 'NP_000909',\n 'NP_056224',\n 'NP_006810',\n 'NP_002453',\n 'NP_002454',\n 'NP_001701',\n 'NP_071349',\n 'NP_001106963',\n 'NP_001106967',\n 'NP_997249',\n 'NP_001106965',\n 'NP_001779',\n 'NP_001011553',\n 'NP_060713',\n 'NP_004395',\n 'NP_055944',\n 'NP_653311',\n 'NP_001092281',\n 'NP_775873',\n 'NP_055966',\n 'NP_055789',\n 'NP_597734',\n 'NP_001122405',\n 'NP_055144',\n 'NP_060040',\n 'NP_066363',\n 'NP_065176',\n 'NP_660093',\n 'NP_001104488',\n 'NP_055718',\n 'NP_361013',\n 'NP_001004060',\n 'NP_055102',\n 'NP_079031',\n 'NP_001013865',\n 'NP_055831',\n 'NP_005177',\n 'NP_001307',\n 'NP_996810',\n 'NP_996811',\n 'NP_001156423',\n 'NP_001092',\n 'XP_003960357',\n 'NP_001264012',\n 'XP_003846703',\n 'NP_001264232',\n 'NP_001605',\n 'NP_001135417',\n 'NP_001606',\n 'NP_001091',\n 'NP_001077007',\n 'NP_001017992',\n 'NP_001093241',\n 'NP_001264335',\n 'NP_003706',\n 'NP_064522',\n 'NP_997555',\n 'NP_005372',\n 'NP_001005751',\n 'NP_060702',\n 'NP_056077',\n 'NP_001129477',\n 'NP_061874',\n 'NP_004387',\n 'NP_001091974',\n 'NP_001347',\n 'NP_004651',\n 'NP_077726',\n 'NP_001839',\n 'NP_004960',\n 'NP_002147',\n 'NP_006301',\n 'NP_000080',\n 'NP_009330',\n 'NP_644671',\n 'NP_003142',\n 'NP_003631',\n 'NP_001092879',\n 'NP_001136086',\n 'NP_060360',\n 'NP_062538',\n 'NP_055586',\n 'NP_002636',\n 'NP_004784',\n 'NP_001076581',\n 'NP_056289',\n 'NP_001265387',\n 'NP_001265389',\n 'NP_004738',\n 'NP_064627',\n 'NP_055129',\n 'NP_001244957',\n 'NP_055699',\n 'NP_004810',\n 'NP_060225',\n 'NP_001180384',\n 'NP_002262',\n 'NP_036548',\n 'NP_001230131',\n 'NP_001030128',\n 'NP_001030126',\n 'NP_001030129',\n 'NP_001257700',\n 'NP_001139145',\n 'NP_001139144',\n 'NP_003594',\n 'NP_001139146',\n 'NP_003604',\n 'NP_001243778',\n 'NP_001399',\n 'NP_055061',\n 'NP_001420',\n 'NP_004371',\n 'NP_056989',\n 'NP_115921',\n 'NP_001419',\n 'NP_001188412',\n 'NP_001966',\n 'NP_001967',\n 'NP_003096',\n 'NP_003655',\n 'NP_004635',\n 'NP_001265440',\n 'NP_001106207',\n 'NP_055521',\n 'NP_055799',\n 'NP_001138829',\n 'NP_055704',\n 'NP_001240628',\n 'NP_065845',\n 'NP_056044',\n 'NP_039269',\n 'NP_056018',\n 'NP_054722',\n 'NP_004932',\n 'NP_054828',\n 'NP_060022',\n 'NP_877423',\n 'NP_001245303',\n ...]"
     },
     "execution_count": 247,
     "metadata": {},
     "output_type": "execute_result"
    }
   ],
   "source": [
    "reference_list\n"
   ],
   "metadata": {
    "collapsed": false,
    "ExecuteTime": {
     "end_time": "2024-07-28T12:19:58.360088Z",
     "start_time": "2024-07-28T12:19:58.342093Z"
    }
   },
   "id": "15b9c11f17585658",
   "execution_count": 247
  },
  {
   "cell_type": "code",
   "outputs": [],
   "source": [
    "import numpy as np\n",
    "\n",
    "def load_glove_vectors(file_path, encoding='utf-8'):\n",
    "    embeddings = {}\n",
    "    with open(file_path, 'r', encoding=encoding) as f:\n",
    "        for line in f:\n",
    "            values = line.split()\n",
    "            word = values[0]\n",
    "            vector = np.array(values[1:], dtype='float32')\n",
    "            embeddings[word] = vector\n",
    "    return embeddings\n",
    "\n",
    "# Load GloVe vectors with specified encoding\n",
    "glove_vectors = load_glove_vectors(r'C:\\Users\\sujal\\PycharmProjects\\KMeanNeighbourBreastCancer\\glove embeddings\\glove.6B.50d.txt', encoding='utf-8')\n"
   ],
   "metadata": {
    "collapsed": false,
    "ExecuteTime": {
     "end_time": "2024-07-28T12:20:11.878178Z",
     "start_time": "2024-07-28T12:19:59.793214Z"
    }
   },
   "id": "2baf2b60cb8ceffd",
   "execution_count": 248
  },
  {
   "cell_type": "code",
   "outputs": [],
   "source": [
    "\n",
    "def preprocess_refseq(refseq):\n",
    "    # Convert RefSeq accession numbers to lowercase or other preprocessing steps\n",
    "    return refseq.lower()"
   ],
   "metadata": {
    "collapsed": false,
    "ExecuteTime": {
     "end_time": "2024-07-28T12:20:11.885958Z",
     "start_time": "2024-07-28T12:20:11.880318Z"
    }
   },
   "id": "fbe7135fb367ac49",
   "execution_count": 249
  },
  {
   "cell_type": "code",
   "outputs": [],
   "source": [
    "def get_glove_vector(word, glove_vectors, vector_size):\n",
    "    return glove_vectors.get(word, np.zeros(vector_size))"
   ],
   "metadata": {
    "collapsed": false,
    "ExecuteTime": {
     "end_time": "2024-07-28T12:20:11.892868Z",
     "start_time": "2024-07-28T12:20:11.888164Z"
    }
   },
   "id": "857c1774d829a993",
   "execution_count": 250
  },
  {
   "cell_type": "code",
   "outputs": [],
   "source": [
    "preprocessed_accessions = [preprocess_refseq(accession) for accession in reference_list]"
   ],
   "metadata": {
    "collapsed": false,
    "ExecuteTime": {
     "end_time": "2024-07-28T12:20:11.905206Z",
     "start_time": "2024-07-28T12:20:11.895030Z"
    }
   },
   "id": "88c630064e136d92",
   "execution_count": 251
  },
  {
   "cell_type": "code",
   "outputs": [],
   "source": [
    "#defining the vector size (50 for GloVe 50D vectors\n",
    "vector_size=50\n",
    "# Map preprocessed RefSeq accession numbers to GloVe vectors\n",
    "embeddings = np.array([get_glove_vector(accession, glove_vectors, vector_size) for accession in preprocessed_accessions])"
   ],
   "metadata": {
    "collapsed": false,
    "ExecuteTime": {
     "end_time": "2024-07-28T12:20:11.943365Z",
     "start_time": "2024-07-28T12:20:11.907349Z"
    }
   },
   "id": "3d75bc03efad2d41",
   "execution_count": 252
  },
  {
   "cell_type": "code",
   "outputs": [
    {
     "name": "stdout",
     "output_type": "stream",
     "text": [
      "[[0. 0. 0. ... 0. 0. 0.]\n",
      " [0. 0. 0. ... 0. 0. 0.]\n",
      " [0. 0. 0. ... 0. 0. 0.]\n",
      " ...\n",
      " [0. 0. 0. ... 0. 0. 0.]\n",
      " [0. 0. 0. ... 0. 0. 0.]\n",
      " [0. 0. 0. ... 0. 0. 0.]]\n"
     ]
    }
   ],
   "source": [
    "print(embeddings)"
   ],
   "metadata": {
    "collapsed": false,
    "ExecuteTime": {
     "end_time": "2024-07-28T12:20:11.951095Z",
     "start_time": "2024-07-28T12:20:11.944949Z"
    }
   },
   "id": "de01e1be587261bc",
   "execution_count": 253
  },
  {
   "cell_type": "markdown",
   "source": [],
   "metadata": {
    "collapsed": false
   },
   "id": "40ad0052a20724f4"
  },
  {
   "cell_type": "code",
   "outputs": [
    {
     "name": "stdout",
     "output_type": "stream",
     "text": [
      "[[4.05589456 4.79492312 5.22107595 ... 4.65939919 4.93146577 6.05702515]\n",
      " [3.35216376 4.88515548 4.40932274 ... 4.37806844 4.66989013 5.99788752]\n",
      " [3.76679746 4.19943505 4.38108326 ... 4.14907519 4.49148159 5.89975127]\n",
      " ...\n",
      " [3.88196579 5.29932127 4.06943373 ... 3.33825625 3.37369855 4.52729869]\n",
      " [3.66066655 4.90551496 4.69576091 ... 4.41291078 4.0917956  5.48454918]\n",
      " [5.01204695 5.15026797 6.62363179 ... 3.9300808  4.92498085 4.9593962 ]]\n"
     ]
    }
   ],
   "source": [
    "#not working normal glove unable embed the text data\n",
    "import string\n",
    "# Create a character set and a mapping\n",
    "charset = string.ascii_lowercase + string.digits + '_.'  # Add more characters if needed\n",
    "char_to_index = {char: idx for idx, char in enumerate(charset)}\n",
    "\n",
    "# Define vector size for character embeddings\n",
    "char_vector_size = 50\n",
    "\n",
    "# Initialize random character embeddings (use pre-trained vectors if available)\n",
    "char_embeddings = np.random.rand(len(charset), char_vector_size)\n",
    "\n",
    "def preprocess_refseq(refseq):\n",
    "    return refseq.lower()\n",
    "\n",
    "def get_character_embedding(refseq, char_to_index, char_embeddings, vector_size):\n",
    "    embedding = np.zeros(vector_size)\n",
    "    for char in refseq:\n",
    "        if char in char_to_index:\n",
    "            embedding += char_embeddings[char_to_index[char]]\n",
    "    return embedding\n",
    "\n",
    "# Example RefSeq accession numbers\n",
    "\n",
    "preprocessed_accessions = [preprocess_refseq(accession) for accession in reference_list]\n",
    "\n",
    "# Map preprocessed RefSeq accession numbers to character embeddings\n",
    "embeddings = np.array([get_character_embedding(accession, char_to_index, char_embeddings, char_vector_size) for accession in preprocessed_accessions])\n",
    "\n",
    "print(embeddings)"
   ],
   "metadata": {
    "collapsed": false,
    "ExecuteTime": {
     "end_time": "2024-07-28T12:20:14.494814Z",
     "start_time": "2024-07-28T12:20:14.273780Z"
    }
   },
   "id": "fca86941754761b",
   "execution_count": 254
  },
  {
   "cell_type": "code",
   "outputs": [],
   "source": [
    "for i in range(char_vector_size):\n",
    "    itraq[f'ref_seq_embedding_{i}'] = embeddings[:, i]"
   ],
   "metadata": {
    "collapsed": false,
    "ExecuteTime": {
     "end_time": "2024-07-28T12:20:15.767742Z",
     "start_time": "2024-07-28T12:20:15.742885Z"
    }
   },
   "id": "cf4aed8e5fdda58c",
   "execution_count": 255
  },
  {
   "cell_type": "code",
   "outputs": [],
   "source": [
    "itraq.drop(columns=['RefSeq_accession_number'], inplace=True)"
   ],
   "metadata": {
    "collapsed": false,
    "ExecuteTime": {
     "end_time": "2024-07-28T12:20:17.173271Z",
     "start_time": "2024-07-28T12:20:17.161201Z"
    }
   },
   "id": "65d0cc01c9818a84",
   "execution_count": 256
  },
  {
   "cell_type": "code",
   "outputs": [
    {
     "data": {
      "text/plain": "  gene_symbol  AO-A12D.01TCGA  C8-A131.01TCGA  AO-A12B.01TCGA  BH-A18Q.02TCGA  \\\n0        PLEC        1.096131        2.609943       -0.659828        0.195341   \n1         NaN        1.111370        2.650422       -0.648742        0.215413   \n2        PLEC        1.111370        2.650422       -0.654285        0.215413   \n3         NaN        1.107561        2.646374       -0.632113        0.205377   \n4         NaN        1.115180        2.646374       -0.640428        0.215413   \n\n   C8-A130.02TCGA  C8-A138.03TCGA  E2-A154.03TCGA  C8-A12L.04TCGA  \\\n0       -0.494060        2.765081        0.862659        1.407570   \n1       -0.503899        2.779709        0.870186        1.407570   \n2       -0.500619        2.779709        0.870186        1.410312   \n3       -0.510459        2.797995        0.866423        1.407570   \n4       -0.503899        2.787023        0.870186        1.413053   \n\n   A2-A0EX.04TCGA  ...  ref_seq_embedding_40  ref_seq_embedding_41  \\\n0        1.185108  ...              5.320253              4.629479   \n1        1.192612  ...              5.097194              4.966734   \n2        1.188860  ...              4.895635              4.482819   \n3        1.185108  ...              3.983480              3.679068   \n4        1.200116  ...              5.371541              4.070302   \n\n   ref_seq_embedding_42  ref_seq_embedding_43  ref_seq_embedding_44  \\\n0              4.168436              4.254725              4.601492   \n1              3.941608              3.555728              5.033548   \n2              3.604672              4.093630              4.295572   \n3              5.497591              3.722800              2.140177   \n4              3.463414              4.153386              4.383065   \n\n   ref_seq_embedding_45  ref_seq_embedding_46  ref_seq_embedding_47  \\\n0              5.189199              4.040429              4.659399   \n1              5.430007              3.886424              4.378068   \n2              5.353730              4.288578              4.149075   \n3              4.349842              3.785860              2.963171   \n4              5.651814              4.397271              3.947641   \n\n   ref_seq_embedding_48  ref_seq_embedding_49  \n0              4.931466              6.057025  \n1              4.669890              5.997888  \n2              4.491482              5.899751  \n3              3.135409              4.032063  \n4              4.708786              5.630138  \n\n[5 rows x 134 columns]",
      "text/html": "<div>\n<style scoped>\n    .dataframe tbody tr th:only-of-type {\n        vertical-align: middle;\n    }\n\n    .dataframe tbody tr th {\n        vertical-align: top;\n    }\n\n    .dataframe thead th {\n        text-align: right;\n    }\n</style>\n<table border=\"1\" class=\"dataframe\">\n  <thead>\n    <tr style=\"text-align: right;\">\n      <th></th>\n      <th>gene_symbol</th>\n      <th>AO-A12D.01TCGA</th>\n      <th>C8-A131.01TCGA</th>\n      <th>AO-A12B.01TCGA</th>\n      <th>BH-A18Q.02TCGA</th>\n      <th>C8-A130.02TCGA</th>\n      <th>C8-A138.03TCGA</th>\n      <th>E2-A154.03TCGA</th>\n      <th>C8-A12L.04TCGA</th>\n      <th>A2-A0EX.04TCGA</th>\n      <th>...</th>\n      <th>ref_seq_embedding_40</th>\n      <th>ref_seq_embedding_41</th>\n      <th>ref_seq_embedding_42</th>\n      <th>ref_seq_embedding_43</th>\n      <th>ref_seq_embedding_44</th>\n      <th>ref_seq_embedding_45</th>\n      <th>ref_seq_embedding_46</th>\n      <th>ref_seq_embedding_47</th>\n      <th>ref_seq_embedding_48</th>\n      <th>ref_seq_embedding_49</th>\n    </tr>\n  </thead>\n  <tbody>\n    <tr>\n      <th>0</th>\n      <td>PLEC</td>\n      <td>1.096131</td>\n      <td>2.609943</td>\n      <td>-0.659828</td>\n      <td>0.195341</td>\n      <td>-0.494060</td>\n      <td>2.765081</td>\n      <td>0.862659</td>\n      <td>1.407570</td>\n      <td>1.185108</td>\n      <td>...</td>\n      <td>5.320253</td>\n      <td>4.629479</td>\n      <td>4.168436</td>\n      <td>4.254725</td>\n      <td>4.601492</td>\n      <td>5.189199</td>\n      <td>4.040429</td>\n      <td>4.659399</td>\n      <td>4.931466</td>\n      <td>6.057025</td>\n    </tr>\n    <tr>\n      <th>1</th>\n      <td>NaN</td>\n      <td>1.111370</td>\n      <td>2.650422</td>\n      <td>-0.648742</td>\n      <td>0.215413</td>\n      <td>-0.503899</td>\n      <td>2.779709</td>\n      <td>0.870186</td>\n      <td>1.407570</td>\n      <td>1.192612</td>\n      <td>...</td>\n      <td>5.097194</td>\n      <td>4.966734</td>\n      <td>3.941608</td>\n      <td>3.555728</td>\n      <td>5.033548</td>\n      <td>5.430007</td>\n      <td>3.886424</td>\n      <td>4.378068</td>\n      <td>4.669890</td>\n      <td>5.997888</td>\n    </tr>\n    <tr>\n      <th>2</th>\n      <td>PLEC</td>\n      <td>1.111370</td>\n      <td>2.650422</td>\n      <td>-0.654285</td>\n      <td>0.215413</td>\n      <td>-0.500619</td>\n      <td>2.779709</td>\n      <td>0.870186</td>\n      <td>1.410312</td>\n      <td>1.188860</td>\n      <td>...</td>\n      <td>4.895635</td>\n      <td>4.482819</td>\n      <td>3.604672</td>\n      <td>4.093630</td>\n      <td>4.295572</td>\n      <td>5.353730</td>\n      <td>4.288578</td>\n      <td>4.149075</td>\n      <td>4.491482</td>\n      <td>5.899751</td>\n    </tr>\n    <tr>\n      <th>3</th>\n      <td>NaN</td>\n      <td>1.107561</td>\n      <td>2.646374</td>\n      <td>-0.632113</td>\n      <td>0.205377</td>\n      <td>-0.510459</td>\n      <td>2.797995</td>\n      <td>0.866423</td>\n      <td>1.407570</td>\n      <td>1.185108</td>\n      <td>...</td>\n      <td>3.983480</td>\n      <td>3.679068</td>\n      <td>5.497591</td>\n      <td>3.722800</td>\n      <td>2.140177</td>\n      <td>4.349842</td>\n      <td>3.785860</td>\n      <td>2.963171</td>\n      <td>3.135409</td>\n      <td>4.032063</td>\n    </tr>\n    <tr>\n      <th>4</th>\n      <td>NaN</td>\n      <td>1.115180</td>\n      <td>2.646374</td>\n      <td>-0.640428</td>\n      <td>0.215413</td>\n      <td>-0.503899</td>\n      <td>2.787023</td>\n      <td>0.870186</td>\n      <td>1.413053</td>\n      <td>1.200116</td>\n      <td>...</td>\n      <td>5.371541</td>\n      <td>4.070302</td>\n      <td>3.463414</td>\n      <td>4.153386</td>\n      <td>4.383065</td>\n      <td>5.651814</td>\n      <td>4.397271</td>\n      <td>3.947641</td>\n      <td>4.708786</td>\n      <td>5.630138</td>\n    </tr>\n  </tbody>\n</table>\n<p>5 rows × 134 columns</p>\n</div>"
     },
     "execution_count": 257,
     "metadata": {},
     "output_type": "execute_result"
    }
   ],
   "source": [
    "itraq.head()"
   ],
   "metadata": {
    "collapsed": false,
    "ExecuteTime": {
     "end_time": "2024-07-28T12:20:18.088914Z",
     "start_time": "2024-07-28T12:20:18.059652Z"
    }
   },
   "id": "12cbd58b1857f3fa",
   "execution_count": 257
  },
  {
   "cell_type": "code",
   "outputs": [
    {
     "data": {
      "text/plain": "gene_symbol\nPLEC        4\nSORBS2      4\nZC3H14      4\nRAP1GDS1    4\nMTUS1       4\n           ..\nMYO5B       1\nMYH9        1\nDST         1\nMACF1       1\nDYNC1H1     1\nName: count, Length: 10062, dtype: int64"
     },
     "execution_count": 258,
     "metadata": {},
     "output_type": "execute_result"
    }
   ],
   "source": [
    "itraq['gene_symbol'].value_counts()"
   ],
   "metadata": {
    "collapsed": false,
    "ExecuteTime": {
     "end_time": "2024-07-28T12:20:20.158646Z",
     "start_time": "2024-07-28T12:20:20.143775Z"
    }
   },
   "id": "ee6120adb8113ad5",
   "execution_count": 258
  },
  {
   "cell_type": "code",
   "outputs": [
    {
     "name": "stdout",
     "output_type": "stream",
     "text": [
      "<class 'pandas.core.frame.DataFrame'>\n",
      "RangeIndex: 12553 entries, 0 to 12552\n",
      "Columns: 134 entries, gene_symbol to ref_seq_embedding_49\n",
      "dtypes: float64(133), object(1)\n",
      "memory usage: 12.8+ MB\n"
     ]
    }
   ],
   "source": [
    "itraq.info()"
   ],
   "metadata": {
    "collapsed": false,
    "ExecuteTime": {
     "end_time": "2024-07-28T12:20:21.237561Z",
     "start_time": "2024-07-28T12:20:21.222636Z"
    }
   },
   "id": "2b32f4347c2e2de4",
   "execution_count": 259
  },
  {
   "cell_type": "code",
   "outputs": [
    {
     "data": {
      "text/plain": "       AO-A12D.01TCGA  C8-A131.01TCGA  AO-A12B.01TCGA  BH-A18Q.02TCGA  \\\ncount    11334.000000    11335.000000    11334.000000    12024.000000   \nmean         0.133079        0.128822       -0.440764       -0.729233   \nstd          1.734231        1.579845        1.634930        2.422452   \nmin        -12.466750      -13.156553       -9.911008      -24.553794   \n25%         -0.656376       -0.583835       -1.330525       -1.266591   \n50%          0.078915        0.116448       -0.318937       -0.296430   \n75%          0.905641        0.853163        0.489641        0.449590   \nmax         17.623036       12.677023        8.289261       11.790434   \n\n       C8-A130.02TCGA  C8-A138.03TCGA  E2-A154.03TCGA  C8-A12L.04TCGA  \\\ncount    12025.000000    11833.000000    11833.000000    11732.000000   \nmean        -0.039436        0.115353       -0.618354       -0.305320   \nstd          1.353505        1.652918        2.281818        1.567687   \nmin        -15.004199      -12.956961      -16.640848      -18.710032   \n25%         -0.671172       -0.679944       -1.278707       -0.991299   \n50%          0.024160        0.088055       -0.157218       -0.231885   \n75%          0.719492        0.929197        0.670727        0.483663   \nmax          6.925004       10.602330       10.079191        8.804312   \n\n       A2-A0EX.04TCGA  AO-A12D.05TCGA  ...  ref_seq_embedding_40  \\\ncount    11732.000000    11276.000000  ...          12553.000000   \nmean        -0.021228        0.077247  ...              5.082186   \nstd          1.651917        1.749695  ...              0.918729   \nmin        -14.711526      -13.441463  ...              3.118312   \n25%         -0.718023       -0.728075  ...              4.408098   \n50%          0.037039        0.045209  ...              4.995167   \n75%          0.750830        0.862472  ...              5.696180   \nmax          9.548006       13.066445  ...              8.317578   \n\n       ref_seq_embedding_41  ref_seq_embedding_42  ref_seq_embedding_43  \\\ncount          12553.000000          12553.000000          12553.000000   \nmean               4.037290              5.186228              4.686814   \nstd                0.850480              0.866602              1.106952   \nmin                1.387756              2.562983              1.782455   \n25%                3.442887              4.591469              3.901699   \n50%                3.990816              5.120648              4.621737   \n75%                4.569430              5.691628              5.416229   \nmax                7.309222              8.149788              8.204120   \n\n       ref_seq_embedding_44  ref_seq_embedding_45  ref_seq_embedding_46  \\\ncount          12553.000000          12553.000000          12553.000000   \nmean               3.258606              5.390093              4.641726   \nstd                0.670582              1.050320              1.000434   \nmin                1.507578              2.781007              2.127140   \n25%                2.769549              4.701296              3.931050   \n50%                3.240506              5.109511              4.466880   \n75%                3.729252              5.729470              5.220096   \nmax                6.188452              9.224635              8.336789   \n\n       ref_seq_embedding_47  ref_seq_embedding_48  ref_seq_embedding_49  \ncount          12553.000000          12553.000000          12553.000000  \nmean               3.817555              4.071343              5.226125  \nstd                0.592103              0.668017              0.931289  \nmin                2.494650              2.689048              2.992831  \n25%                3.392484              3.582943              4.563296  \n50%                3.757472              3.953419              5.089989  \n75%                4.167400              4.474944              5.770850  \nmax                6.223785              6.434050              8.354741  \n\n[8 rows x 133 columns]",
      "text/html": "<div>\n<style scoped>\n    .dataframe tbody tr th:only-of-type {\n        vertical-align: middle;\n    }\n\n    .dataframe tbody tr th {\n        vertical-align: top;\n    }\n\n    .dataframe thead th {\n        text-align: right;\n    }\n</style>\n<table border=\"1\" class=\"dataframe\">\n  <thead>\n    <tr style=\"text-align: right;\">\n      <th></th>\n      <th>AO-A12D.01TCGA</th>\n      <th>C8-A131.01TCGA</th>\n      <th>AO-A12B.01TCGA</th>\n      <th>BH-A18Q.02TCGA</th>\n      <th>C8-A130.02TCGA</th>\n      <th>C8-A138.03TCGA</th>\n      <th>E2-A154.03TCGA</th>\n      <th>C8-A12L.04TCGA</th>\n      <th>A2-A0EX.04TCGA</th>\n      <th>AO-A12D.05TCGA</th>\n      <th>...</th>\n      <th>ref_seq_embedding_40</th>\n      <th>ref_seq_embedding_41</th>\n      <th>ref_seq_embedding_42</th>\n      <th>ref_seq_embedding_43</th>\n      <th>ref_seq_embedding_44</th>\n      <th>ref_seq_embedding_45</th>\n      <th>ref_seq_embedding_46</th>\n      <th>ref_seq_embedding_47</th>\n      <th>ref_seq_embedding_48</th>\n      <th>ref_seq_embedding_49</th>\n    </tr>\n  </thead>\n  <tbody>\n    <tr>\n      <th>count</th>\n      <td>11334.000000</td>\n      <td>11335.000000</td>\n      <td>11334.000000</td>\n      <td>12024.000000</td>\n      <td>12025.000000</td>\n      <td>11833.000000</td>\n      <td>11833.000000</td>\n      <td>11732.000000</td>\n      <td>11732.000000</td>\n      <td>11276.000000</td>\n      <td>...</td>\n      <td>12553.000000</td>\n      <td>12553.000000</td>\n      <td>12553.000000</td>\n      <td>12553.000000</td>\n      <td>12553.000000</td>\n      <td>12553.000000</td>\n      <td>12553.000000</td>\n      <td>12553.000000</td>\n      <td>12553.000000</td>\n      <td>12553.000000</td>\n    </tr>\n    <tr>\n      <th>mean</th>\n      <td>0.133079</td>\n      <td>0.128822</td>\n      <td>-0.440764</td>\n      <td>-0.729233</td>\n      <td>-0.039436</td>\n      <td>0.115353</td>\n      <td>-0.618354</td>\n      <td>-0.305320</td>\n      <td>-0.021228</td>\n      <td>0.077247</td>\n      <td>...</td>\n      <td>5.082186</td>\n      <td>4.037290</td>\n      <td>5.186228</td>\n      <td>4.686814</td>\n      <td>3.258606</td>\n      <td>5.390093</td>\n      <td>4.641726</td>\n      <td>3.817555</td>\n      <td>4.071343</td>\n      <td>5.226125</td>\n    </tr>\n    <tr>\n      <th>std</th>\n      <td>1.734231</td>\n      <td>1.579845</td>\n      <td>1.634930</td>\n      <td>2.422452</td>\n      <td>1.353505</td>\n      <td>1.652918</td>\n      <td>2.281818</td>\n      <td>1.567687</td>\n      <td>1.651917</td>\n      <td>1.749695</td>\n      <td>...</td>\n      <td>0.918729</td>\n      <td>0.850480</td>\n      <td>0.866602</td>\n      <td>1.106952</td>\n      <td>0.670582</td>\n      <td>1.050320</td>\n      <td>1.000434</td>\n      <td>0.592103</td>\n      <td>0.668017</td>\n      <td>0.931289</td>\n    </tr>\n    <tr>\n      <th>min</th>\n      <td>-12.466750</td>\n      <td>-13.156553</td>\n      <td>-9.911008</td>\n      <td>-24.553794</td>\n      <td>-15.004199</td>\n      <td>-12.956961</td>\n      <td>-16.640848</td>\n      <td>-18.710032</td>\n      <td>-14.711526</td>\n      <td>-13.441463</td>\n      <td>...</td>\n      <td>3.118312</td>\n      <td>1.387756</td>\n      <td>2.562983</td>\n      <td>1.782455</td>\n      <td>1.507578</td>\n      <td>2.781007</td>\n      <td>2.127140</td>\n      <td>2.494650</td>\n      <td>2.689048</td>\n      <td>2.992831</td>\n    </tr>\n    <tr>\n      <th>25%</th>\n      <td>-0.656376</td>\n      <td>-0.583835</td>\n      <td>-1.330525</td>\n      <td>-1.266591</td>\n      <td>-0.671172</td>\n      <td>-0.679944</td>\n      <td>-1.278707</td>\n      <td>-0.991299</td>\n      <td>-0.718023</td>\n      <td>-0.728075</td>\n      <td>...</td>\n      <td>4.408098</td>\n      <td>3.442887</td>\n      <td>4.591469</td>\n      <td>3.901699</td>\n      <td>2.769549</td>\n      <td>4.701296</td>\n      <td>3.931050</td>\n      <td>3.392484</td>\n      <td>3.582943</td>\n      <td>4.563296</td>\n    </tr>\n    <tr>\n      <th>50%</th>\n      <td>0.078915</td>\n      <td>0.116448</td>\n      <td>-0.318937</td>\n      <td>-0.296430</td>\n      <td>0.024160</td>\n      <td>0.088055</td>\n      <td>-0.157218</td>\n      <td>-0.231885</td>\n      <td>0.037039</td>\n      <td>0.045209</td>\n      <td>...</td>\n      <td>4.995167</td>\n      <td>3.990816</td>\n      <td>5.120648</td>\n      <td>4.621737</td>\n      <td>3.240506</td>\n      <td>5.109511</td>\n      <td>4.466880</td>\n      <td>3.757472</td>\n      <td>3.953419</td>\n      <td>5.089989</td>\n    </tr>\n    <tr>\n      <th>75%</th>\n      <td>0.905641</td>\n      <td>0.853163</td>\n      <td>0.489641</td>\n      <td>0.449590</td>\n      <td>0.719492</td>\n      <td>0.929197</td>\n      <td>0.670727</td>\n      <td>0.483663</td>\n      <td>0.750830</td>\n      <td>0.862472</td>\n      <td>...</td>\n      <td>5.696180</td>\n      <td>4.569430</td>\n      <td>5.691628</td>\n      <td>5.416229</td>\n      <td>3.729252</td>\n      <td>5.729470</td>\n      <td>5.220096</td>\n      <td>4.167400</td>\n      <td>4.474944</td>\n      <td>5.770850</td>\n    </tr>\n    <tr>\n      <th>max</th>\n      <td>17.623036</td>\n      <td>12.677023</td>\n      <td>8.289261</td>\n      <td>11.790434</td>\n      <td>6.925004</td>\n      <td>10.602330</td>\n      <td>10.079191</td>\n      <td>8.804312</td>\n      <td>9.548006</td>\n      <td>13.066445</td>\n      <td>...</td>\n      <td>8.317578</td>\n      <td>7.309222</td>\n      <td>8.149788</td>\n      <td>8.204120</td>\n      <td>6.188452</td>\n      <td>9.224635</td>\n      <td>8.336789</td>\n      <td>6.223785</td>\n      <td>6.434050</td>\n      <td>8.354741</td>\n    </tr>\n  </tbody>\n</table>\n<p>8 rows × 133 columns</p>\n</div>"
     },
     "execution_count": 260,
     "metadata": {},
     "output_type": "execute_result"
    }
   ],
   "source": [
    "itraq.describe()"
   ],
   "metadata": {
    "collapsed": false,
    "ExecuteTime": {
     "end_time": "2024-07-28T12:20:22.798437Z",
     "start_time": "2024-07-28T12:20:22.361569Z"
    }
   },
   "id": "125b9c8a7db0137c",
   "execution_count": 260
  },
  {
   "cell_type": "code",
   "outputs": [
    {
     "data": {
      "text/plain": "  gene_symbol  AO-A12D.01TCGA  C8-A131.01TCGA  AO-A12B.01TCGA  BH-A18Q.02TCGA  \\\n0        PLEC        1.096131        2.609943       -0.659828        0.195341   \n1         NaN        1.111370        2.650422       -0.648742        0.215413   \n2        PLEC        1.111370        2.650422       -0.654285        0.215413   \n3         NaN        1.107561        2.646374       -0.632113        0.205377   \n4         NaN        1.115180        2.646374       -0.640428        0.215413   \n\n   C8-A130.02TCGA  C8-A138.03TCGA  E2-A154.03TCGA  C8-A12L.04TCGA  \\\n0       -0.494060        2.765081        0.862659        1.407570   \n1       -0.503899        2.779709        0.870186        1.407570   \n2       -0.500619        2.779709        0.870186        1.410312   \n3       -0.510459        2.797995        0.866423        1.407570   \n4       -0.503899        2.787023        0.870186        1.413053   \n\n   A2-A0EX.04TCGA  ...  ref_seq_embedding_40  ref_seq_embedding_41  \\\n0        1.185108  ...              5.320253              4.629479   \n1        1.192612  ...              5.097194              4.966734   \n2        1.188860  ...              4.895635              4.482819   \n3        1.185108  ...              3.983480              3.679068   \n4        1.200116  ...              5.371541              4.070302   \n\n   ref_seq_embedding_42  ref_seq_embedding_43  ref_seq_embedding_44  \\\n0              4.168436              4.254725              4.601492   \n1              3.941608              3.555728              5.033548   \n2              3.604672              4.093630              4.295572   \n3              5.497591              3.722800              2.140177   \n4              3.463414              4.153386              4.383065   \n\n   ref_seq_embedding_45  ref_seq_embedding_46  ref_seq_embedding_47  \\\n0              5.189199              4.040429              4.659399   \n1              5.430007              3.886424              4.378068   \n2              5.353730              4.288578              4.149075   \n3              4.349842              3.785860              2.963171   \n4              5.651814              4.397271              3.947641   \n\n   ref_seq_embedding_48  ref_seq_embedding_49  \n0              4.931466              6.057025  \n1              4.669890              5.997888  \n2              4.491482              5.899751  \n3              3.135409              4.032063  \n4              4.708786              5.630138  \n\n[5 rows x 134 columns]",
      "text/html": "<div>\n<style scoped>\n    .dataframe tbody tr th:only-of-type {\n        vertical-align: middle;\n    }\n\n    .dataframe tbody tr th {\n        vertical-align: top;\n    }\n\n    .dataframe thead th {\n        text-align: right;\n    }\n</style>\n<table border=\"1\" class=\"dataframe\">\n  <thead>\n    <tr style=\"text-align: right;\">\n      <th></th>\n      <th>gene_symbol</th>\n      <th>AO-A12D.01TCGA</th>\n      <th>C8-A131.01TCGA</th>\n      <th>AO-A12B.01TCGA</th>\n      <th>BH-A18Q.02TCGA</th>\n      <th>C8-A130.02TCGA</th>\n      <th>C8-A138.03TCGA</th>\n      <th>E2-A154.03TCGA</th>\n      <th>C8-A12L.04TCGA</th>\n      <th>A2-A0EX.04TCGA</th>\n      <th>...</th>\n      <th>ref_seq_embedding_40</th>\n      <th>ref_seq_embedding_41</th>\n      <th>ref_seq_embedding_42</th>\n      <th>ref_seq_embedding_43</th>\n      <th>ref_seq_embedding_44</th>\n      <th>ref_seq_embedding_45</th>\n      <th>ref_seq_embedding_46</th>\n      <th>ref_seq_embedding_47</th>\n      <th>ref_seq_embedding_48</th>\n      <th>ref_seq_embedding_49</th>\n    </tr>\n  </thead>\n  <tbody>\n    <tr>\n      <th>0</th>\n      <td>PLEC</td>\n      <td>1.096131</td>\n      <td>2.609943</td>\n      <td>-0.659828</td>\n      <td>0.195341</td>\n      <td>-0.494060</td>\n      <td>2.765081</td>\n      <td>0.862659</td>\n      <td>1.407570</td>\n      <td>1.185108</td>\n      <td>...</td>\n      <td>5.320253</td>\n      <td>4.629479</td>\n      <td>4.168436</td>\n      <td>4.254725</td>\n      <td>4.601492</td>\n      <td>5.189199</td>\n      <td>4.040429</td>\n      <td>4.659399</td>\n      <td>4.931466</td>\n      <td>6.057025</td>\n    </tr>\n    <tr>\n      <th>1</th>\n      <td>NaN</td>\n      <td>1.111370</td>\n      <td>2.650422</td>\n      <td>-0.648742</td>\n      <td>0.215413</td>\n      <td>-0.503899</td>\n      <td>2.779709</td>\n      <td>0.870186</td>\n      <td>1.407570</td>\n      <td>1.192612</td>\n      <td>...</td>\n      <td>5.097194</td>\n      <td>4.966734</td>\n      <td>3.941608</td>\n      <td>3.555728</td>\n      <td>5.033548</td>\n      <td>5.430007</td>\n      <td>3.886424</td>\n      <td>4.378068</td>\n      <td>4.669890</td>\n      <td>5.997888</td>\n    </tr>\n    <tr>\n      <th>2</th>\n      <td>PLEC</td>\n      <td>1.111370</td>\n      <td>2.650422</td>\n      <td>-0.654285</td>\n      <td>0.215413</td>\n      <td>-0.500619</td>\n      <td>2.779709</td>\n      <td>0.870186</td>\n      <td>1.410312</td>\n      <td>1.188860</td>\n      <td>...</td>\n      <td>4.895635</td>\n      <td>4.482819</td>\n      <td>3.604672</td>\n      <td>4.093630</td>\n      <td>4.295572</td>\n      <td>5.353730</td>\n      <td>4.288578</td>\n      <td>4.149075</td>\n      <td>4.491482</td>\n      <td>5.899751</td>\n    </tr>\n    <tr>\n      <th>3</th>\n      <td>NaN</td>\n      <td>1.107561</td>\n      <td>2.646374</td>\n      <td>-0.632113</td>\n      <td>0.205377</td>\n      <td>-0.510459</td>\n      <td>2.797995</td>\n      <td>0.866423</td>\n      <td>1.407570</td>\n      <td>1.185108</td>\n      <td>...</td>\n      <td>3.983480</td>\n      <td>3.679068</td>\n      <td>5.497591</td>\n      <td>3.722800</td>\n      <td>2.140177</td>\n      <td>4.349842</td>\n      <td>3.785860</td>\n      <td>2.963171</td>\n      <td>3.135409</td>\n      <td>4.032063</td>\n    </tr>\n    <tr>\n      <th>4</th>\n      <td>NaN</td>\n      <td>1.115180</td>\n      <td>2.646374</td>\n      <td>-0.640428</td>\n      <td>0.215413</td>\n      <td>-0.503899</td>\n      <td>2.787023</td>\n      <td>0.870186</td>\n      <td>1.413053</td>\n      <td>1.200116</td>\n      <td>...</td>\n      <td>5.371541</td>\n      <td>4.070302</td>\n      <td>3.463414</td>\n      <td>4.153386</td>\n      <td>4.383065</td>\n      <td>5.651814</td>\n      <td>4.397271</td>\n      <td>3.947641</td>\n      <td>4.708786</td>\n      <td>5.630138</td>\n    </tr>\n  </tbody>\n</table>\n<p>5 rows × 134 columns</p>\n</div>"
     },
     "execution_count": 261,
     "metadata": {},
     "output_type": "execute_result"
    }
   ],
   "source": [
    "itraq.head()"
   ],
   "metadata": {
    "collapsed": false,
    "ExecuteTime": {
     "end_time": "2024-07-28T12:20:24.538928Z",
     "start_time": "2024-07-28T12:20:24.499375Z"
    }
   },
   "id": "ed37db436089185",
   "execution_count": 261
  },
  {
   "cell_type": "code",
   "outputs": [],
   "source": [
    "from sklearn.impute import KNNImputer\n",
    "\n",
    "from sklearn.metrics import nan_euclidean_distances"
   ],
   "metadata": {
    "collapsed": false,
    "ExecuteTime": {
     "end_time": "2024-07-28T12:20:24.548583Z",
     "start_time": "2024-07-28T12:20:24.541740Z"
    }
   },
   "id": "97ab2d9211c129a1",
   "execution_count": 262
  },
  {
   "cell_type": "code",
   "outputs": [],
   "source": [
    "knnimputer=KNNImputer()"
   ],
   "metadata": {
    "collapsed": false,
    "ExecuteTime": {
     "end_time": "2024-07-28T12:20:27.421156Z",
     "start_time": "2024-07-28T12:20:27.401666Z"
    }
   },
   "id": "75089b4e9c21392e",
   "execution_count": 263
  },
  {
   "cell_type": "markdown",
   "source": [],
   "metadata": {
    "collapsed": false
   },
   "id": "109030d9942fe5a4"
  },
  {
   "cell_type": "code",
   "outputs": [],
   "source": [
    "numerical_columns = itraq.select_dtypes(include=[np.number]).columns\n",
    "categorical_columns = itraq.select_dtypes(exclude=[np.number]).columns\n",
    "categorical_data = itraq[categorical_columns]\n",
    "numerical_data = itraq[numerical_columns]\n",
    "numerical_data_imputed = pd.DataFrame(knnimputer.fit_transform(numerical_data), columns=numerical_data.columns, index=numerical_data.index)"
   ],
   "metadata": {
    "collapsed": false,
    "ExecuteTime": {
     "end_time": "2024-07-28T12:21:18.006223Z",
     "start_time": "2024-07-28T12:20:28.923896Z"
    }
   },
   "id": "61f74eb68bd91f48",
   "execution_count": 264
  },
  {
   "cell_type": "code",
   "outputs": [
    {
     "name": "stdout",
     "output_type": "stream",
     "text": [
      "      gene_symbol\n",
      "0            PLEC\n",
      "1             NaN\n",
      "2            PLEC\n",
      "3             NaN\n",
      "4             NaN\n",
      "...           ...\n",
      "12548         NaN\n",
      "12549         NaN\n",
      "12550       COX8A\n",
      "12551        MIIP\n",
      "12552    KIAA1737\n",
      "\n",
      "[12553 rows x 1 columns]\n"
     ]
    }
   ],
   "source": [
    "print(categorical_data)\n",
    "itraq=numerical_data_imputed\n",
    "itraq['gene_symbol']=categorical_data"
   ],
   "metadata": {
    "collapsed": false,
    "ExecuteTime": {
     "end_time": "2024-07-28T12:21:18.018822Z",
     "start_time": "2024-07-28T12:21:18.009655Z"
    }
   },
   "id": "6c7db32867f0f0cc",
   "execution_count": 265
  },
  {
   "cell_type": "code",
   "outputs": [],
   "source": [
    "itraq.isnull().sum()\n",
    "\n",
    "# Fit and transform the gene_symbol column\n",
    "gene_symbols = itraq[['gene_symbol']]\n",
    "\n"
   ],
   "metadata": {
    "collapsed": false,
    "ExecuteTime": {
     "end_time": "2024-07-28T12:21:18.044806Z",
     "start_time": "2024-07-28T12:21:18.021132Z"
    }
   },
   "id": "d08005020d0326d",
   "execution_count": 266
  },
  {
   "cell_type": "markdown",
   "source": [],
   "metadata": {
    "collapsed": false
   },
   "id": "9610eaab798768fd"
  },
  {
   "cell_type": "code",
   "outputs": [
    {
     "data": {
      "text/plain": "       AO-A12D.01TCGA  C8-A131.01TCGA  AO-A12B.01TCGA  BH-A18Q.02TCGA  \\\ncount    12553.000000    12553.000000    12553.000000    12553.000000   \nmean         0.199163        0.184369       -0.458120       -0.774809   \nstd          1.701257        1.541094        1.578630        2.408393   \nmin        -12.466750      -13.156553       -9.911008      -24.553794   \n25%         -0.583990       -0.519069       -1.291724       -1.353571   \n50%          0.136062        0.177167       -0.352194       -0.336575   \n75%          0.947549        0.901737        0.431578        0.422827   \nmax         17.623036       12.677023        8.289261       11.790434   \n\n       C8-A130.02TCGA  C8-A138.03TCGA  E2-A154.03TCGA  C8-A12L.04TCGA  \\\ncount    12553.000000    12553.000000    12553.000000    12553.000000   \nmean        -0.037451        0.150692       -0.697842       -0.308609   \nstd          1.331631        1.631209        2.274450        1.531735   \nmin        -15.004199      -12.956961      -16.640848      -18.710032   \n25%         -0.654773       -0.639716       -1.451823       -0.972108   \n50%          0.017600        0.124626       -0.228723       -0.245593   \n75%          0.699813        0.965768        0.621803        0.461730   \nmax          6.925004       10.602330       10.079191        8.804312   \n\n       A2-A0EX.04TCGA  AO-A12D.05TCGA  ...  ref_seq_embedding_40  \\\ncount    12553.000000    12553.000000  ...          12553.000000   \nmean        -0.035199        0.118856  ...              5.082186   \nstd          1.614754        1.692786  ...              0.918729   \nmin        -14.711526      -13.441463  ...              3.118312   \n25%         -0.720837       -0.662108  ...              4.408098   \n50%          0.025783        0.092853  ...              4.995167   \n75%          0.716126        0.895456  ...              5.696180   \nmax          9.548006       13.066445  ...              8.317578   \n\n       ref_seq_embedding_41  ref_seq_embedding_42  ref_seq_embedding_43  \\\ncount          12553.000000          12553.000000          12553.000000   \nmean               4.037290              5.186228              4.686814   \nstd                0.850480              0.866602              1.106952   \nmin                1.387756              2.562983              1.782455   \n25%                3.442887              4.591469              3.901699   \n50%                3.990816              5.120648              4.621737   \n75%                4.569430              5.691628              5.416229   \nmax                7.309222              8.149788              8.204120   \n\n       ref_seq_embedding_44  ref_seq_embedding_45  ref_seq_embedding_46  \\\ncount          12553.000000          12553.000000          12553.000000   \nmean               3.258606              5.390093              4.641726   \nstd                0.670582              1.050320              1.000434   \nmin                1.507578              2.781007              2.127140   \n25%                2.769549              4.701296              3.931050   \n50%                3.240506              5.109511              4.466880   \n75%                3.729252              5.729470              5.220096   \nmax                6.188452              9.224635              8.336789   \n\n       ref_seq_embedding_47  ref_seq_embedding_48  ref_seq_embedding_49  \ncount          12553.000000          12553.000000          12553.000000  \nmean               3.817555              4.071343              5.226125  \nstd                0.592103              0.668017              0.931289  \nmin                2.494650              2.689048              2.992831  \n25%                3.392484              3.582943              4.563296  \n50%                3.757472              3.953419              5.089989  \n75%                4.167400              4.474944              5.770850  \nmax                6.223785              6.434050              8.354741  \n\n[8 rows x 133 columns]",
      "text/html": "<div>\n<style scoped>\n    .dataframe tbody tr th:only-of-type {\n        vertical-align: middle;\n    }\n\n    .dataframe tbody tr th {\n        vertical-align: top;\n    }\n\n    .dataframe thead th {\n        text-align: right;\n    }\n</style>\n<table border=\"1\" class=\"dataframe\">\n  <thead>\n    <tr style=\"text-align: right;\">\n      <th></th>\n      <th>AO-A12D.01TCGA</th>\n      <th>C8-A131.01TCGA</th>\n      <th>AO-A12B.01TCGA</th>\n      <th>BH-A18Q.02TCGA</th>\n      <th>C8-A130.02TCGA</th>\n      <th>C8-A138.03TCGA</th>\n      <th>E2-A154.03TCGA</th>\n      <th>C8-A12L.04TCGA</th>\n      <th>A2-A0EX.04TCGA</th>\n      <th>AO-A12D.05TCGA</th>\n      <th>...</th>\n      <th>ref_seq_embedding_40</th>\n      <th>ref_seq_embedding_41</th>\n      <th>ref_seq_embedding_42</th>\n      <th>ref_seq_embedding_43</th>\n      <th>ref_seq_embedding_44</th>\n      <th>ref_seq_embedding_45</th>\n      <th>ref_seq_embedding_46</th>\n      <th>ref_seq_embedding_47</th>\n      <th>ref_seq_embedding_48</th>\n      <th>ref_seq_embedding_49</th>\n    </tr>\n  </thead>\n  <tbody>\n    <tr>\n      <th>count</th>\n      <td>12553.000000</td>\n      <td>12553.000000</td>\n      <td>12553.000000</td>\n      <td>12553.000000</td>\n      <td>12553.000000</td>\n      <td>12553.000000</td>\n      <td>12553.000000</td>\n      <td>12553.000000</td>\n      <td>12553.000000</td>\n      <td>12553.000000</td>\n      <td>...</td>\n      <td>12553.000000</td>\n      <td>12553.000000</td>\n      <td>12553.000000</td>\n      <td>12553.000000</td>\n      <td>12553.000000</td>\n      <td>12553.000000</td>\n      <td>12553.000000</td>\n      <td>12553.000000</td>\n      <td>12553.000000</td>\n      <td>12553.000000</td>\n    </tr>\n    <tr>\n      <th>mean</th>\n      <td>0.199163</td>\n      <td>0.184369</td>\n      <td>-0.458120</td>\n      <td>-0.774809</td>\n      <td>-0.037451</td>\n      <td>0.150692</td>\n      <td>-0.697842</td>\n      <td>-0.308609</td>\n      <td>-0.035199</td>\n      <td>0.118856</td>\n      <td>...</td>\n      <td>5.082186</td>\n      <td>4.037290</td>\n      <td>5.186228</td>\n      <td>4.686814</td>\n      <td>3.258606</td>\n      <td>5.390093</td>\n      <td>4.641726</td>\n      <td>3.817555</td>\n      <td>4.071343</td>\n      <td>5.226125</td>\n    </tr>\n    <tr>\n      <th>std</th>\n      <td>1.701257</td>\n      <td>1.541094</td>\n      <td>1.578630</td>\n      <td>2.408393</td>\n      <td>1.331631</td>\n      <td>1.631209</td>\n      <td>2.274450</td>\n      <td>1.531735</td>\n      <td>1.614754</td>\n      <td>1.692786</td>\n      <td>...</td>\n      <td>0.918729</td>\n      <td>0.850480</td>\n      <td>0.866602</td>\n      <td>1.106952</td>\n      <td>0.670582</td>\n      <td>1.050320</td>\n      <td>1.000434</td>\n      <td>0.592103</td>\n      <td>0.668017</td>\n      <td>0.931289</td>\n    </tr>\n    <tr>\n      <th>min</th>\n      <td>-12.466750</td>\n      <td>-13.156553</td>\n      <td>-9.911008</td>\n      <td>-24.553794</td>\n      <td>-15.004199</td>\n      <td>-12.956961</td>\n      <td>-16.640848</td>\n      <td>-18.710032</td>\n      <td>-14.711526</td>\n      <td>-13.441463</td>\n      <td>...</td>\n      <td>3.118312</td>\n      <td>1.387756</td>\n      <td>2.562983</td>\n      <td>1.782455</td>\n      <td>1.507578</td>\n      <td>2.781007</td>\n      <td>2.127140</td>\n      <td>2.494650</td>\n      <td>2.689048</td>\n      <td>2.992831</td>\n    </tr>\n    <tr>\n      <th>25%</th>\n      <td>-0.583990</td>\n      <td>-0.519069</td>\n      <td>-1.291724</td>\n      <td>-1.353571</td>\n      <td>-0.654773</td>\n      <td>-0.639716</td>\n      <td>-1.451823</td>\n      <td>-0.972108</td>\n      <td>-0.720837</td>\n      <td>-0.662108</td>\n      <td>...</td>\n      <td>4.408098</td>\n      <td>3.442887</td>\n      <td>4.591469</td>\n      <td>3.901699</td>\n      <td>2.769549</td>\n      <td>4.701296</td>\n      <td>3.931050</td>\n      <td>3.392484</td>\n      <td>3.582943</td>\n      <td>4.563296</td>\n    </tr>\n    <tr>\n      <th>50%</th>\n      <td>0.136062</td>\n      <td>0.177167</td>\n      <td>-0.352194</td>\n      <td>-0.336575</td>\n      <td>0.017600</td>\n      <td>0.124626</td>\n      <td>-0.228723</td>\n      <td>-0.245593</td>\n      <td>0.025783</td>\n      <td>0.092853</td>\n      <td>...</td>\n      <td>4.995167</td>\n      <td>3.990816</td>\n      <td>5.120648</td>\n      <td>4.621737</td>\n      <td>3.240506</td>\n      <td>5.109511</td>\n      <td>4.466880</td>\n      <td>3.757472</td>\n      <td>3.953419</td>\n      <td>5.089989</td>\n    </tr>\n    <tr>\n      <th>75%</th>\n      <td>0.947549</td>\n      <td>0.901737</td>\n      <td>0.431578</td>\n      <td>0.422827</td>\n      <td>0.699813</td>\n      <td>0.965768</td>\n      <td>0.621803</td>\n      <td>0.461730</td>\n      <td>0.716126</td>\n      <td>0.895456</td>\n      <td>...</td>\n      <td>5.696180</td>\n      <td>4.569430</td>\n      <td>5.691628</td>\n      <td>5.416229</td>\n      <td>3.729252</td>\n      <td>5.729470</td>\n      <td>5.220096</td>\n      <td>4.167400</td>\n      <td>4.474944</td>\n      <td>5.770850</td>\n    </tr>\n    <tr>\n      <th>max</th>\n      <td>17.623036</td>\n      <td>12.677023</td>\n      <td>8.289261</td>\n      <td>11.790434</td>\n      <td>6.925004</td>\n      <td>10.602330</td>\n      <td>10.079191</td>\n      <td>8.804312</td>\n      <td>9.548006</td>\n      <td>13.066445</td>\n      <td>...</td>\n      <td>8.317578</td>\n      <td>7.309222</td>\n      <td>8.149788</td>\n      <td>8.204120</td>\n      <td>6.188452</td>\n      <td>9.224635</td>\n      <td>8.336789</td>\n      <td>6.223785</td>\n      <td>6.434050</td>\n      <td>8.354741</td>\n    </tr>\n  </tbody>\n</table>\n<p>8 rows × 133 columns</p>\n</div>"
     },
     "execution_count": 267,
     "metadata": {},
     "output_type": "execute_result"
    }
   ],
   "source": [
    "itraq.describe()\n"
   ],
   "metadata": {
    "collapsed": false,
    "ExecuteTime": {
     "end_time": "2024-07-28T12:21:32.455820Z",
     "start_time": "2024-07-28T12:21:32.038894Z"
    }
   },
   "id": "ffe53d8af9bc2f04",
   "execution_count": 267
  },
  {
   "cell_type": "code",
   "outputs": [
    {
     "data": {
      "text/plain": "   AO-A12D.01TCGA  C8-A131.01TCGA  AO-A12B.01TCGA  BH-A18Q.02TCGA  \\\n0        1.096131        2.609943       -0.659828        0.195341   \n1        1.111370        2.650422       -0.648742        0.215413   \n2        1.111370        2.650422       -0.654285        0.215413   \n3        1.107561        2.646374       -0.632113        0.205377   \n4        1.115180        2.646374       -0.640428        0.215413   \n\n   C8-A130.02TCGA  C8-A138.03TCGA  E2-A154.03TCGA  C8-A12L.04TCGA  \\\n0       -0.494060        2.765081        0.862659        1.407570   \n1       -0.503899        2.779709        0.870186        1.407570   \n2       -0.500619        2.779709        0.870186        1.410312   \n3       -0.510459        2.797995        0.866423        1.407570   \n4       -0.503899        2.787023        0.870186        1.413053   \n\n   A2-A0EX.04TCGA  AO-A12D.05TCGA  ...  ref_seq_embedding_41  \\\n0        1.185108        1.100688  ...              4.629479   \n1        1.192612        1.100688  ...              4.966734   \n2        1.188860        1.100688  ...              4.482819   \n3        1.185108        1.100688  ...              3.679068   \n4        1.200116        1.093358  ...              4.070302   \n\n   ref_seq_embedding_42  ref_seq_embedding_43  ref_seq_embedding_44  \\\n0              4.168436              4.254725              4.601492   \n1              3.941608              3.555728              5.033548   \n2              3.604672              4.093630              4.295572   \n3              5.497591              3.722800              2.140177   \n4              3.463414              4.153386              4.383065   \n\n   ref_seq_embedding_45  ref_seq_embedding_46  ref_seq_embedding_47  \\\n0              5.189199              4.040429              4.659399   \n1              5.430007              3.886424              4.378068   \n2              5.353730              4.288578              4.149075   \n3              4.349842              3.785860              2.963171   \n4              5.651814              4.397271              3.947641   \n\n   ref_seq_embedding_48  ref_seq_embedding_49  gene_symbol  \n0              4.931466              6.057025         PLEC  \n1              4.669890              5.997888          NaN  \n2              4.491482              5.899751         PLEC  \n3              3.135409              4.032063          NaN  \n4              4.708786              5.630138          NaN  \n\n[5 rows x 134 columns]",
      "text/html": "<div>\n<style scoped>\n    .dataframe tbody tr th:only-of-type {\n        vertical-align: middle;\n    }\n\n    .dataframe tbody tr th {\n        vertical-align: top;\n    }\n\n    .dataframe thead th {\n        text-align: right;\n    }\n</style>\n<table border=\"1\" class=\"dataframe\">\n  <thead>\n    <tr style=\"text-align: right;\">\n      <th></th>\n      <th>AO-A12D.01TCGA</th>\n      <th>C8-A131.01TCGA</th>\n      <th>AO-A12B.01TCGA</th>\n      <th>BH-A18Q.02TCGA</th>\n      <th>C8-A130.02TCGA</th>\n      <th>C8-A138.03TCGA</th>\n      <th>E2-A154.03TCGA</th>\n      <th>C8-A12L.04TCGA</th>\n      <th>A2-A0EX.04TCGA</th>\n      <th>AO-A12D.05TCGA</th>\n      <th>...</th>\n      <th>ref_seq_embedding_41</th>\n      <th>ref_seq_embedding_42</th>\n      <th>ref_seq_embedding_43</th>\n      <th>ref_seq_embedding_44</th>\n      <th>ref_seq_embedding_45</th>\n      <th>ref_seq_embedding_46</th>\n      <th>ref_seq_embedding_47</th>\n      <th>ref_seq_embedding_48</th>\n      <th>ref_seq_embedding_49</th>\n      <th>gene_symbol</th>\n    </tr>\n  </thead>\n  <tbody>\n    <tr>\n      <th>0</th>\n      <td>1.096131</td>\n      <td>2.609943</td>\n      <td>-0.659828</td>\n      <td>0.195341</td>\n      <td>-0.494060</td>\n      <td>2.765081</td>\n      <td>0.862659</td>\n      <td>1.407570</td>\n      <td>1.185108</td>\n      <td>1.100688</td>\n      <td>...</td>\n      <td>4.629479</td>\n      <td>4.168436</td>\n      <td>4.254725</td>\n      <td>4.601492</td>\n      <td>5.189199</td>\n      <td>4.040429</td>\n      <td>4.659399</td>\n      <td>4.931466</td>\n      <td>6.057025</td>\n      <td>PLEC</td>\n    </tr>\n    <tr>\n      <th>1</th>\n      <td>1.111370</td>\n      <td>2.650422</td>\n      <td>-0.648742</td>\n      <td>0.215413</td>\n      <td>-0.503899</td>\n      <td>2.779709</td>\n      <td>0.870186</td>\n      <td>1.407570</td>\n      <td>1.192612</td>\n      <td>1.100688</td>\n      <td>...</td>\n      <td>4.966734</td>\n      <td>3.941608</td>\n      <td>3.555728</td>\n      <td>5.033548</td>\n      <td>5.430007</td>\n      <td>3.886424</td>\n      <td>4.378068</td>\n      <td>4.669890</td>\n      <td>5.997888</td>\n      <td>NaN</td>\n    </tr>\n    <tr>\n      <th>2</th>\n      <td>1.111370</td>\n      <td>2.650422</td>\n      <td>-0.654285</td>\n      <td>0.215413</td>\n      <td>-0.500619</td>\n      <td>2.779709</td>\n      <td>0.870186</td>\n      <td>1.410312</td>\n      <td>1.188860</td>\n      <td>1.100688</td>\n      <td>...</td>\n      <td>4.482819</td>\n      <td>3.604672</td>\n      <td>4.093630</td>\n      <td>4.295572</td>\n      <td>5.353730</td>\n      <td>4.288578</td>\n      <td>4.149075</td>\n      <td>4.491482</td>\n      <td>5.899751</td>\n      <td>PLEC</td>\n    </tr>\n    <tr>\n      <th>3</th>\n      <td>1.107561</td>\n      <td>2.646374</td>\n      <td>-0.632113</td>\n      <td>0.205377</td>\n      <td>-0.510459</td>\n      <td>2.797995</td>\n      <td>0.866423</td>\n      <td>1.407570</td>\n      <td>1.185108</td>\n      <td>1.100688</td>\n      <td>...</td>\n      <td>3.679068</td>\n      <td>5.497591</td>\n      <td>3.722800</td>\n      <td>2.140177</td>\n      <td>4.349842</td>\n      <td>3.785860</td>\n      <td>2.963171</td>\n      <td>3.135409</td>\n      <td>4.032063</td>\n      <td>NaN</td>\n    </tr>\n    <tr>\n      <th>4</th>\n      <td>1.115180</td>\n      <td>2.646374</td>\n      <td>-0.640428</td>\n      <td>0.215413</td>\n      <td>-0.503899</td>\n      <td>2.787023</td>\n      <td>0.870186</td>\n      <td>1.413053</td>\n      <td>1.200116</td>\n      <td>1.093358</td>\n      <td>...</td>\n      <td>4.070302</td>\n      <td>3.463414</td>\n      <td>4.153386</td>\n      <td>4.383065</td>\n      <td>5.651814</td>\n      <td>4.397271</td>\n      <td>3.947641</td>\n      <td>4.708786</td>\n      <td>5.630138</td>\n      <td>NaN</td>\n    </tr>\n  </tbody>\n</table>\n<p>5 rows × 134 columns</p>\n</div>"
     },
     "execution_count": 268,
     "metadata": {},
     "output_type": "execute_result"
    }
   ],
   "source": [
    "itraq.head()"
   ],
   "metadata": {
    "collapsed": false,
    "ExecuteTime": {
     "end_time": "2024-07-28T12:21:34.127811Z",
     "start_time": "2024-07-28T12:21:34.096326Z"
    }
   },
   "id": "f6c8a506cb37655",
   "execution_count": 268
  },
  {
   "cell_type": "code",
   "outputs": [
    {
     "data": {
      "text/plain": "   AO-A12D.01TCGA  C8-A131.01TCGA  AO-A12B.01TCGA  BH-A18Q.02TCGA  \\\n0        1.096131        2.609943       -0.659828        0.195341   \n1        1.111370        2.650422       -0.648742        0.215413   \n2        1.111370        2.650422       -0.654285        0.215413   \n3        1.107561        2.646374       -0.632113        0.205377   \n4        1.115180        2.646374       -0.640428        0.215413   \n5        1.107561        2.646374       -0.654285        0.215413   \n6        1.111370        2.650422       -0.648742        0.215413   \n7        1.111370        2.650422       -0.648742        0.215413   \n8       -1.517390        3.909313       -0.618256       -1.035760   \n9        0.482754       -1.045294        1.222003       -0.517226   \n\n   C8-A130.02TCGA  C8-A138.03TCGA  E2-A154.03TCGA  C8-A12L.04TCGA  \\\n0       -0.494060        2.765081        0.862659        1.407570   \n1       -0.503899        2.779709        0.870186        1.407570   \n2       -0.500619        2.779709        0.870186        1.410312   \n3       -0.510459        2.797995        0.866423        1.407570   \n4       -0.503899        2.787023        0.870186        1.413053   \n5       -0.503899        2.779709        0.870186        1.407570   \n6       -0.500619        2.783366        0.870186        1.410312   \n7       -0.500619        2.783366        0.870186        1.413053   \n8       -1.845366        2.205538        1.920171        3.195070   \n9       -0.405503        0.749997        2.349197       -0.007077   \n\n   A2-A0EX.04TCGA  AO-A12D.05TCGA  ...  ref_seq_embedding_41  \\\n0        1.185108        1.100688  ...              4.629479   \n1        1.192612        1.100688  ...              4.966734   \n2        1.188860        1.100688  ...              4.482819   \n3        1.185108        1.100688  ...              3.679068   \n4        1.200116        1.093358  ...              4.070302   \n5        1.188860        1.097023  ...              4.639178   \n6        1.188860        1.097023  ...              4.242468   \n7        1.192612        1.097023  ...              4.467157   \n8        1.046289       -2.413909  ...              3.811193   \n9        2.138081        0.543630  ...              2.541170   \n\n   ref_seq_embedding_42  ref_seq_embedding_43  ref_seq_embedding_44  \\\n0              4.168436              4.254725              4.601492   \n1              3.941608              3.555728              5.033548   \n2              3.604672              4.093630              4.295572   \n3              5.497591              3.722800              2.140177   \n4              3.463414              4.153386              4.383065   \n5              4.011642              3.277109              4.513632   \n6              3.726505              3.604298              4.333217   \n7              3.905005              4.138397              4.448975   \n8              4.380177              4.962195              3.755374   \n9              4.244682              5.163155              1.993546   \n\n   ref_seq_embedding_45  ref_seq_embedding_46  ref_seq_embedding_47  \\\n0              5.189199              4.040429              4.659399   \n1              5.430007              3.886424              4.378068   \n2              5.353730              4.288578              4.149075   \n3              4.349842              3.785860              2.963171   \n4              5.651814              4.397271              3.947641   \n5              5.367354              3.771283              3.982521   \n6              4.780826              4.403337              4.002983   \n7              5.156677              3.601493              4.159385   \n8              5.555498              4.739041              4.014998   \n9              6.000427              5.201562              2.661204   \n\n   ref_seq_embedding_48  ref_seq_embedding_49  gene_symbol  \n0              4.931466              6.057025         PLEC  \n1              4.669890              5.997888          NaN  \n2              4.491482              5.899751         PLEC  \n3              3.135409              4.032063          NaN  \n4              4.708786              5.630138          NaN  \n5              4.450128              5.575751         PLEC  \n6              4.431600              5.502651         PLEC  \n7              4.799553              5.317349          NaN  \n8              4.862597              5.948226          NaN  \n9              3.580485              4.526727        AHNAK  \n\n[10 rows x 134 columns]",
      "text/html": "<div>\n<style scoped>\n    .dataframe tbody tr th:only-of-type {\n        vertical-align: middle;\n    }\n\n    .dataframe tbody tr th {\n        vertical-align: top;\n    }\n\n    .dataframe thead th {\n        text-align: right;\n    }\n</style>\n<table border=\"1\" class=\"dataframe\">\n  <thead>\n    <tr style=\"text-align: right;\">\n      <th></th>\n      <th>AO-A12D.01TCGA</th>\n      <th>C8-A131.01TCGA</th>\n      <th>AO-A12B.01TCGA</th>\n      <th>BH-A18Q.02TCGA</th>\n      <th>C8-A130.02TCGA</th>\n      <th>C8-A138.03TCGA</th>\n      <th>E2-A154.03TCGA</th>\n      <th>C8-A12L.04TCGA</th>\n      <th>A2-A0EX.04TCGA</th>\n      <th>AO-A12D.05TCGA</th>\n      <th>...</th>\n      <th>ref_seq_embedding_41</th>\n      <th>ref_seq_embedding_42</th>\n      <th>ref_seq_embedding_43</th>\n      <th>ref_seq_embedding_44</th>\n      <th>ref_seq_embedding_45</th>\n      <th>ref_seq_embedding_46</th>\n      <th>ref_seq_embedding_47</th>\n      <th>ref_seq_embedding_48</th>\n      <th>ref_seq_embedding_49</th>\n      <th>gene_symbol</th>\n    </tr>\n  </thead>\n  <tbody>\n    <tr>\n      <th>0</th>\n      <td>1.096131</td>\n      <td>2.609943</td>\n      <td>-0.659828</td>\n      <td>0.195341</td>\n      <td>-0.494060</td>\n      <td>2.765081</td>\n      <td>0.862659</td>\n      <td>1.407570</td>\n      <td>1.185108</td>\n      <td>1.100688</td>\n      <td>...</td>\n      <td>4.629479</td>\n      <td>4.168436</td>\n      <td>4.254725</td>\n      <td>4.601492</td>\n      <td>5.189199</td>\n      <td>4.040429</td>\n      <td>4.659399</td>\n      <td>4.931466</td>\n      <td>6.057025</td>\n      <td>PLEC</td>\n    </tr>\n    <tr>\n      <th>1</th>\n      <td>1.111370</td>\n      <td>2.650422</td>\n      <td>-0.648742</td>\n      <td>0.215413</td>\n      <td>-0.503899</td>\n      <td>2.779709</td>\n      <td>0.870186</td>\n      <td>1.407570</td>\n      <td>1.192612</td>\n      <td>1.100688</td>\n      <td>...</td>\n      <td>4.966734</td>\n      <td>3.941608</td>\n      <td>3.555728</td>\n      <td>5.033548</td>\n      <td>5.430007</td>\n      <td>3.886424</td>\n      <td>4.378068</td>\n      <td>4.669890</td>\n      <td>5.997888</td>\n      <td>NaN</td>\n    </tr>\n    <tr>\n      <th>2</th>\n      <td>1.111370</td>\n      <td>2.650422</td>\n      <td>-0.654285</td>\n      <td>0.215413</td>\n      <td>-0.500619</td>\n      <td>2.779709</td>\n      <td>0.870186</td>\n      <td>1.410312</td>\n      <td>1.188860</td>\n      <td>1.100688</td>\n      <td>...</td>\n      <td>4.482819</td>\n      <td>3.604672</td>\n      <td>4.093630</td>\n      <td>4.295572</td>\n      <td>5.353730</td>\n      <td>4.288578</td>\n      <td>4.149075</td>\n      <td>4.491482</td>\n      <td>5.899751</td>\n      <td>PLEC</td>\n    </tr>\n    <tr>\n      <th>3</th>\n      <td>1.107561</td>\n      <td>2.646374</td>\n      <td>-0.632113</td>\n      <td>0.205377</td>\n      <td>-0.510459</td>\n      <td>2.797995</td>\n      <td>0.866423</td>\n      <td>1.407570</td>\n      <td>1.185108</td>\n      <td>1.100688</td>\n      <td>...</td>\n      <td>3.679068</td>\n      <td>5.497591</td>\n      <td>3.722800</td>\n      <td>2.140177</td>\n      <td>4.349842</td>\n      <td>3.785860</td>\n      <td>2.963171</td>\n      <td>3.135409</td>\n      <td>4.032063</td>\n      <td>NaN</td>\n    </tr>\n    <tr>\n      <th>4</th>\n      <td>1.115180</td>\n      <td>2.646374</td>\n      <td>-0.640428</td>\n      <td>0.215413</td>\n      <td>-0.503899</td>\n      <td>2.787023</td>\n      <td>0.870186</td>\n      <td>1.413053</td>\n      <td>1.200116</td>\n      <td>1.093358</td>\n      <td>...</td>\n      <td>4.070302</td>\n      <td>3.463414</td>\n      <td>4.153386</td>\n      <td>4.383065</td>\n      <td>5.651814</td>\n      <td>4.397271</td>\n      <td>3.947641</td>\n      <td>4.708786</td>\n      <td>5.630138</td>\n      <td>NaN</td>\n    </tr>\n    <tr>\n      <th>5</th>\n      <td>1.107561</td>\n      <td>2.646374</td>\n      <td>-0.654285</td>\n      <td>0.215413</td>\n      <td>-0.503899</td>\n      <td>2.779709</td>\n      <td>0.870186</td>\n      <td>1.407570</td>\n      <td>1.188860</td>\n      <td>1.097023</td>\n      <td>...</td>\n      <td>4.639178</td>\n      <td>4.011642</td>\n      <td>3.277109</td>\n      <td>4.513632</td>\n      <td>5.367354</td>\n      <td>3.771283</td>\n      <td>3.982521</td>\n      <td>4.450128</td>\n      <td>5.575751</td>\n      <td>PLEC</td>\n    </tr>\n    <tr>\n      <th>6</th>\n      <td>1.111370</td>\n      <td>2.650422</td>\n      <td>-0.648742</td>\n      <td>0.215413</td>\n      <td>-0.500619</td>\n      <td>2.783366</td>\n      <td>0.870186</td>\n      <td>1.410312</td>\n      <td>1.188860</td>\n      <td>1.097023</td>\n      <td>...</td>\n      <td>4.242468</td>\n      <td>3.726505</td>\n      <td>3.604298</td>\n      <td>4.333217</td>\n      <td>4.780826</td>\n      <td>4.403337</td>\n      <td>4.002983</td>\n      <td>4.431600</td>\n      <td>5.502651</td>\n      <td>PLEC</td>\n    </tr>\n    <tr>\n      <th>7</th>\n      <td>1.111370</td>\n      <td>2.650422</td>\n      <td>-0.648742</td>\n      <td>0.215413</td>\n      <td>-0.500619</td>\n      <td>2.783366</td>\n      <td>0.870186</td>\n      <td>1.413053</td>\n      <td>1.192612</td>\n      <td>1.097023</td>\n      <td>...</td>\n      <td>4.467157</td>\n      <td>3.905005</td>\n      <td>4.138397</td>\n      <td>4.448975</td>\n      <td>5.156677</td>\n      <td>3.601493</td>\n      <td>4.159385</td>\n      <td>4.799553</td>\n      <td>5.317349</td>\n      <td>NaN</td>\n    </tr>\n    <tr>\n      <th>8</th>\n      <td>-1.517390</td>\n      <td>3.909313</td>\n      <td>-0.618256</td>\n      <td>-1.035760</td>\n      <td>-1.845366</td>\n      <td>2.205538</td>\n      <td>1.920171</td>\n      <td>3.195070</td>\n      <td>1.046289</td>\n      <td>-2.413909</td>\n      <td>...</td>\n      <td>3.811193</td>\n      <td>4.380177</td>\n      <td>4.962195</td>\n      <td>3.755374</td>\n      <td>5.555498</td>\n      <td>4.739041</td>\n      <td>4.014998</td>\n      <td>4.862597</td>\n      <td>5.948226</td>\n      <td>NaN</td>\n    </tr>\n    <tr>\n      <th>9</th>\n      <td>0.482754</td>\n      <td>-1.045294</td>\n      <td>1.222003</td>\n      <td>-0.517226</td>\n      <td>-0.405503</td>\n      <td>0.749997</td>\n      <td>2.349197</td>\n      <td>-0.007077</td>\n      <td>2.138081</td>\n      <td>0.543630</td>\n      <td>...</td>\n      <td>2.541170</td>\n      <td>4.244682</td>\n      <td>5.163155</td>\n      <td>1.993546</td>\n      <td>6.000427</td>\n      <td>5.201562</td>\n      <td>2.661204</td>\n      <td>3.580485</td>\n      <td>4.526727</td>\n      <td>AHNAK</td>\n    </tr>\n  </tbody>\n</table>\n<p>10 rows × 134 columns</p>\n</div>"
     },
     "execution_count": 269,
     "metadata": {},
     "output_type": "execute_result"
    }
   ],
   "source": [
    "itraq.head(10)"
   ],
   "metadata": {
    "collapsed": false,
    "ExecuteTime": {
     "end_time": "2024-07-28T12:21:34.165622Z",
     "start_time": "2024-07-28T12:21:34.131017Z"
    }
   },
   "id": "3d75495f7a3e0ff3",
   "execution_count": 269
  },
  {
   "cell_type": "code",
   "outputs": [
    {
     "data": {
      "text/plain": "AO-A12D.01TCGA             0\nC8-A131.01TCGA             0\nAO-A12B.01TCGA             0\nBH-A18Q.02TCGA             0\nC8-A130.02TCGA             0\n                        ... \nref_seq_embedding_46       0\nref_seq_embedding_47       0\nref_seq_embedding_48       0\nref_seq_embedding_49       0\ngene_symbol             1780\nLength: 134, dtype: int64"
     },
     "execution_count": 270,
     "metadata": {},
     "output_type": "execute_result"
    }
   ],
   "source": [
    "itraq.isnull().sum()"
   ],
   "metadata": {
    "collapsed": false,
    "ExecuteTime": {
     "end_time": "2024-07-28T12:21:34.185151Z",
     "start_time": "2024-07-28T12:21:34.167897Z"
    }
   },
   "id": "b0356ea8d57f5240",
   "execution_count": 270
  },
  {
   "cell_type": "code",
   "outputs": [
    {
     "data": {
      "text/plain": "AO-A12D.01TCGA          12553\nC8-A131.01TCGA          12553\nAO-A12B.01TCGA          12553\nBH-A18Q.02TCGA          12553\nC8-A130.02TCGA          12553\n                        ...  \nref_seq_embedding_46    12553\nref_seq_embedding_47    12553\nref_seq_embedding_48    12553\nref_seq_embedding_49    12553\ngene_symbol             10773\nLength: 134, dtype: int64"
     },
     "execution_count": 271,
     "metadata": {},
     "output_type": "execute_result"
    }
   ],
   "source": [
    "itraq.count()"
   ],
   "metadata": {
    "collapsed": false,
    "ExecuteTime": {
     "end_time": "2024-07-28T12:21:36.064939Z",
     "start_time": "2024-07-28T12:21:36.051087Z"
    }
   },
   "id": "861e645e16bbf25",
   "execution_count": 271
  },
  {
   "cell_type": "code",
   "outputs": [],
   "source": [
    "from sklearn.preprocessing import OneHotEncoder\n",
    "encoder=OneHotEncoder(sparse_output=False,handle_unknown='ignore')\n",
    "itraq['gene_symbol'].fillna('Unknown', inplace=True)\n",
    "\n"
   ],
   "metadata": {
    "collapsed": false
   },
   "id": "c18437cce973621f",
   "execution_count": null
  },
  {
   "cell_type": "code",
   "outputs": [],
   "source": [
    "\n",
    "gene_symbols_encoded = encoder.fit_transform(itraq[['gene_symbol']])\n",
    "encoded_columns = encoder.get_feature_names_out(['gene_symbol'])\n"
   ],
   "metadata": {
    "collapsed": false,
    "ExecuteTime": {
     "end_time": "2024-07-28T12:21:39.257725Z",
     "start_time": "2024-07-28T12:21:39.135772Z"
    }
   },
   "id": "5afe99973bf39f1f",
   "execution_count": 273
  },
  {
   "cell_type": "code",
   "outputs": [
    {
     "data": {
      "text/plain": "0            PLEC\n1         Unknown\n2            PLEC\n3         Unknown\n4         Unknown\n           ...   \n12548     Unknown\n12549     Unknown\n12550       COX8A\n12551        MIIP\n12552    KIAA1737\nName: gene_symbol, Length: 12553, dtype: object"
     },
     "execution_count": 274,
     "metadata": {},
     "output_type": "execute_result"
    }
   ],
   "source": [
    "itraq['gene_symbol'] "
   ],
   "metadata": {
    "collapsed": false,
    "ExecuteTime": {
     "end_time": "2024-07-28T12:21:40.427264Z",
     "start_time": "2024-07-28T12:21:40.418022Z"
    }
   },
   "id": "9074b3e767a52b1e",
   "execution_count": 274
  },
  {
   "cell_type": "code",
   "outputs": [],
   "source": [
    "gene_encoded=pd.DataFrame(gene_symbols_encoded)\n"
   ],
   "metadata": {
    "collapsed": false,
    "ExecuteTime": {
     "end_time": "2024-07-28T12:21:42.029989Z",
     "start_time": "2024-07-28T12:21:41.982173Z"
    }
   },
   "id": "8e41c7aa6e146a6",
   "execution_count": 275
  },
  {
   "cell_type": "code",
   "outputs": [
    {
     "name": "stdout",
     "output_type": "stream",
     "text": [
      "<class 'pandas.core.frame.DataFrame'>\n",
      "RangeIndex: 12553 entries, 0 to 12552\n",
      "Columns: 10063 entries, 0 to 10062\n",
      "dtypes: float64(10063)\n",
      "memory usage: 963.8 MB\n"
     ]
    }
   ],
   "source": [
    "gene_encoded.info()"
   ],
   "metadata": {
    "collapsed": false,
    "ExecuteTime": {
     "end_time": "2024-07-28T12:21:43.945068Z",
     "start_time": "2024-07-28T12:21:43.532225Z"
    }
   },
   "id": "8e3d461f07fff506",
   "execution_count": 276
  },
  {
   "cell_type": "code",
   "outputs": [
    {
     "name": "stdout",
     "output_type": "stream",
     "text": [
      "<class 'pandas.core.frame.DataFrame'>\n",
      "RangeIndex: 12553 entries, 0 to 12552\n",
      "Columns: 10197 entries, AO-A12D.01TCGA to 10062\n",
      "dtypes: float64(10196), object(1)\n",
      "memory usage: 976.6+ MB\n"
     ]
    }
   ],
   "source": [
    "itraq = pd.concat([numerical_data_imputed, gene_encoded], axis=1)\n",
    "\n",
    "\n",
    "    \n",
    "itraq.info()"
   ],
   "metadata": {
    "collapsed": false,
    "ExecuteTime": {
     "end_time": "2024-07-28T12:21:47.535312Z",
     "start_time": "2024-07-28T12:21:45.076081Z"
    }
   },
   "id": "acb2dce09c816e1c",
   "execution_count": 277
  },
  {
   "cell_type": "code",
   "outputs": [
    {
     "data": {
      "text/plain": "   AO-A12D.01TCGA  C8-A131.01TCGA  AO-A12B.01TCGA  BH-A18Q.02TCGA  \\\n0        1.096131        2.609943       -0.659828        0.195341   \n1        1.111370        2.650422       -0.648742        0.215413   \n2        1.111370        2.650422       -0.654285        0.215413   \n3        1.107561        2.646374       -0.632113        0.205377   \n4        1.115180        2.646374       -0.640428        0.215413   \n\n   C8-A130.02TCGA  C8-A138.03TCGA  E2-A154.03TCGA  C8-A12L.04TCGA  \\\n0       -0.494060        2.765081        0.862659        1.407570   \n1       -0.503899        2.779709        0.870186        1.407570   \n2       -0.500619        2.779709        0.870186        1.410312   \n3       -0.510459        2.797995        0.866423        1.407570   \n4       -0.503899        2.787023        0.870186        1.413053   \n\n   A2-A0EX.04TCGA  AO-A12D.05TCGA  ...  10053  10054  10055  10056  10057  \\\n0        1.185108        1.100688  ...    0.0    0.0    0.0    0.0    0.0   \n1        1.192612        1.100688  ...    0.0    0.0    0.0    0.0    0.0   \n2        1.188860        1.100688  ...    0.0    0.0    0.0    0.0    0.0   \n3        1.185108        1.100688  ...    0.0    0.0    0.0    0.0    0.0   \n4        1.200116        1.093358  ...    0.0    0.0    0.0    0.0    0.0   \n\n   10058  10059  10060  10061  10062  \n0    0.0    0.0    0.0    0.0    0.0  \n1    0.0    0.0    0.0    0.0    0.0  \n2    0.0    0.0    0.0    0.0    0.0  \n3    0.0    0.0    0.0    0.0    0.0  \n4    0.0    0.0    0.0    0.0    0.0  \n\n[5 rows x 10197 columns]",
      "text/html": "<div>\n<style scoped>\n    .dataframe tbody tr th:only-of-type {\n        vertical-align: middle;\n    }\n\n    .dataframe tbody tr th {\n        vertical-align: top;\n    }\n\n    .dataframe thead th {\n        text-align: right;\n    }\n</style>\n<table border=\"1\" class=\"dataframe\">\n  <thead>\n    <tr style=\"text-align: right;\">\n      <th></th>\n      <th>AO-A12D.01TCGA</th>\n      <th>C8-A131.01TCGA</th>\n      <th>AO-A12B.01TCGA</th>\n      <th>BH-A18Q.02TCGA</th>\n      <th>C8-A130.02TCGA</th>\n      <th>C8-A138.03TCGA</th>\n      <th>E2-A154.03TCGA</th>\n      <th>C8-A12L.04TCGA</th>\n      <th>A2-A0EX.04TCGA</th>\n      <th>AO-A12D.05TCGA</th>\n      <th>...</th>\n      <th>10053</th>\n      <th>10054</th>\n      <th>10055</th>\n      <th>10056</th>\n      <th>10057</th>\n      <th>10058</th>\n      <th>10059</th>\n      <th>10060</th>\n      <th>10061</th>\n      <th>10062</th>\n    </tr>\n  </thead>\n  <tbody>\n    <tr>\n      <th>0</th>\n      <td>1.096131</td>\n      <td>2.609943</td>\n      <td>-0.659828</td>\n      <td>0.195341</td>\n      <td>-0.494060</td>\n      <td>2.765081</td>\n      <td>0.862659</td>\n      <td>1.407570</td>\n      <td>1.185108</td>\n      <td>1.100688</td>\n      <td>...</td>\n      <td>0.0</td>\n      <td>0.0</td>\n      <td>0.0</td>\n      <td>0.0</td>\n      <td>0.0</td>\n      <td>0.0</td>\n      <td>0.0</td>\n      <td>0.0</td>\n      <td>0.0</td>\n      <td>0.0</td>\n    </tr>\n    <tr>\n      <th>1</th>\n      <td>1.111370</td>\n      <td>2.650422</td>\n      <td>-0.648742</td>\n      <td>0.215413</td>\n      <td>-0.503899</td>\n      <td>2.779709</td>\n      <td>0.870186</td>\n      <td>1.407570</td>\n      <td>1.192612</td>\n      <td>1.100688</td>\n      <td>...</td>\n      <td>0.0</td>\n      <td>0.0</td>\n      <td>0.0</td>\n      <td>0.0</td>\n      <td>0.0</td>\n      <td>0.0</td>\n      <td>0.0</td>\n      <td>0.0</td>\n      <td>0.0</td>\n      <td>0.0</td>\n    </tr>\n    <tr>\n      <th>2</th>\n      <td>1.111370</td>\n      <td>2.650422</td>\n      <td>-0.654285</td>\n      <td>0.215413</td>\n      <td>-0.500619</td>\n      <td>2.779709</td>\n      <td>0.870186</td>\n      <td>1.410312</td>\n      <td>1.188860</td>\n      <td>1.100688</td>\n      <td>...</td>\n      <td>0.0</td>\n      <td>0.0</td>\n      <td>0.0</td>\n      <td>0.0</td>\n      <td>0.0</td>\n      <td>0.0</td>\n      <td>0.0</td>\n      <td>0.0</td>\n      <td>0.0</td>\n      <td>0.0</td>\n    </tr>\n    <tr>\n      <th>3</th>\n      <td>1.107561</td>\n      <td>2.646374</td>\n      <td>-0.632113</td>\n      <td>0.205377</td>\n      <td>-0.510459</td>\n      <td>2.797995</td>\n      <td>0.866423</td>\n      <td>1.407570</td>\n      <td>1.185108</td>\n      <td>1.100688</td>\n      <td>...</td>\n      <td>0.0</td>\n      <td>0.0</td>\n      <td>0.0</td>\n      <td>0.0</td>\n      <td>0.0</td>\n      <td>0.0</td>\n      <td>0.0</td>\n      <td>0.0</td>\n      <td>0.0</td>\n      <td>0.0</td>\n    </tr>\n    <tr>\n      <th>4</th>\n      <td>1.115180</td>\n      <td>2.646374</td>\n      <td>-0.640428</td>\n      <td>0.215413</td>\n      <td>-0.503899</td>\n      <td>2.787023</td>\n      <td>0.870186</td>\n      <td>1.413053</td>\n      <td>1.200116</td>\n      <td>1.093358</td>\n      <td>...</td>\n      <td>0.0</td>\n      <td>0.0</td>\n      <td>0.0</td>\n      <td>0.0</td>\n      <td>0.0</td>\n      <td>0.0</td>\n      <td>0.0</td>\n      <td>0.0</td>\n      <td>0.0</td>\n      <td>0.0</td>\n    </tr>\n  </tbody>\n</table>\n<p>5 rows × 10197 columns</p>\n</div>"
     },
     "execution_count": 278,
     "metadata": {},
     "output_type": "execute_result"
    }
   ],
   "source": [
    "itraq.head()"
   ],
   "metadata": {
    "collapsed": false,
    "ExecuteTime": {
     "end_time": "2024-07-28T12:21:50.902120Z",
     "start_time": "2024-07-28T12:21:50.868683Z"
    }
   },
   "id": "2435871283b57bf2",
   "execution_count": 278
  },
  {
   "cell_type": "code",
   "outputs": [],
   "source": [],
   "metadata": {
    "collapsed": false,
    "ExecuteTime": {
     "end_time": "2024-07-28T12:21:58.474458Z",
     "start_time": "2024-07-28T12:21:58.470738Z"
    }
   },
   "id": "ee011b4c48d2b625",
   "execution_count": 278
  },
  {
   "cell_type": "code",
   "outputs": [
    {
     "data": {
      "text/plain": "AO-A12D.01TCGA    0\nC8-A131.01TCGA    0\nAO-A12B.01TCGA    0\nBH-A18Q.02TCGA    0\nC8-A130.02TCGA    0\n                 ..\n10058             0\n10059             0\n10060             0\n10061             0\n10062             0\nLength: 10197, dtype: int64"
     },
     "execution_count": 279,
     "metadata": {},
     "output_type": "execute_result"
    }
   ],
   "source": [
    "itraq.isnull().sum()"
   ],
   "metadata": {
    "collapsed": false,
    "ExecuteTime": {
     "end_time": "2024-07-28T12:21:58.860837Z",
     "start_time": "2024-07-28T12:21:58.477195Z"
    }
   },
   "id": "4253e989d0aecb48",
   "execution_count": 279
  },
  {
   "cell_type": "code",
   "outputs": [
    {
     "data": {
      "text/plain": "  Complete TCGA ID  Age at Initial Pathologic Diagnosis ER Status PR Status  \\\n0     TCGA-A2-A0T2                                   66  Negative  Negative   \n1     TCGA-A2-A0CM                                   40  Negative  Negative   \n2     TCGA-BH-A18V                                   48  Negative  Negative   \n3     TCGA-BH-A18Q                                   56  Negative  Negative   \n4     TCGA-BH-A0E0                                   38  Negative  Negative   \n\n  HER2 Final Status Tumor Tumor--T1 Coded Node Node-Coded Metastasis  ...  \\\n0          Negative    T3         T_Other   N3   Positive         M1  ...   \n1          Negative    T2         T_Other   N0   Negative         M0  ...   \n2          Negative    T2         T_Other   N1   Positive         M0  ...   \n3          Negative    T2         T_Other   N1   Positive         M0  ...   \n4          Negative    T3         T_Other   N3   Positive         M0  ...   \n\n   PAM50 mRNA SigClust Unsupervised mRNA SigClust Intrinsic mRNA  \\\n0  Basal-like                          0                     -13   \n1  Basal-like                        -12                     -13   \n2  Basal-like                        -12                     -13   \n3  Basal-like                        -12                     -13   \n4  Basal-like                          0                     -13   \n\n  miRNA Clusters methylation Clusters  RPPA Clusters  CN Clusters  \\\n0              3                    5          Basal            3   \n1              4                    4          Basal            4   \n2              5                    5          Basal            1   \n3              5                    5          Basal            1   \n4              5                    5          Basal            1   \n\n   Integrated Clusters (with PAM50)  Integrated Clusters (no exp)  \\\n0                                 2                             2   \n1                                 2                             1   \n2                                 2                             2   \n3                                 2                             2   \n4                                 2                             2   \n\n  Integrated Clusters (unsup exp)  \n0                               2  \n1                               1  \n2                               2  \n3                               2  \n4                               2  \n\n[5 rows x 29 columns]",
      "text/html": "<div>\n<style scoped>\n    .dataframe tbody tr th:only-of-type {\n        vertical-align: middle;\n    }\n\n    .dataframe tbody tr th {\n        vertical-align: top;\n    }\n\n    .dataframe thead th {\n        text-align: right;\n    }\n</style>\n<table border=\"1\" class=\"dataframe\">\n  <thead>\n    <tr style=\"text-align: right;\">\n      <th></th>\n      <th>Complete TCGA ID</th>\n      <th>Age at Initial Pathologic Diagnosis</th>\n      <th>ER Status</th>\n      <th>PR Status</th>\n      <th>HER2 Final Status</th>\n      <th>Tumor</th>\n      <th>Tumor--T1 Coded</th>\n      <th>Node</th>\n      <th>Node-Coded</th>\n      <th>Metastasis</th>\n      <th>...</th>\n      <th>PAM50 mRNA</th>\n      <th>SigClust Unsupervised mRNA</th>\n      <th>SigClust Intrinsic mRNA</th>\n      <th>miRNA Clusters</th>\n      <th>methylation Clusters</th>\n      <th>RPPA Clusters</th>\n      <th>CN Clusters</th>\n      <th>Integrated Clusters (with PAM50)</th>\n      <th>Integrated Clusters (no exp)</th>\n      <th>Integrated Clusters (unsup exp)</th>\n    </tr>\n  </thead>\n  <tbody>\n    <tr>\n      <th>0</th>\n      <td>TCGA-A2-A0T2</td>\n      <td>66</td>\n      <td>Negative</td>\n      <td>Negative</td>\n      <td>Negative</td>\n      <td>T3</td>\n      <td>T_Other</td>\n      <td>N3</td>\n      <td>Positive</td>\n      <td>M1</td>\n      <td>...</td>\n      <td>Basal-like</td>\n      <td>0</td>\n      <td>-13</td>\n      <td>3</td>\n      <td>5</td>\n      <td>Basal</td>\n      <td>3</td>\n      <td>2</td>\n      <td>2</td>\n      <td>2</td>\n    </tr>\n    <tr>\n      <th>1</th>\n      <td>TCGA-A2-A0CM</td>\n      <td>40</td>\n      <td>Negative</td>\n      <td>Negative</td>\n      <td>Negative</td>\n      <td>T2</td>\n      <td>T_Other</td>\n      <td>N0</td>\n      <td>Negative</td>\n      <td>M0</td>\n      <td>...</td>\n      <td>Basal-like</td>\n      <td>-12</td>\n      <td>-13</td>\n      <td>4</td>\n      <td>4</td>\n      <td>Basal</td>\n      <td>4</td>\n      <td>2</td>\n      <td>1</td>\n      <td>1</td>\n    </tr>\n    <tr>\n      <th>2</th>\n      <td>TCGA-BH-A18V</td>\n      <td>48</td>\n      <td>Negative</td>\n      <td>Negative</td>\n      <td>Negative</td>\n      <td>T2</td>\n      <td>T_Other</td>\n      <td>N1</td>\n      <td>Positive</td>\n      <td>M0</td>\n      <td>...</td>\n      <td>Basal-like</td>\n      <td>-12</td>\n      <td>-13</td>\n      <td>5</td>\n      <td>5</td>\n      <td>Basal</td>\n      <td>1</td>\n      <td>2</td>\n      <td>2</td>\n      <td>2</td>\n    </tr>\n    <tr>\n      <th>3</th>\n      <td>TCGA-BH-A18Q</td>\n      <td>56</td>\n      <td>Negative</td>\n      <td>Negative</td>\n      <td>Negative</td>\n      <td>T2</td>\n      <td>T_Other</td>\n      <td>N1</td>\n      <td>Positive</td>\n      <td>M0</td>\n      <td>...</td>\n      <td>Basal-like</td>\n      <td>-12</td>\n      <td>-13</td>\n      <td>5</td>\n      <td>5</td>\n      <td>Basal</td>\n      <td>1</td>\n      <td>2</td>\n      <td>2</td>\n      <td>2</td>\n    </tr>\n    <tr>\n      <th>4</th>\n      <td>TCGA-BH-A0E0</td>\n      <td>38</td>\n      <td>Negative</td>\n      <td>Negative</td>\n      <td>Negative</td>\n      <td>T3</td>\n      <td>T_Other</td>\n      <td>N3</td>\n      <td>Positive</td>\n      <td>M0</td>\n      <td>...</td>\n      <td>Basal-like</td>\n      <td>0</td>\n      <td>-13</td>\n      <td>5</td>\n      <td>5</td>\n      <td>Basal</td>\n      <td>1</td>\n      <td>2</td>\n      <td>2</td>\n      <td>2</td>\n    </tr>\n  </tbody>\n</table>\n<p>5 rows × 29 columns</p>\n</div>"
     },
     "execution_count": 329,
     "metadata": {},
     "output_type": "execute_result"
    }
   ],
   "source": [
    "patient.head()"
   ],
   "metadata": {
    "collapsed": false,
    "ExecuteTime": {
     "end_time": "2024-07-28T12:28:21.826345Z",
     "start_time": "2024-07-28T12:28:21.805129Z"
    }
   },
   "id": "84ae54e20451adc1",
   "execution_count": 329
  },
  {
   "cell_type": "code",
   "outputs": [],
   "source": [
    "receptor_status_mapping={\n",
    "    'Positive':1,\n",
    "    'Negative':0,\n",
    "}"
   ],
   "metadata": {
    "collapsed": false,
    "ExecuteTime": {
     "end_time": "2024-07-28T12:28:25.386893Z",
     "start_time": "2024-07-28T12:28:25.381965Z"
    }
   },
   "id": "6b43a0c77d812932",
   "execution_count": 330
  },
  {
   "cell_type": "code",
   "outputs": [],
   "source": [
    "patient['ER Status']=patient['ER Status'].map(receptor_status_mapping)\n",
    "patient['PR Status']=patient['PR Status'].map(receptor_status_mapping)\n",
    "patient['HER2 Final Status']=patient['HER2 Final Status'].map(receptor_status_mapping)"
   ],
   "metadata": {
    "collapsed": false,
    "ExecuteTime": {
     "end_time": "2024-07-28T12:28:26.697295Z",
     "start_time": "2024-07-28T12:28:26.688728Z"
    }
   },
   "id": "741a6561200ec9d5",
   "execution_count": 331
  },
  {
   "cell_type": "code",
   "outputs": [
    {
     "data": {
      "text/plain": "  Complete TCGA ID  Age at Initial Pathologic Diagnosis  ER Status  PR Status  \\\n0     TCGA-A2-A0T2                                   66        0.0          0   \n1     TCGA-A2-A0CM                                   40        0.0          0   \n2     TCGA-BH-A18V                                   48        0.0          0   \n3     TCGA-BH-A18Q                                   56        0.0          0   \n4     TCGA-BH-A0E0                                   38        0.0          0   \n\n   HER2 Final Status Tumor Tumor--T1 Coded Node Node-Coded Metastasis  ...  \\\n0                0.0    T3         T_Other   N3   Positive         M1  ...   \n1                0.0    T2         T_Other   N0   Negative         M0  ...   \n2                0.0    T2         T_Other   N1   Positive         M0  ...   \n3                0.0    T2         T_Other   N1   Positive         M0  ...   \n4                0.0    T3         T_Other   N3   Positive         M0  ...   \n\n   PAM50 mRNA SigClust Unsupervised mRNA SigClust Intrinsic mRNA  \\\n0  Basal-like                          0                     -13   \n1  Basal-like                        -12                     -13   \n2  Basal-like                        -12                     -13   \n3  Basal-like                        -12                     -13   \n4  Basal-like                          0                     -13   \n\n  miRNA Clusters methylation Clusters  RPPA Clusters  CN Clusters  \\\n0              3                    5          Basal            3   \n1              4                    4          Basal            4   \n2              5                    5          Basal            1   \n3              5                    5          Basal            1   \n4              5                    5          Basal            1   \n\n   Integrated Clusters (with PAM50)  Integrated Clusters (no exp)  \\\n0                                 2                             2   \n1                                 2                             1   \n2                                 2                             2   \n3                                 2                             2   \n4                                 2                             2   \n\n  Integrated Clusters (unsup exp)  \n0                               2  \n1                               1  \n2                               2  \n3                               2  \n4                               2  \n\n[5 rows x 29 columns]",
      "text/html": "<div>\n<style scoped>\n    .dataframe tbody tr th:only-of-type {\n        vertical-align: middle;\n    }\n\n    .dataframe tbody tr th {\n        vertical-align: top;\n    }\n\n    .dataframe thead th {\n        text-align: right;\n    }\n</style>\n<table border=\"1\" class=\"dataframe\">\n  <thead>\n    <tr style=\"text-align: right;\">\n      <th></th>\n      <th>Complete TCGA ID</th>\n      <th>Age at Initial Pathologic Diagnosis</th>\n      <th>ER Status</th>\n      <th>PR Status</th>\n      <th>HER2 Final Status</th>\n      <th>Tumor</th>\n      <th>Tumor--T1 Coded</th>\n      <th>Node</th>\n      <th>Node-Coded</th>\n      <th>Metastasis</th>\n      <th>...</th>\n      <th>PAM50 mRNA</th>\n      <th>SigClust Unsupervised mRNA</th>\n      <th>SigClust Intrinsic mRNA</th>\n      <th>miRNA Clusters</th>\n      <th>methylation Clusters</th>\n      <th>RPPA Clusters</th>\n      <th>CN Clusters</th>\n      <th>Integrated Clusters (with PAM50)</th>\n      <th>Integrated Clusters (no exp)</th>\n      <th>Integrated Clusters (unsup exp)</th>\n    </tr>\n  </thead>\n  <tbody>\n    <tr>\n      <th>0</th>\n      <td>TCGA-A2-A0T2</td>\n      <td>66</td>\n      <td>0.0</td>\n      <td>0</td>\n      <td>0.0</td>\n      <td>T3</td>\n      <td>T_Other</td>\n      <td>N3</td>\n      <td>Positive</td>\n      <td>M1</td>\n      <td>...</td>\n      <td>Basal-like</td>\n      <td>0</td>\n      <td>-13</td>\n      <td>3</td>\n      <td>5</td>\n      <td>Basal</td>\n      <td>3</td>\n      <td>2</td>\n      <td>2</td>\n      <td>2</td>\n    </tr>\n    <tr>\n      <th>1</th>\n      <td>TCGA-A2-A0CM</td>\n      <td>40</td>\n      <td>0.0</td>\n      <td>0</td>\n      <td>0.0</td>\n      <td>T2</td>\n      <td>T_Other</td>\n      <td>N0</td>\n      <td>Negative</td>\n      <td>M0</td>\n      <td>...</td>\n      <td>Basal-like</td>\n      <td>-12</td>\n      <td>-13</td>\n      <td>4</td>\n      <td>4</td>\n      <td>Basal</td>\n      <td>4</td>\n      <td>2</td>\n      <td>1</td>\n      <td>1</td>\n    </tr>\n    <tr>\n      <th>2</th>\n      <td>TCGA-BH-A18V</td>\n      <td>48</td>\n      <td>0.0</td>\n      <td>0</td>\n      <td>0.0</td>\n      <td>T2</td>\n      <td>T_Other</td>\n      <td>N1</td>\n      <td>Positive</td>\n      <td>M0</td>\n      <td>...</td>\n      <td>Basal-like</td>\n      <td>-12</td>\n      <td>-13</td>\n      <td>5</td>\n      <td>5</td>\n      <td>Basal</td>\n      <td>1</td>\n      <td>2</td>\n      <td>2</td>\n      <td>2</td>\n    </tr>\n    <tr>\n      <th>3</th>\n      <td>TCGA-BH-A18Q</td>\n      <td>56</td>\n      <td>0.0</td>\n      <td>0</td>\n      <td>0.0</td>\n      <td>T2</td>\n      <td>T_Other</td>\n      <td>N1</td>\n      <td>Positive</td>\n      <td>M0</td>\n      <td>...</td>\n      <td>Basal-like</td>\n      <td>-12</td>\n      <td>-13</td>\n      <td>5</td>\n      <td>5</td>\n      <td>Basal</td>\n      <td>1</td>\n      <td>2</td>\n      <td>2</td>\n      <td>2</td>\n    </tr>\n    <tr>\n      <th>4</th>\n      <td>TCGA-BH-A0E0</td>\n      <td>38</td>\n      <td>0.0</td>\n      <td>0</td>\n      <td>0.0</td>\n      <td>T3</td>\n      <td>T_Other</td>\n      <td>N3</td>\n      <td>Positive</td>\n      <td>M0</td>\n      <td>...</td>\n      <td>Basal-like</td>\n      <td>0</td>\n      <td>-13</td>\n      <td>5</td>\n      <td>5</td>\n      <td>Basal</td>\n      <td>1</td>\n      <td>2</td>\n      <td>2</td>\n      <td>2</td>\n    </tr>\n  </tbody>\n</table>\n<p>5 rows × 29 columns</p>\n</div>"
     },
     "execution_count": 332,
     "metadata": {},
     "output_type": "execute_result"
    }
   ],
   "source": [
    "patient.head()"
   ],
   "metadata": {
    "collapsed": false,
    "ExecuteTime": {
     "end_time": "2024-07-28T12:28:28.537961Z",
     "start_time": "2024-07-28T12:28:28.509706Z"
    }
   },
   "id": "913f3bd19683b02c",
   "execution_count": 332
  },
  {
   "cell_type": "code",
   "outputs": [
    {
     "data": {
      "text/plain": "    Tumor Tumor--T1 Coded\n0      T3         T_Other\n1      T2         T_Other\n2      T2         T_Other\n3      T2         T_Other\n4      T3         T_Other\n..    ...             ...\n100    T2         T_Other\n101    T2         T_Other\n102    T2         T_Other\n103    T4         T_Other\n104    T2         T_Other\n\n[105 rows x 2 columns]",
      "text/html": "<div>\n<style scoped>\n    .dataframe tbody tr th:only-of-type {\n        vertical-align: middle;\n    }\n\n    .dataframe tbody tr th {\n        vertical-align: top;\n    }\n\n    .dataframe thead th {\n        text-align: right;\n    }\n</style>\n<table border=\"1\" class=\"dataframe\">\n  <thead>\n    <tr style=\"text-align: right;\">\n      <th></th>\n      <th>Tumor</th>\n      <th>Tumor--T1 Coded</th>\n    </tr>\n  </thead>\n  <tbody>\n    <tr>\n      <th>0</th>\n      <td>T3</td>\n      <td>T_Other</td>\n    </tr>\n    <tr>\n      <th>1</th>\n      <td>T2</td>\n      <td>T_Other</td>\n    </tr>\n    <tr>\n      <th>2</th>\n      <td>T2</td>\n      <td>T_Other</td>\n    </tr>\n    <tr>\n      <th>3</th>\n      <td>T2</td>\n      <td>T_Other</td>\n    </tr>\n    <tr>\n      <th>4</th>\n      <td>T3</td>\n      <td>T_Other</td>\n    </tr>\n    <tr>\n      <th>...</th>\n      <td>...</td>\n      <td>...</td>\n    </tr>\n    <tr>\n      <th>100</th>\n      <td>T2</td>\n      <td>T_Other</td>\n    </tr>\n    <tr>\n      <th>101</th>\n      <td>T2</td>\n      <td>T_Other</td>\n    </tr>\n    <tr>\n      <th>102</th>\n      <td>T2</td>\n      <td>T_Other</td>\n    </tr>\n    <tr>\n      <th>103</th>\n      <td>T4</td>\n      <td>T_Other</td>\n    </tr>\n    <tr>\n      <th>104</th>\n      <td>T2</td>\n      <td>T_Other</td>\n    </tr>\n  </tbody>\n</table>\n<p>105 rows × 2 columns</p>\n</div>"
     },
     "execution_count": 333,
     "metadata": {},
     "output_type": "execute_result"
    }
   ],
   "source": [
    "patient[['Tumor','Tumor--T1 Coded']]"
   ],
   "metadata": {
    "collapsed": false,
    "ExecuteTime": {
     "end_time": "2024-07-28T12:28:30.294686Z",
     "start_time": "2024-07-28T12:28:30.281634Z"
    }
   },
   "id": "2439124a38cad2cf",
   "execution_count": 333
  },
  {
   "cell_type": "code",
   "outputs": [],
   "source": [
    "from sklearn.preprocessing import OrdinalEncoder\n",
    "encoder=OrdinalEncoder(categories=[['T1','T2','T3','T4']])\n",
    "\n",
    "patient['Tumor']=encoder.fit_transform(patient[['Tumor']])\n"
   ],
   "metadata": {
    "collapsed": false,
    "ExecuteTime": {
     "end_time": "2024-07-28T12:28:31.698522Z",
     "start_time": "2024-07-28T12:28:31.690089Z"
    }
   },
   "id": "b8698cedbe11bbd4",
   "execution_count": 334
  },
  {
   "cell_type": "code",
   "outputs": [
    {
     "data": {
      "text/plain": "Tumor--T1 Coded\nT_Other    90\nT1         15\nName: count, dtype: int64"
     },
     "execution_count": 335,
     "metadata": {},
     "output_type": "execute_result"
    }
   ],
   "source": [
    "patient['Tumor--T1 Coded'].value_counts()"
   ],
   "metadata": {
    "collapsed": false,
    "ExecuteTime": {
     "end_time": "2024-07-28T12:28:33.711039Z",
     "start_time": "2024-07-28T12:28:33.702668Z"
    }
   },
   "id": "bbbbe008ad0db707",
   "execution_count": 335
  },
  {
   "cell_type": "code",
   "outputs": [],
   "source": [
    "tumor_t1_Coded={\n",
    "    'T1':0,\n",
    "    'T_Other':1,\n",
    "}"
   ],
   "metadata": {
    "collapsed": false,
    "ExecuteTime": {
     "end_time": "2024-07-28T12:28:35.210912Z",
     "start_time": "2024-07-28T12:28:35.206539Z"
    }
   },
   "id": "b1fd6dd55b089470",
   "execution_count": 336
  },
  {
   "cell_type": "code",
   "outputs": [],
   "source": [
    "patient['Tumor--T1 Coded']=patient['Tumor--T1 Coded'].map(tumor_t1_Coded)"
   ],
   "metadata": {
    "collapsed": false,
    "ExecuteTime": {
     "end_time": "2024-07-28T12:28:37.116810Z",
     "start_time": "2024-07-28T12:28:37.110525Z"
    }
   },
   "id": "c8c46a175a399128",
   "execution_count": 337
  },
  {
   "cell_type": "code",
   "outputs": [
    {
     "data": {
      "text/plain": "  Complete TCGA ID  Age at Initial Pathologic Diagnosis  ER Status  PR Status  \\\n0     TCGA-A2-A0T2                                   66        0.0          0   \n1     TCGA-A2-A0CM                                   40        0.0          0   \n2     TCGA-BH-A18V                                   48        0.0          0   \n3     TCGA-BH-A18Q                                   56        0.0          0   \n4     TCGA-BH-A0E0                                   38        0.0          0   \n\n   HER2 Final Status  Tumor  Tumor--T1 Coded Node Node-Coded Metastasis  ...  \\\n0                0.0    2.0                1   N3   Positive         M1  ...   \n1                0.0    1.0                1   N0   Negative         M0  ...   \n2                0.0    1.0                1   N1   Positive         M0  ...   \n3                0.0    1.0                1   N1   Positive         M0  ...   \n4                0.0    2.0                1   N3   Positive         M0  ...   \n\n   PAM50 mRNA SigClust Unsupervised mRNA SigClust Intrinsic mRNA  \\\n0  Basal-like                          0                     -13   \n1  Basal-like                        -12                     -13   \n2  Basal-like                        -12                     -13   \n3  Basal-like                        -12                     -13   \n4  Basal-like                          0                     -13   \n\n  miRNA Clusters methylation Clusters  RPPA Clusters  CN Clusters  \\\n0              3                    5          Basal            3   \n1              4                    4          Basal            4   \n2              5                    5          Basal            1   \n3              5                    5          Basal            1   \n4              5                    5          Basal            1   \n\n   Integrated Clusters (with PAM50)  Integrated Clusters (no exp)  \\\n0                                 2                             2   \n1                                 2                             1   \n2                                 2                             2   \n3                                 2                             2   \n4                                 2                             2   \n\n  Integrated Clusters (unsup exp)  \n0                               2  \n1                               1  \n2                               2  \n3                               2  \n4                               2  \n\n[5 rows x 29 columns]",
      "text/html": "<div>\n<style scoped>\n    .dataframe tbody tr th:only-of-type {\n        vertical-align: middle;\n    }\n\n    .dataframe tbody tr th {\n        vertical-align: top;\n    }\n\n    .dataframe thead th {\n        text-align: right;\n    }\n</style>\n<table border=\"1\" class=\"dataframe\">\n  <thead>\n    <tr style=\"text-align: right;\">\n      <th></th>\n      <th>Complete TCGA ID</th>\n      <th>Age at Initial Pathologic Diagnosis</th>\n      <th>ER Status</th>\n      <th>PR Status</th>\n      <th>HER2 Final Status</th>\n      <th>Tumor</th>\n      <th>Tumor--T1 Coded</th>\n      <th>Node</th>\n      <th>Node-Coded</th>\n      <th>Metastasis</th>\n      <th>...</th>\n      <th>PAM50 mRNA</th>\n      <th>SigClust Unsupervised mRNA</th>\n      <th>SigClust Intrinsic mRNA</th>\n      <th>miRNA Clusters</th>\n      <th>methylation Clusters</th>\n      <th>RPPA Clusters</th>\n      <th>CN Clusters</th>\n      <th>Integrated Clusters (with PAM50)</th>\n      <th>Integrated Clusters (no exp)</th>\n      <th>Integrated Clusters (unsup exp)</th>\n    </tr>\n  </thead>\n  <tbody>\n    <tr>\n      <th>0</th>\n      <td>TCGA-A2-A0T2</td>\n      <td>66</td>\n      <td>0.0</td>\n      <td>0</td>\n      <td>0.0</td>\n      <td>2.0</td>\n      <td>1</td>\n      <td>N3</td>\n      <td>Positive</td>\n      <td>M1</td>\n      <td>...</td>\n      <td>Basal-like</td>\n      <td>0</td>\n      <td>-13</td>\n      <td>3</td>\n      <td>5</td>\n      <td>Basal</td>\n      <td>3</td>\n      <td>2</td>\n      <td>2</td>\n      <td>2</td>\n    </tr>\n    <tr>\n      <th>1</th>\n      <td>TCGA-A2-A0CM</td>\n      <td>40</td>\n      <td>0.0</td>\n      <td>0</td>\n      <td>0.0</td>\n      <td>1.0</td>\n      <td>1</td>\n      <td>N0</td>\n      <td>Negative</td>\n      <td>M0</td>\n      <td>...</td>\n      <td>Basal-like</td>\n      <td>-12</td>\n      <td>-13</td>\n      <td>4</td>\n      <td>4</td>\n      <td>Basal</td>\n      <td>4</td>\n      <td>2</td>\n      <td>1</td>\n      <td>1</td>\n    </tr>\n    <tr>\n      <th>2</th>\n      <td>TCGA-BH-A18V</td>\n      <td>48</td>\n      <td>0.0</td>\n      <td>0</td>\n      <td>0.0</td>\n      <td>1.0</td>\n      <td>1</td>\n      <td>N1</td>\n      <td>Positive</td>\n      <td>M0</td>\n      <td>...</td>\n      <td>Basal-like</td>\n      <td>-12</td>\n      <td>-13</td>\n      <td>5</td>\n      <td>5</td>\n      <td>Basal</td>\n      <td>1</td>\n      <td>2</td>\n      <td>2</td>\n      <td>2</td>\n    </tr>\n    <tr>\n      <th>3</th>\n      <td>TCGA-BH-A18Q</td>\n      <td>56</td>\n      <td>0.0</td>\n      <td>0</td>\n      <td>0.0</td>\n      <td>1.0</td>\n      <td>1</td>\n      <td>N1</td>\n      <td>Positive</td>\n      <td>M0</td>\n      <td>...</td>\n      <td>Basal-like</td>\n      <td>-12</td>\n      <td>-13</td>\n      <td>5</td>\n      <td>5</td>\n      <td>Basal</td>\n      <td>1</td>\n      <td>2</td>\n      <td>2</td>\n      <td>2</td>\n    </tr>\n    <tr>\n      <th>4</th>\n      <td>TCGA-BH-A0E0</td>\n      <td>38</td>\n      <td>0.0</td>\n      <td>0</td>\n      <td>0.0</td>\n      <td>2.0</td>\n      <td>1</td>\n      <td>N3</td>\n      <td>Positive</td>\n      <td>M0</td>\n      <td>...</td>\n      <td>Basal-like</td>\n      <td>0</td>\n      <td>-13</td>\n      <td>5</td>\n      <td>5</td>\n      <td>Basal</td>\n      <td>1</td>\n      <td>2</td>\n      <td>2</td>\n      <td>2</td>\n    </tr>\n  </tbody>\n</table>\n<p>5 rows × 29 columns</p>\n</div>"
     },
     "execution_count": 338,
     "metadata": {},
     "output_type": "execute_result"
    }
   ],
   "source": [
    "patient.head()"
   ],
   "metadata": {
    "collapsed": false,
    "ExecuteTime": {
     "end_time": "2024-07-28T12:28:38.476311Z",
     "start_time": "2024-07-28T12:28:38.447989Z"
    }
   },
   "id": "cb6c3e1ee15ce925",
   "execution_count": 338
  },
  {
   "cell_type": "code",
   "outputs": [
    {
     "data": {
      "text/plain": "    Node Node-Coded\n0     N3   Positive\n1     N0   Negative\n2     N1   Positive\n3     N1   Positive\n4     N3   Positive\n..   ...        ...\n100   N1   Positive\n101   N1   Positive\n102   N1   Positive\n103   N1   Positive\n104   N3   Positive\n\n[105 rows x 2 columns]",
      "text/html": "<div>\n<style scoped>\n    .dataframe tbody tr th:only-of-type {\n        vertical-align: middle;\n    }\n\n    .dataframe tbody tr th {\n        vertical-align: top;\n    }\n\n    .dataframe thead th {\n        text-align: right;\n    }\n</style>\n<table border=\"1\" class=\"dataframe\">\n  <thead>\n    <tr style=\"text-align: right;\">\n      <th></th>\n      <th>Node</th>\n      <th>Node-Coded</th>\n    </tr>\n  </thead>\n  <tbody>\n    <tr>\n      <th>0</th>\n      <td>N3</td>\n      <td>Positive</td>\n    </tr>\n    <tr>\n      <th>1</th>\n      <td>N0</td>\n      <td>Negative</td>\n    </tr>\n    <tr>\n      <th>2</th>\n      <td>N1</td>\n      <td>Positive</td>\n    </tr>\n    <tr>\n      <th>3</th>\n      <td>N1</td>\n      <td>Positive</td>\n    </tr>\n    <tr>\n      <th>4</th>\n      <td>N3</td>\n      <td>Positive</td>\n    </tr>\n    <tr>\n      <th>...</th>\n      <td>...</td>\n      <td>...</td>\n    </tr>\n    <tr>\n      <th>100</th>\n      <td>N1</td>\n      <td>Positive</td>\n    </tr>\n    <tr>\n      <th>101</th>\n      <td>N1</td>\n      <td>Positive</td>\n    </tr>\n    <tr>\n      <th>102</th>\n      <td>N1</td>\n      <td>Positive</td>\n    </tr>\n    <tr>\n      <th>103</th>\n      <td>N1</td>\n      <td>Positive</td>\n    </tr>\n    <tr>\n      <th>104</th>\n      <td>N3</td>\n      <td>Positive</td>\n    </tr>\n  </tbody>\n</table>\n<p>105 rows × 2 columns</p>\n</div>"
     },
     "execution_count": 339,
     "metadata": {},
     "output_type": "execute_result"
    }
   ],
   "source": [
    "patient[['Node','Node-Coded']]"
   ],
   "metadata": {
    "collapsed": false,
    "ExecuteTime": {
     "end_time": "2024-07-28T12:28:40.008711Z",
     "start_time": "2024-07-28T12:28:39.996333Z"
    }
   },
   "id": "175b231c9e2ff207",
   "execution_count": 339
  },
  {
   "cell_type": "code",
   "outputs": [],
   "source": [
    "node_encoder=OrdinalEncoder(categories=[['N0','N1','N2','N3']])\n",
    "patient['Node']=node_encoder.fit_transform(patient[['Node']])"
   ],
   "metadata": {
    "collapsed": false,
    "ExecuteTime": {
     "end_time": "2024-07-28T12:28:51.373993Z",
     "start_time": "2024-07-28T12:28:51.366238Z"
    }
   },
   "id": "a19dbef01f740bcc",
   "execution_count": 340
  },
  {
   "cell_type": "code",
   "outputs": [
    {
     "data": {
      "text/plain": "  Complete TCGA ID  Age at Initial Pathologic Diagnosis  ER Status  PR Status  \\\n0     TCGA-A2-A0T2                                   66        0.0          0   \n1     TCGA-A2-A0CM                                   40        0.0          0   \n2     TCGA-BH-A18V                                   48        0.0          0   \n3     TCGA-BH-A18Q                                   56        0.0          0   \n4     TCGA-BH-A0E0                                   38        0.0          0   \n\n   HER2 Final Status  Tumor  Tumor--T1 Coded  Node Node-Coded Metastasis  ...  \\\n0                0.0    2.0                1   3.0   Positive         M1  ...   \n1                0.0    1.0                1   0.0   Negative         M0  ...   \n2                0.0    1.0                1   1.0   Positive         M0  ...   \n3                0.0    1.0                1   1.0   Positive         M0  ...   \n4                0.0    2.0                1   3.0   Positive         M0  ...   \n\n   PAM50 mRNA SigClust Unsupervised mRNA SigClust Intrinsic mRNA  \\\n0  Basal-like                          0                     -13   \n1  Basal-like                        -12                     -13   \n2  Basal-like                        -12                     -13   \n3  Basal-like                        -12                     -13   \n4  Basal-like                          0                     -13   \n\n  miRNA Clusters methylation Clusters  RPPA Clusters  CN Clusters  \\\n0              3                    5          Basal            3   \n1              4                    4          Basal            4   \n2              5                    5          Basal            1   \n3              5                    5          Basal            1   \n4              5                    5          Basal            1   \n\n   Integrated Clusters (with PAM50)  Integrated Clusters (no exp)  \\\n0                                 2                             2   \n1                                 2                             1   \n2                                 2                             2   \n3                                 2                             2   \n4                                 2                             2   \n\n  Integrated Clusters (unsup exp)  \n0                               2  \n1                               1  \n2                               2  \n3                               2  \n4                               2  \n\n[5 rows x 29 columns]",
      "text/html": "<div>\n<style scoped>\n    .dataframe tbody tr th:only-of-type {\n        vertical-align: middle;\n    }\n\n    .dataframe tbody tr th {\n        vertical-align: top;\n    }\n\n    .dataframe thead th {\n        text-align: right;\n    }\n</style>\n<table border=\"1\" class=\"dataframe\">\n  <thead>\n    <tr style=\"text-align: right;\">\n      <th></th>\n      <th>Complete TCGA ID</th>\n      <th>Age at Initial Pathologic Diagnosis</th>\n      <th>ER Status</th>\n      <th>PR Status</th>\n      <th>HER2 Final Status</th>\n      <th>Tumor</th>\n      <th>Tumor--T1 Coded</th>\n      <th>Node</th>\n      <th>Node-Coded</th>\n      <th>Metastasis</th>\n      <th>...</th>\n      <th>PAM50 mRNA</th>\n      <th>SigClust Unsupervised mRNA</th>\n      <th>SigClust Intrinsic mRNA</th>\n      <th>miRNA Clusters</th>\n      <th>methylation Clusters</th>\n      <th>RPPA Clusters</th>\n      <th>CN Clusters</th>\n      <th>Integrated Clusters (with PAM50)</th>\n      <th>Integrated Clusters (no exp)</th>\n      <th>Integrated Clusters (unsup exp)</th>\n    </tr>\n  </thead>\n  <tbody>\n    <tr>\n      <th>0</th>\n      <td>TCGA-A2-A0T2</td>\n      <td>66</td>\n      <td>0.0</td>\n      <td>0</td>\n      <td>0.0</td>\n      <td>2.0</td>\n      <td>1</td>\n      <td>3.0</td>\n      <td>Positive</td>\n      <td>M1</td>\n      <td>...</td>\n      <td>Basal-like</td>\n      <td>0</td>\n      <td>-13</td>\n      <td>3</td>\n      <td>5</td>\n      <td>Basal</td>\n      <td>3</td>\n      <td>2</td>\n      <td>2</td>\n      <td>2</td>\n    </tr>\n    <tr>\n      <th>1</th>\n      <td>TCGA-A2-A0CM</td>\n      <td>40</td>\n      <td>0.0</td>\n      <td>0</td>\n      <td>0.0</td>\n      <td>1.0</td>\n      <td>1</td>\n      <td>0.0</td>\n      <td>Negative</td>\n      <td>M0</td>\n      <td>...</td>\n      <td>Basal-like</td>\n      <td>-12</td>\n      <td>-13</td>\n      <td>4</td>\n      <td>4</td>\n      <td>Basal</td>\n      <td>4</td>\n      <td>2</td>\n      <td>1</td>\n      <td>1</td>\n    </tr>\n    <tr>\n      <th>2</th>\n      <td>TCGA-BH-A18V</td>\n      <td>48</td>\n      <td>0.0</td>\n      <td>0</td>\n      <td>0.0</td>\n      <td>1.0</td>\n      <td>1</td>\n      <td>1.0</td>\n      <td>Positive</td>\n      <td>M0</td>\n      <td>...</td>\n      <td>Basal-like</td>\n      <td>-12</td>\n      <td>-13</td>\n      <td>5</td>\n      <td>5</td>\n      <td>Basal</td>\n      <td>1</td>\n      <td>2</td>\n      <td>2</td>\n      <td>2</td>\n    </tr>\n    <tr>\n      <th>3</th>\n      <td>TCGA-BH-A18Q</td>\n      <td>56</td>\n      <td>0.0</td>\n      <td>0</td>\n      <td>0.0</td>\n      <td>1.0</td>\n      <td>1</td>\n      <td>1.0</td>\n      <td>Positive</td>\n      <td>M0</td>\n      <td>...</td>\n      <td>Basal-like</td>\n      <td>-12</td>\n      <td>-13</td>\n      <td>5</td>\n      <td>5</td>\n      <td>Basal</td>\n      <td>1</td>\n      <td>2</td>\n      <td>2</td>\n      <td>2</td>\n    </tr>\n    <tr>\n      <th>4</th>\n      <td>TCGA-BH-A0E0</td>\n      <td>38</td>\n      <td>0.0</td>\n      <td>0</td>\n      <td>0.0</td>\n      <td>2.0</td>\n      <td>1</td>\n      <td>3.0</td>\n      <td>Positive</td>\n      <td>M0</td>\n      <td>...</td>\n      <td>Basal-like</td>\n      <td>0</td>\n      <td>-13</td>\n      <td>5</td>\n      <td>5</td>\n      <td>Basal</td>\n      <td>1</td>\n      <td>2</td>\n      <td>2</td>\n      <td>2</td>\n    </tr>\n  </tbody>\n</table>\n<p>5 rows × 29 columns</p>\n</div>"
     },
     "execution_count": 341,
     "metadata": {},
     "output_type": "execute_result"
    }
   ],
   "source": [
    "patient.head()"
   ],
   "metadata": {
    "collapsed": false,
    "ExecuteTime": {
     "end_time": "2024-07-28T12:29:28.212039Z",
     "start_time": "2024-07-28T12:29:28.185629Z"
    }
   },
   "id": "4697df306df0cd96",
   "execution_count": 341
  },
  {
   "cell_type": "code",
   "outputs": [
    {
     "data": {
      "text/plain": "     Node Node-Coded\n0     3.0   Positive\n1     0.0   Negative\n2     1.0   Positive\n3     1.0   Positive\n4     3.0   Positive\n..    ...        ...\n100   1.0   Positive\n101   1.0   Positive\n102   1.0   Positive\n103   1.0   Positive\n104   3.0   Positive\n\n[105 rows x 2 columns]",
      "text/html": "<div>\n<style scoped>\n    .dataframe tbody tr th:only-of-type {\n        vertical-align: middle;\n    }\n\n    .dataframe tbody tr th {\n        vertical-align: top;\n    }\n\n    .dataframe thead th {\n        text-align: right;\n    }\n</style>\n<table border=\"1\" class=\"dataframe\">\n  <thead>\n    <tr style=\"text-align: right;\">\n      <th></th>\n      <th>Node</th>\n      <th>Node-Coded</th>\n    </tr>\n  </thead>\n  <tbody>\n    <tr>\n      <th>0</th>\n      <td>3.0</td>\n      <td>Positive</td>\n    </tr>\n    <tr>\n      <th>1</th>\n      <td>0.0</td>\n      <td>Negative</td>\n    </tr>\n    <tr>\n      <th>2</th>\n      <td>1.0</td>\n      <td>Positive</td>\n    </tr>\n    <tr>\n      <th>3</th>\n      <td>1.0</td>\n      <td>Positive</td>\n    </tr>\n    <tr>\n      <th>4</th>\n      <td>3.0</td>\n      <td>Positive</td>\n    </tr>\n    <tr>\n      <th>...</th>\n      <td>...</td>\n      <td>...</td>\n    </tr>\n    <tr>\n      <th>100</th>\n      <td>1.0</td>\n      <td>Positive</td>\n    </tr>\n    <tr>\n      <th>101</th>\n      <td>1.0</td>\n      <td>Positive</td>\n    </tr>\n    <tr>\n      <th>102</th>\n      <td>1.0</td>\n      <td>Positive</td>\n    </tr>\n    <tr>\n      <th>103</th>\n      <td>1.0</td>\n      <td>Positive</td>\n    </tr>\n    <tr>\n      <th>104</th>\n      <td>3.0</td>\n      <td>Positive</td>\n    </tr>\n  </tbody>\n</table>\n<p>105 rows × 2 columns</p>\n</div>"
     },
     "execution_count": 342,
     "metadata": {},
     "output_type": "execute_result"
    }
   ],
   "source": [
    "patient[[\"Node\",'Node-Coded']]"
   ],
   "metadata": {
    "collapsed": false,
    "ExecuteTime": {
     "end_time": "2024-07-28T12:29:29.777679Z",
     "start_time": "2024-07-28T12:29:29.764700Z"
    }
   },
   "id": "27a66204eb5eb8c8",
   "execution_count": 342
  },
  {
   "cell_type": "code",
   "outputs": [],
   "source": [
    "node_N0_status_mapping={\n",
    "    'Positive':1,\n",
    "    'Negative':0,\n",
    "}"
   ],
   "metadata": {
    "collapsed": false,
    "ExecuteTime": {
     "end_time": "2024-07-28T12:29:31.366124Z",
     "start_time": "2024-07-28T12:29:31.361191Z"
    }
   },
   "id": "50c24711e915f3fe",
   "execution_count": 343
  },
  {
   "cell_type": "code",
   "outputs": [],
   "source": [
    "patient['Node-Coded']=patient['Node-Coded'].map(node_N0_status_mapping)"
   ],
   "metadata": {
    "collapsed": false,
    "ExecuteTime": {
     "end_time": "2024-07-28T12:29:38.080356Z",
     "start_time": "2024-07-28T12:29:38.073954Z"
    }
   },
   "id": "9a8c76f0c343be3d",
   "execution_count": 344
  },
  {
   "cell_type": "code",
   "outputs": [
    {
     "data": {
      "text/plain": "  Complete TCGA ID  Age at Initial Pathologic Diagnosis  ER Status  PR Status  \\\n0     TCGA-A2-A0T2                                   66        0.0          0   \n1     TCGA-A2-A0CM                                   40        0.0          0   \n2     TCGA-BH-A18V                                   48        0.0          0   \n3     TCGA-BH-A18Q                                   56        0.0          0   \n4     TCGA-BH-A0E0                                   38        0.0          0   \n5     TCGA-A7-A0CE                                   57        0.0          0   \n6     TCGA-D8-A142                                   74        0.0          0   \n7     TCGA-A2-A0D0                                   60        0.0          0   \n8     TCGA-AO-A0J6                                   61        0.0          0   \n9     TCGA-A2-A0YM                                   67        0.0          0   \n\n   HER2 Final Status  Tumor  Tumor--T1 Coded  Node  Node-Coded Metastasis  \\\n0                0.0    2.0                1   3.0           1         M1   \n1                0.0    1.0                1   0.0           0         M0   \n2                0.0    1.0                1   1.0           1         M0   \n3                0.0    1.0                1   1.0           1         M0   \n4                0.0    2.0                1   3.0           1         M0   \n5                0.0    1.0                1   0.0           0         M0   \n6                0.0    2.0                1   0.0           0         M0   \n7                0.0    1.0                1   0.0           0         M0   \n8                0.0    1.0                1   0.0           0         M0   \n9                0.0    1.0                1   0.0           0         M0   \n\n   ...  PAM50 mRNA SigClust Unsupervised mRNA SigClust Intrinsic mRNA  \\\n0  ...  Basal-like                          0                     -13   \n1  ...  Basal-like                        -12                     -13   \n2  ...  Basal-like                        -12                     -13   \n3  ...  Basal-like                        -12                     -13   \n4  ...  Basal-like                          0                     -13   \n5  ...  Basal-like                          0                     -13   \n6  ...  Basal-like                          0                     -13   \n7  ...  Basal-like                        -12                     -13   \n8  ...  Basal-like                        -12                     -13   \n9  ...  Basal-like                        -12                     -13   \n\n  miRNA Clusters methylation Clusters  RPPA Clusters  CN Clusters  \\\n0              3                    5          Basal            3   \n1              4                    4          Basal            4   \n2              5                    5          Basal            1   \n3              5                    5          Basal            1   \n4              5                    5          Basal            1   \n5              5                    5          Basal            1   \n6              3                    5              X            1   \n7              5                    5          Basal            1   \n8              2                    5          Basal            1   \n9              5                    5          Basal            3   \n\n   Integrated Clusters (with PAM50)  Integrated Clusters (no exp)  \\\n0                                 2                             2   \n1                                 2                             1   \n2                                 2                             2   \n3                                 2                             2   \n4                                 2                             2   \n5                                 2                             2   \n6                                 2                             2   \n7                                 2                             2   \n8                                 2                             2   \n9                                 2                             2   \n\n  Integrated Clusters (unsup exp)  \n0                               2  \n1                               1  \n2                               2  \n3                               2  \n4                               2  \n5                               2  \n6                               2  \n7                               2  \n8                               2  \n9                               2  \n\n[10 rows x 29 columns]",
      "text/html": "<div>\n<style scoped>\n    .dataframe tbody tr th:only-of-type {\n        vertical-align: middle;\n    }\n\n    .dataframe tbody tr th {\n        vertical-align: top;\n    }\n\n    .dataframe thead th {\n        text-align: right;\n    }\n</style>\n<table border=\"1\" class=\"dataframe\">\n  <thead>\n    <tr style=\"text-align: right;\">\n      <th></th>\n      <th>Complete TCGA ID</th>\n      <th>Age at Initial Pathologic Diagnosis</th>\n      <th>ER Status</th>\n      <th>PR Status</th>\n      <th>HER2 Final Status</th>\n      <th>Tumor</th>\n      <th>Tumor--T1 Coded</th>\n      <th>Node</th>\n      <th>Node-Coded</th>\n      <th>Metastasis</th>\n      <th>...</th>\n      <th>PAM50 mRNA</th>\n      <th>SigClust Unsupervised mRNA</th>\n      <th>SigClust Intrinsic mRNA</th>\n      <th>miRNA Clusters</th>\n      <th>methylation Clusters</th>\n      <th>RPPA Clusters</th>\n      <th>CN Clusters</th>\n      <th>Integrated Clusters (with PAM50)</th>\n      <th>Integrated Clusters (no exp)</th>\n      <th>Integrated Clusters (unsup exp)</th>\n    </tr>\n  </thead>\n  <tbody>\n    <tr>\n      <th>0</th>\n      <td>TCGA-A2-A0T2</td>\n      <td>66</td>\n      <td>0.0</td>\n      <td>0</td>\n      <td>0.0</td>\n      <td>2.0</td>\n      <td>1</td>\n      <td>3.0</td>\n      <td>1</td>\n      <td>M1</td>\n      <td>...</td>\n      <td>Basal-like</td>\n      <td>0</td>\n      <td>-13</td>\n      <td>3</td>\n      <td>5</td>\n      <td>Basal</td>\n      <td>3</td>\n      <td>2</td>\n      <td>2</td>\n      <td>2</td>\n    </tr>\n    <tr>\n      <th>1</th>\n      <td>TCGA-A2-A0CM</td>\n      <td>40</td>\n      <td>0.0</td>\n      <td>0</td>\n      <td>0.0</td>\n      <td>1.0</td>\n      <td>1</td>\n      <td>0.0</td>\n      <td>0</td>\n      <td>M0</td>\n      <td>...</td>\n      <td>Basal-like</td>\n      <td>-12</td>\n      <td>-13</td>\n      <td>4</td>\n      <td>4</td>\n      <td>Basal</td>\n      <td>4</td>\n      <td>2</td>\n      <td>1</td>\n      <td>1</td>\n    </tr>\n    <tr>\n      <th>2</th>\n      <td>TCGA-BH-A18V</td>\n      <td>48</td>\n      <td>0.0</td>\n      <td>0</td>\n      <td>0.0</td>\n      <td>1.0</td>\n      <td>1</td>\n      <td>1.0</td>\n      <td>1</td>\n      <td>M0</td>\n      <td>...</td>\n      <td>Basal-like</td>\n      <td>-12</td>\n      <td>-13</td>\n      <td>5</td>\n      <td>5</td>\n      <td>Basal</td>\n      <td>1</td>\n      <td>2</td>\n      <td>2</td>\n      <td>2</td>\n    </tr>\n    <tr>\n      <th>3</th>\n      <td>TCGA-BH-A18Q</td>\n      <td>56</td>\n      <td>0.0</td>\n      <td>0</td>\n      <td>0.0</td>\n      <td>1.0</td>\n      <td>1</td>\n      <td>1.0</td>\n      <td>1</td>\n      <td>M0</td>\n      <td>...</td>\n      <td>Basal-like</td>\n      <td>-12</td>\n      <td>-13</td>\n      <td>5</td>\n      <td>5</td>\n      <td>Basal</td>\n      <td>1</td>\n      <td>2</td>\n      <td>2</td>\n      <td>2</td>\n    </tr>\n    <tr>\n      <th>4</th>\n      <td>TCGA-BH-A0E0</td>\n      <td>38</td>\n      <td>0.0</td>\n      <td>0</td>\n      <td>0.0</td>\n      <td>2.0</td>\n      <td>1</td>\n      <td>3.0</td>\n      <td>1</td>\n      <td>M0</td>\n      <td>...</td>\n      <td>Basal-like</td>\n      <td>0</td>\n      <td>-13</td>\n      <td>5</td>\n      <td>5</td>\n      <td>Basal</td>\n      <td>1</td>\n      <td>2</td>\n      <td>2</td>\n      <td>2</td>\n    </tr>\n    <tr>\n      <th>5</th>\n      <td>TCGA-A7-A0CE</td>\n      <td>57</td>\n      <td>0.0</td>\n      <td>0</td>\n      <td>0.0</td>\n      <td>1.0</td>\n      <td>1</td>\n      <td>0.0</td>\n      <td>0</td>\n      <td>M0</td>\n      <td>...</td>\n      <td>Basal-like</td>\n      <td>0</td>\n      <td>-13</td>\n      <td>5</td>\n      <td>5</td>\n      <td>Basal</td>\n      <td>1</td>\n      <td>2</td>\n      <td>2</td>\n      <td>2</td>\n    </tr>\n    <tr>\n      <th>6</th>\n      <td>TCGA-D8-A142</td>\n      <td>74</td>\n      <td>0.0</td>\n      <td>0</td>\n      <td>0.0</td>\n      <td>2.0</td>\n      <td>1</td>\n      <td>0.0</td>\n      <td>0</td>\n      <td>M0</td>\n      <td>...</td>\n      <td>Basal-like</td>\n      <td>0</td>\n      <td>-13</td>\n      <td>3</td>\n      <td>5</td>\n      <td>X</td>\n      <td>1</td>\n      <td>2</td>\n      <td>2</td>\n      <td>2</td>\n    </tr>\n    <tr>\n      <th>7</th>\n      <td>TCGA-A2-A0D0</td>\n      <td>60</td>\n      <td>0.0</td>\n      <td>0</td>\n      <td>0.0</td>\n      <td>1.0</td>\n      <td>1</td>\n      <td>0.0</td>\n      <td>0</td>\n      <td>M0</td>\n      <td>...</td>\n      <td>Basal-like</td>\n      <td>-12</td>\n      <td>-13</td>\n      <td>5</td>\n      <td>5</td>\n      <td>Basal</td>\n      <td>1</td>\n      <td>2</td>\n      <td>2</td>\n      <td>2</td>\n    </tr>\n    <tr>\n      <th>8</th>\n      <td>TCGA-AO-A0J6</td>\n      <td>61</td>\n      <td>0.0</td>\n      <td>0</td>\n      <td>0.0</td>\n      <td>1.0</td>\n      <td>1</td>\n      <td>0.0</td>\n      <td>0</td>\n      <td>M0</td>\n      <td>...</td>\n      <td>Basal-like</td>\n      <td>-12</td>\n      <td>-13</td>\n      <td>2</td>\n      <td>5</td>\n      <td>Basal</td>\n      <td>1</td>\n      <td>2</td>\n      <td>2</td>\n      <td>2</td>\n    </tr>\n    <tr>\n      <th>9</th>\n      <td>TCGA-A2-A0YM</td>\n      <td>67</td>\n      <td>0.0</td>\n      <td>0</td>\n      <td>0.0</td>\n      <td>1.0</td>\n      <td>1</td>\n      <td>0.0</td>\n      <td>0</td>\n      <td>M0</td>\n      <td>...</td>\n      <td>Basal-like</td>\n      <td>-12</td>\n      <td>-13</td>\n      <td>5</td>\n      <td>5</td>\n      <td>Basal</td>\n      <td>3</td>\n      <td>2</td>\n      <td>2</td>\n      <td>2</td>\n    </tr>\n  </tbody>\n</table>\n<p>10 rows × 29 columns</p>\n</div>"
     },
     "execution_count": 345,
     "metadata": {},
     "output_type": "execute_result"
    }
   ],
   "source": [
    "patient.head(10)"
   ],
   "metadata": {
    "collapsed": false,
    "ExecuteTime": {
     "end_time": "2024-07-28T12:29:39.985260Z",
     "start_time": "2024-07-28T12:29:39.951845Z"
    }
   },
   "id": "ac3986d89de89acf",
   "execution_count": 345
  },
  {
   "cell_type": "code",
   "outputs": [],
   "source": [
    "patient.drop(columns=['Metastasis-Coded'],inplace=True)"
   ],
   "metadata": {
    "collapsed": false,
    "ExecuteTime": {
     "end_time": "2024-07-28T12:29:41.698426Z",
     "start_time": "2024-07-28T12:29:41.692274Z"
    }
   },
   "id": "aa128efa862ea03",
   "execution_count": 346
  },
  {
   "cell_type": "code",
   "outputs": [],
   "source": [
    "metastatis_encoder=OrdinalEncoder(categories=[['M0','M1']])\n",
    "patient['Metastasis']=metastatis_encoder.fit_transform(patient[['Metastasis']])"
   ],
   "metadata": {
    "collapsed": false,
    "ExecuteTime": {
     "end_time": "2024-07-28T12:29:45.085045Z",
     "start_time": "2024-07-28T12:29:45.077359Z"
    }
   },
   "id": "309a9611d960ea9f",
   "execution_count": 347
  },
  {
   "cell_type": "code",
   "outputs": [
    {
     "data": {
      "text/plain": "  Complete TCGA ID  Age at Initial Pathologic Diagnosis  ER Status  PR Status  \\\n0     TCGA-A2-A0T2                                   66        0.0          0   \n1     TCGA-A2-A0CM                                   40        0.0          0   \n2     TCGA-BH-A18V                                   48        0.0          0   \n3     TCGA-BH-A18Q                                   56        0.0          0   \n4     TCGA-BH-A0E0                                   38        0.0          0   \n\n   HER2 Final Status  Tumor  Tumor--T1 Coded  Node  Node-Coded  Metastasis  \\\n0                0.0    2.0                1   3.0           1         1.0   \n1                0.0    1.0                1   0.0           0         0.0   \n2                0.0    1.0                1   1.0           1         0.0   \n3                0.0    1.0                1   1.0           1         0.0   \n4                0.0    2.0                1   3.0           1         0.0   \n\n   ...  PAM50 mRNA SigClust Unsupervised mRNA SigClust Intrinsic mRNA  \\\n0  ...  Basal-like                          0                     -13   \n1  ...  Basal-like                        -12                     -13   \n2  ...  Basal-like                        -12                     -13   \n3  ...  Basal-like                        -12                     -13   \n4  ...  Basal-like                          0                     -13   \n\n  miRNA Clusters  methylation Clusters  RPPA Clusters  CN Clusters  \\\n0              3                     5          Basal            3   \n1              4                     4          Basal            4   \n2              5                     5          Basal            1   \n3              5                     5          Basal            1   \n4              5                     5          Basal            1   \n\n   Integrated Clusters (with PAM50) Integrated Clusters (no exp)  \\\n0                                 2                            2   \n1                                 2                            1   \n2                                 2                            2   \n3                                 2                            2   \n4                                 2                            2   \n\n   Integrated Clusters (unsup exp)  \n0                                2  \n1                                1  \n2                                2  \n3                                2  \n4                                2  \n\n[5 rows x 28 columns]",
      "text/html": "<div>\n<style scoped>\n    .dataframe tbody tr th:only-of-type {\n        vertical-align: middle;\n    }\n\n    .dataframe tbody tr th {\n        vertical-align: top;\n    }\n\n    .dataframe thead th {\n        text-align: right;\n    }\n</style>\n<table border=\"1\" class=\"dataframe\">\n  <thead>\n    <tr style=\"text-align: right;\">\n      <th></th>\n      <th>Complete TCGA ID</th>\n      <th>Age at Initial Pathologic Diagnosis</th>\n      <th>ER Status</th>\n      <th>PR Status</th>\n      <th>HER2 Final Status</th>\n      <th>Tumor</th>\n      <th>Tumor--T1 Coded</th>\n      <th>Node</th>\n      <th>Node-Coded</th>\n      <th>Metastasis</th>\n      <th>...</th>\n      <th>PAM50 mRNA</th>\n      <th>SigClust Unsupervised mRNA</th>\n      <th>SigClust Intrinsic mRNA</th>\n      <th>miRNA Clusters</th>\n      <th>methylation Clusters</th>\n      <th>RPPA Clusters</th>\n      <th>CN Clusters</th>\n      <th>Integrated Clusters (with PAM50)</th>\n      <th>Integrated Clusters (no exp)</th>\n      <th>Integrated Clusters (unsup exp)</th>\n    </tr>\n  </thead>\n  <tbody>\n    <tr>\n      <th>0</th>\n      <td>TCGA-A2-A0T2</td>\n      <td>66</td>\n      <td>0.0</td>\n      <td>0</td>\n      <td>0.0</td>\n      <td>2.0</td>\n      <td>1</td>\n      <td>3.0</td>\n      <td>1</td>\n      <td>1.0</td>\n      <td>...</td>\n      <td>Basal-like</td>\n      <td>0</td>\n      <td>-13</td>\n      <td>3</td>\n      <td>5</td>\n      <td>Basal</td>\n      <td>3</td>\n      <td>2</td>\n      <td>2</td>\n      <td>2</td>\n    </tr>\n    <tr>\n      <th>1</th>\n      <td>TCGA-A2-A0CM</td>\n      <td>40</td>\n      <td>0.0</td>\n      <td>0</td>\n      <td>0.0</td>\n      <td>1.0</td>\n      <td>1</td>\n      <td>0.0</td>\n      <td>0</td>\n      <td>0.0</td>\n      <td>...</td>\n      <td>Basal-like</td>\n      <td>-12</td>\n      <td>-13</td>\n      <td>4</td>\n      <td>4</td>\n      <td>Basal</td>\n      <td>4</td>\n      <td>2</td>\n      <td>1</td>\n      <td>1</td>\n    </tr>\n    <tr>\n      <th>2</th>\n      <td>TCGA-BH-A18V</td>\n      <td>48</td>\n      <td>0.0</td>\n      <td>0</td>\n      <td>0.0</td>\n      <td>1.0</td>\n      <td>1</td>\n      <td>1.0</td>\n      <td>1</td>\n      <td>0.0</td>\n      <td>...</td>\n      <td>Basal-like</td>\n      <td>-12</td>\n      <td>-13</td>\n      <td>5</td>\n      <td>5</td>\n      <td>Basal</td>\n      <td>1</td>\n      <td>2</td>\n      <td>2</td>\n      <td>2</td>\n    </tr>\n    <tr>\n      <th>3</th>\n      <td>TCGA-BH-A18Q</td>\n      <td>56</td>\n      <td>0.0</td>\n      <td>0</td>\n      <td>0.0</td>\n      <td>1.0</td>\n      <td>1</td>\n      <td>1.0</td>\n      <td>1</td>\n      <td>0.0</td>\n      <td>...</td>\n      <td>Basal-like</td>\n      <td>-12</td>\n      <td>-13</td>\n      <td>5</td>\n      <td>5</td>\n      <td>Basal</td>\n      <td>1</td>\n      <td>2</td>\n      <td>2</td>\n      <td>2</td>\n    </tr>\n    <tr>\n      <th>4</th>\n      <td>TCGA-BH-A0E0</td>\n      <td>38</td>\n      <td>0.0</td>\n      <td>0</td>\n      <td>0.0</td>\n      <td>2.0</td>\n      <td>1</td>\n      <td>3.0</td>\n      <td>1</td>\n      <td>0.0</td>\n      <td>...</td>\n      <td>Basal-like</td>\n      <td>0</td>\n      <td>-13</td>\n      <td>5</td>\n      <td>5</td>\n      <td>Basal</td>\n      <td>1</td>\n      <td>2</td>\n      <td>2</td>\n      <td>2</td>\n    </tr>\n  </tbody>\n</table>\n<p>5 rows × 28 columns</p>\n</div>"
     },
     "execution_count": 348,
     "metadata": {},
     "output_type": "execute_result"
    }
   ],
   "source": [
    "patient.head()"
   ],
   "metadata": {
    "collapsed": false,
    "ExecuteTime": {
     "end_time": "2024-07-28T12:29:47.273545Z",
     "start_time": "2024-07-28T12:29:47.247105Z"
    }
   },
   "id": "16dbd50398ce55b7",
   "execution_count": 348
  },
  {
   "cell_type": "code",
   "outputs": [
    {
     "data": {
      "text/plain": "array(['Stage IV', 'Stage IIA', 'Stage IIB', 'Stage IIIC', 'Stage IA',\n       'Stage IIIA', 'Stage IIIB', 'Stage II', 'Stage I', 'Stage III',\n       'Stage IB'], dtype=object)"
     },
     "execution_count": 349,
     "metadata": {},
     "output_type": "execute_result"
    }
   ],
   "source": [
    "patient['AJCC Stage'].unique()"
   ],
   "metadata": {
    "collapsed": false,
    "ExecuteTime": {
     "end_time": "2024-07-28T12:29:48.886441Z",
     "start_time": "2024-07-28T12:29:48.880062Z"
    }
   },
   "id": "2c94735cf2436d49",
   "execution_count": 349
  },
  {
   "cell_type": "code",
   "outputs": [],
   "source": [
    "stage_order = ['Stage IA','Stage IB', 'Stage I','Stage IIA','Stage IIB' ,'Stage II', 'Stage IIIA', 'Stage IIIB', 'Stage IIIC','Stage III', 'Stage IV']"
   ],
   "metadata": {
    "collapsed": false,
    "ExecuteTime": {
     "end_time": "2024-07-28T12:29:51.297187Z",
     "start_time": "2024-07-28T12:29:51.291403Z"
    }
   },
   "id": "53db331bedbc82f2",
   "execution_count": 350
  },
  {
   "cell_type": "code",
   "outputs": [],
   "source": [
    "stage_encoder=OrdinalEncoder(categories=[stage_order])\n",
    "patient['AJCC Stage']=stage_encoder.fit_transform(patient[['AJCC Stage']])"
   ],
   "metadata": {
    "collapsed": false,
    "ExecuteTime": {
     "end_time": "2024-07-28T12:29:52.467144Z",
     "start_time": "2024-07-28T12:29:52.455631Z"
    }
   },
   "id": "cc5a1684703d6505",
   "execution_count": 351
  },
  {
   "cell_type": "code",
   "outputs": [
    {
     "data": {
      "text/plain": "  Complete TCGA ID  Age at Initial Pathologic Diagnosis  ER Status  PR Status  \\\n0     TCGA-A2-A0T2                                   66        0.0          0   \n1     TCGA-A2-A0CM                                   40        0.0          0   \n2     TCGA-BH-A18V                                   48        0.0          0   \n3     TCGA-BH-A18Q                                   56        0.0          0   \n4     TCGA-BH-A0E0                                   38        0.0          0   \n\n   HER2 Final Status  Tumor  Tumor--T1 Coded  Node  Node-Coded  Metastasis  \\\n0                0.0    2.0                1   3.0           1         1.0   \n1                0.0    1.0                1   0.0           0         0.0   \n2                0.0    1.0                1   1.0           1         0.0   \n3                0.0    1.0                1   1.0           1         0.0   \n4                0.0    2.0                1   3.0           1         0.0   \n\n   ...  PAM50 mRNA SigClust Unsupervised mRNA SigClust Intrinsic mRNA  \\\n0  ...  Basal-like                          0                     -13   \n1  ...  Basal-like                        -12                     -13   \n2  ...  Basal-like                        -12                     -13   \n3  ...  Basal-like                        -12                     -13   \n4  ...  Basal-like                          0                     -13   \n\n  miRNA Clusters  methylation Clusters  RPPA Clusters  CN Clusters  \\\n0              3                     5          Basal            3   \n1              4                     4          Basal            4   \n2              5                     5          Basal            1   \n3              5                     5          Basal            1   \n4              5                     5          Basal            1   \n\n   Integrated Clusters (with PAM50) Integrated Clusters (no exp)  \\\n0                                 2                            2   \n1                                 2                            1   \n2                                 2                            2   \n3                                 2                            2   \n4                                 2                            2   \n\n   Integrated Clusters (unsup exp)  \n0                                2  \n1                                1  \n2                                2  \n3                                2  \n4                                2  \n\n[5 rows x 28 columns]",
      "text/html": "<div>\n<style scoped>\n    .dataframe tbody tr th:only-of-type {\n        vertical-align: middle;\n    }\n\n    .dataframe tbody tr th {\n        vertical-align: top;\n    }\n\n    .dataframe thead th {\n        text-align: right;\n    }\n</style>\n<table border=\"1\" class=\"dataframe\">\n  <thead>\n    <tr style=\"text-align: right;\">\n      <th></th>\n      <th>Complete TCGA ID</th>\n      <th>Age at Initial Pathologic Diagnosis</th>\n      <th>ER Status</th>\n      <th>PR Status</th>\n      <th>HER2 Final Status</th>\n      <th>Tumor</th>\n      <th>Tumor--T1 Coded</th>\n      <th>Node</th>\n      <th>Node-Coded</th>\n      <th>Metastasis</th>\n      <th>...</th>\n      <th>PAM50 mRNA</th>\n      <th>SigClust Unsupervised mRNA</th>\n      <th>SigClust Intrinsic mRNA</th>\n      <th>miRNA Clusters</th>\n      <th>methylation Clusters</th>\n      <th>RPPA Clusters</th>\n      <th>CN Clusters</th>\n      <th>Integrated Clusters (with PAM50)</th>\n      <th>Integrated Clusters (no exp)</th>\n      <th>Integrated Clusters (unsup exp)</th>\n    </tr>\n  </thead>\n  <tbody>\n    <tr>\n      <th>0</th>\n      <td>TCGA-A2-A0T2</td>\n      <td>66</td>\n      <td>0.0</td>\n      <td>0</td>\n      <td>0.0</td>\n      <td>2.0</td>\n      <td>1</td>\n      <td>3.0</td>\n      <td>1</td>\n      <td>1.0</td>\n      <td>...</td>\n      <td>Basal-like</td>\n      <td>0</td>\n      <td>-13</td>\n      <td>3</td>\n      <td>5</td>\n      <td>Basal</td>\n      <td>3</td>\n      <td>2</td>\n      <td>2</td>\n      <td>2</td>\n    </tr>\n    <tr>\n      <th>1</th>\n      <td>TCGA-A2-A0CM</td>\n      <td>40</td>\n      <td>0.0</td>\n      <td>0</td>\n      <td>0.0</td>\n      <td>1.0</td>\n      <td>1</td>\n      <td>0.0</td>\n      <td>0</td>\n      <td>0.0</td>\n      <td>...</td>\n      <td>Basal-like</td>\n      <td>-12</td>\n      <td>-13</td>\n      <td>4</td>\n      <td>4</td>\n      <td>Basal</td>\n      <td>4</td>\n      <td>2</td>\n      <td>1</td>\n      <td>1</td>\n    </tr>\n    <tr>\n      <th>2</th>\n      <td>TCGA-BH-A18V</td>\n      <td>48</td>\n      <td>0.0</td>\n      <td>0</td>\n      <td>0.0</td>\n      <td>1.0</td>\n      <td>1</td>\n      <td>1.0</td>\n      <td>1</td>\n      <td>0.0</td>\n      <td>...</td>\n      <td>Basal-like</td>\n      <td>-12</td>\n      <td>-13</td>\n      <td>5</td>\n      <td>5</td>\n      <td>Basal</td>\n      <td>1</td>\n      <td>2</td>\n      <td>2</td>\n      <td>2</td>\n    </tr>\n    <tr>\n      <th>3</th>\n      <td>TCGA-BH-A18Q</td>\n      <td>56</td>\n      <td>0.0</td>\n      <td>0</td>\n      <td>0.0</td>\n      <td>1.0</td>\n      <td>1</td>\n      <td>1.0</td>\n      <td>1</td>\n      <td>0.0</td>\n      <td>...</td>\n      <td>Basal-like</td>\n      <td>-12</td>\n      <td>-13</td>\n      <td>5</td>\n      <td>5</td>\n      <td>Basal</td>\n      <td>1</td>\n      <td>2</td>\n      <td>2</td>\n      <td>2</td>\n    </tr>\n    <tr>\n      <th>4</th>\n      <td>TCGA-BH-A0E0</td>\n      <td>38</td>\n      <td>0.0</td>\n      <td>0</td>\n      <td>0.0</td>\n      <td>2.0</td>\n      <td>1</td>\n      <td>3.0</td>\n      <td>1</td>\n      <td>0.0</td>\n      <td>...</td>\n      <td>Basal-like</td>\n      <td>0</td>\n      <td>-13</td>\n      <td>5</td>\n      <td>5</td>\n      <td>Basal</td>\n      <td>1</td>\n      <td>2</td>\n      <td>2</td>\n      <td>2</td>\n    </tr>\n  </tbody>\n</table>\n<p>5 rows × 28 columns</p>\n</div>"
     },
     "execution_count": 352,
     "metadata": {},
     "output_type": "execute_result"
    }
   ],
   "source": [
    "patient.head()"
   ],
   "metadata": {
    "collapsed": false,
    "ExecuteTime": {
     "end_time": "2024-07-28T12:29:54.358655Z",
     "start_time": "2024-07-28T12:29:54.332946Z"
    }
   },
   "id": "cf4e7e190574817e",
   "execution_count": 352
  },
  {
   "cell_type": "code",
   "outputs": [],
   "source": [
    "patient['Converted Stage'] = patient['Converted Stage'].apply(lambda x: 0 if x == 'No_Conversion' else 1)"
   ],
   "metadata": {
    "collapsed": false,
    "ExecuteTime": {
     "end_time": "2024-07-28T12:29:55.909275Z",
     "start_time": "2024-07-28T12:29:55.903157Z"
    }
   },
   "id": "d74e27b4948cb405",
   "execution_count": 353
  },
  {
   "cell_type": "code",
   "outputs": [
    {
     "data": {
      "text/plain": "  Complete TCGA ID  Age at Initial Pathologic Diagnosis  ER Status  PR Status  \\\n0     TCGA-A2-A0T2                                   66        0.0          0   \n1     TCGA-A2-A0CM                                   40        0.0          0   \n2     TCGA-BH-A18V                                   48        0.0          0   \n3     TCGA-BH-A18Q                                   56        0.0          0   \n4     TCGA-BH-A0E0                                   38        0.0          0   \n\n   HER2 Final Status  Tumor  Tumor--T1 Coded  Node  Node-Coded  Metastasis  \\\n0                0.0    2.0                1   3.0           1         1.0   \n1                0.0    1.0                1   0.0           0         0.0   \n2                0.0    1.0                1   1.0           1         0.0   \n3                0.0    1.0                1   1.0           1         0.0   \n4                0.0    2.0                1   3.0           1         0.0   \n\n   ...  PAM50 mRNA  SigClust Unsupervised mRNA SigClust Intrinsic mRNA  \\\n0  ...  Basal-like                           0                     -13   \n1  ...  Basal-like                         -12                     -13   \n2  ...  Basal-like                         -12                     -13   \n3  ...  Basal-like                         -12                     -13   \n4  ...  Basal-like                           0                     -13   \n\n  miRNA Clusters  methylation Clusters  RPPA Clusters  CN Clusters  \\\n0              3                     5          Basal            3   \n1              4                     4          Basal            4   \n2              5                     5          Basal            1   \n3              5                     5          Basal            1   \n4              5                     5          Basal            1   \n\n   Integrated Clusters (with PAM50) Integrated Clusters (no exp)  \\\n0                                 2                            2   \n1                                 2                            1   \n2                                 2                            2   \n3                                 2                            2   \n4                                 2                            2   \n\n   Integrated Clusters (unsup exp)  \n0                                2  \n1                                1  \n2                                2  \n3                                2  \n4                                2  \n\n[5 rows x 28 columns]",
      "text/html": "<div>\n<style scoped>\n    .dataframe tbody tr th:only-of-type {\n        vertical-align: middle;\n    }\n\n    .dataframe tbody tr th {\n        vertical-align: top;\n    }\n\n    .dataframe thead th {\n        text-align: right;\n    }\n</style>\n<table border=\"1\" class=\"dataframe\">\n  <thead>\n    <tr style=\"text-align: right;\">\n      <th></th>\n      <th>Complete TCGA ID</th>\n      <th>Age at Initial Pathologic Diagnosis</th>\n      <th>ER Status</th>\n      <th>PR Status</th>\n      <th>HER2 Final Status</th>\n      <th>Tumor</th>\n      <th>Tumor--T1 Coded</th>\n      <th>Node</th>\n      <th>Node-Coded</th>\n      <th>Metastasis</th>\n      <th>...</th>\n      <th>PAM50 mRNA</th>\n      <th>SigClust Unsupervised mRNA</th>\n      <th>SigClust Intrinsic mRNA</th>\n      <th>miRNA Clusters</th>\n      <th>methylation Clusters</th>\n      <th>RPPA Clusters</th>\n      <th>CN Clusters</th>\n      <th>Integrated Clusters (with PAM50)</th>\n      <th>Integrated Clusters (no exp)</th>\n      <th>Integrated Clusters (unsup exp)</th>\n    </tr>\n  </thead>\n  <tbody>\n    <tr>\n      <th>0</th>\n      <td>TCGA-A2-A0T2</td>\n      <td>66</td>\n      <td>0.0</td>\n      <td>0</td>\n      <td>0.0</td>\n      <td>2.0</td>\n      <td>1</td>\n      <td>3.0</td>\n      <td>1</td>\n      <td>1.0</td>\n      <td>...</td>\n      <td>Basal-like</td>\n      <td>0</td>\n      <td>-13</td>\n      <td>3</td>\n      <td>5</td>\n      <td>Basal</td>\n      <td>3</td>\n      <td>2</td>\n      <td>2</td>\n      <td>2</td>\n    </tr>\n    <tr>\n      <th>1</th>\n      <td>TCGA-A2-A0CM</td>\n      <td>40</td>\n      <td>0.0</td>\n      <td>0</td>\n      <td>0.0</td>\n      <td>1.0</td>\n      <td>1</td>\n      <td>0.0</td>\n      <td>0</td>\n      <td>0.0</td>\n      <td>...</td>\n      <td>Basal-like</td>\n      <td>-12</td>\n      <td>-13</td>\n      <td>4</td>\n      <td>4</td>\n      <td>Basal</td>\n      <td>4</td>\n      <td>2</td>\n      <td>1</td>\n      <td>1</td>\n    </tr>\n    <tr>\n      <th>2</th>\n      <td>TCGA-BH-A18V</td>\n      <td>48</td>\n      <td>0.0</td>\n      <td>0</td>\n      <td>0.0</td>\n      <td>1.0</td>\n      <td>1</td>\n      <td>1.0</td>\n      <td>1</td>\n      <td>0.0</td>\n      <td>...</td>\n      <td>Basal-like</td>\n      <td>-12</td>\n      <td>-13</td>\n      <td>5</td>\n      <td>5</td>\n      <td>Basal</td>\n      <td>1</td>\n      <td>2</td>\n      <td>2</td>\n      <td>2</td>\n    </tr>\n    <tr>\n      <th>3</th>\n      <td>TCGA-BH-A18Q</td>\n      <td>56</td>\n      <td>0.0</td>\n      <td>0</td>\n      <td>0.0</td>\n      <td>1.0</td>\n      <td>1</td>\n      <td>1.0</td>\n      <td>1</td>\n      <td>0.0</td>\n      <td>...</td>\n      <td>Basal-like</td>\n      <td>-12</td>\n      <td>-13</td>\n      <td>5</td>\n      <td>5</td>\n      <td>Basal</td>\n      <td>1</td>\n      <td>2</td>\n      <td>2</td>\n      <td>2</td>\n    </tr>\n    <tr>\n      <th>4</th>\n      <td>TCGA-BH-A0E0</td>\n      <td>38</td>\n      <td>0.0</td>\n      <td>0</td>\n      <td>0.0</td>\n      <td>2.0</td>\n      <td>1</td>\n      <td>3.0</td>\n      <td>1</td>\n      <td>0.0</td>\n      <td>...</td>\n      <td>Basal-like</td>\n      <td>0</td>\n      <td>-13</td>\n      <td>5</td>\n      <td>5</td>\n      <td>Basal</td>\n      <td>1</td>\n      <td>2</td>\n      <td>2</td>\n      <td>2</td>\n    </tr>\n  </tbody>\n</table>\n<p>5 rows × 28 columns</p>\n</div>"
     },
     "execution_count": 354,
     "metadata": {},
     "output_type": "execute_result"
    }
   ],
   "source": [
    "patient.head()"
   ],
   "metadata": {
    "collapsed": false,
    "ExecuteTime": {
     "end_time": "2024-07-28T12:29:57.736559Z",
     "start_time": "2024-07-28T12:29:57.705910Z"
    }
   },
   "id": "c1d9f6145325f3c3",
   "execution_count": 354
  },
  {
   "cell_type": "code",
   "outputs": [],
   "source": [
    "patient['Survival Data Form'] = patient['Survival Data Form'].apply(lambda x: 1 if x == 'followup' else 0)"
   ],
   "metadata": {
    "collapsed": false,
    "ExecuteTime": {
     "end_time": "2024-07-28T12:29:59.248828Z",
     "start_time": "2024-07-28T12:29:59.242487Z"
    }
   },
   "id": "84971cf003b4ab2",
   "execution_count": 355
  },
  {
   "cell_type": "code",
   "outputs": [],
   "source": [
    "patient['Vital Status']=patient['Vital Status'].apply(lambda x:1 if x =='DECEASED' else 0)\n"
   ],
   "metadata": {
    "collapsed": false,
    "ExecuteTime": {
     "end_time": "2024-07-28T12:30:00.898687Z",
     "start_time": "2024-07-28T12:30:00.892745Z"
    }
   },
   "id": "51a509adf8d79096",
   "execution_count": 356
  },
  {
   "cell_type": "code",
   "outputs": [
    {
     "data": {
      "text/plain": "  Complete TCGA ID  Age at Initial Pathologic Diagnosis  ER Status  PR Status  \\\n0     TCGA-A2-A0T2                                   66        0.0          0   \n1     TCGA-A2-A0CM                                   40        0.0          0   \n2     TCGA-BH-A18V                                   48        0.0          0   \n3     TCGA-BH-A18Q                                   56        0.0          0   \n4     TCGA-BH-A0E0                                   38        0.0          0   \n\n   HER2 Final Status  Tumor  Tumor--T1 Coded  Node  Node-Coded  Metastasis  \\\n0                0.0    2.0                1   3.0           1         1.0   \n1                0.0    1.0                1   0.0           0         0.0   \n2                0.0    1.0                1   1.0           1         0.0   \n3                0.0    1.0                1   1.0           1         0.0   \n4                0.0    2.0                1   3.0           1         0.0   \n\n   ...  PAM50 mRNA  SigClust Unsupervised mRNA  SigClust Intrinsic mRNA  \\\n0  ...  Basal-like                           0                      -13   \n1  ...  Basal-like                         -12                      -13   \n2  ...  Basal-like                         -12                      -13   \n3  ...  Basal-like                         -12                      -13   \n4  ...  Basal-like                           0                      -13   \n\n   miRNA Clusters  methylation Clusters  RPPA Clusters  CN Clusters  \\\n0               3                     5          Basal            3   \n1               4                     4          Basal            4   \n2               5                     5          Basal            1   \n3               5                     5          Basal            1   \n4               5                     5          Basal            1   \n\n   Integrated Clusters (with PAM50) Integrated Clusters (no exp)  \\\n0                                 2                            2   \n1                                 2                            1   \n2                                 2                            2   \n3                                 2                            2   \n4                                 2                            2   \n\n   Integrated Clusters (unsup exp)  \n0                                2  \n1                                1  \n2                                2  \n3                                2  \n4                                2  \n\n[5 rows x 28 columns]",
      "text/html": "<div>\n<style scoped>\n    .dataframe tbody tr th:only-of-type {\n        vertical-align: middle;\n    }\n\n    .dataframe tbody tr th {\n        vertical-align: top;\n    }\n\n    .dataframe thead th {\n        text-align: right;\n    }\n</style>\n<table border=\"1\" class=\"dataframe\">\n  <thead>\n    <tr style=\"text-align: right;\">\n      <th></th>\n      <th>Complete TCGA ID</th>\n      <th>Age at Initial Pathologic Diagnosis</th>\n      <th>ER Status</th>\n      <th>PR Status</th>\n      <th>HER2 Final Status</th>\n      <th>Tumor</th>\n      <th>Tumor--T1 Coded</th>\n      <th>Node</th>\n      <th>Node-Coded</th>\n      <th>Metastasis</th>\n      <th>...</th>\n      <th>PAM50 mRNA</th>\n      <th>SigClust Unsupervised mRNA</th>\n      <th>SigClust Intrinsic mRNA</th>\n      <th>miRNA Clusters</th>\n      <th>methylation Clusters</th>\n      <th>RPPA Clusters</th>\n      <th>CN Clusters</th>\n      <th>Integrated Clusters (with PAM50)</th>\n      <th>Integrated Clusters (no exp)</th>\n      <th>Integrated Clusters (unsup exp)</th>\n    </tr>\n  </thead>\n  <tbody>\n    <tr>\n      <th>0</th>\n      <td>TCGA-A2-A0T2</td>\n      <td>66</td>\n      <td>0.0</td>\n      <td>0</td>\n      <td>0.0</td>\n      <td>2.0</td>\n      <td>1</td>\n      <td>3.0</td>\n      <td>1</td>\n      <td>1.0</td>\n      <td>...</td>\n      <td>Basal-like</td>\n      <td>0</td>\n      <td>-13</td>\n      <td>3</td>\n      <td>5</td>\n      <td>Basal</td>\n      <td>3</td>\n      <td>2</td>\n      <td>2</td>\n      <td>2</td>\n    </tr>\n    <tr>\n      <th>1</th>\n      <td>TCGA-A2-A0CM</td>\n      <td>40</td>\n      <td>0.0</td>\n      <td>0</td>\n      <td>0.0</td>\n      <td>1.0</td>\n      <td>1</td>\n      <td>0.0</td>\n      <td>0</td>\n      <td>0.0</td>\n      <td>...</td>\n      <td>Basal-like</td>\n      <td>-12</td>\n      <td>-13</td>\n      <td>4</td>\n      <td>4</td>\n      <td>Basal</td>\n      <td>4</td>\n      <td>2</td>\n      <td>1</td>\n      <td>1</td>\n    </tr>\n    <tr>\n      <th>2</th>\n      <td>TCGA-BH-A18V</td>\n      <td>48</td>\n      <td>0.0</td>\n      <td>0</td>\n      <td>0.0</td>\n      <td>1.0</td>\n      <td>1</td>\n      <td>1.0</td>\n      <td>1</td>\n      <td>0.0</td>\n      <td>...</td>\n      <td>Basal-like</td>\n      <td>-12</td>\n      <td>-13</td>\n      <td>5</td>\n      <td>5</td>\n      <td>Basal</td>\n      <td>1</td>\n      <td>2</td>\n      <td>2</td>\n      <td>2</td>\n    </tr>\n    <tr>\n      <th>3</th>\n      <td>TCGA-BH-A18Q</td>\n      <td>56</td>\n      <td>0.0</td>\n      <td>0</td>\n      <td>0.0</td>\n      <td>1.0</td>\n      <td>1</td>\n      <td>1.0</td>\n      <td>1</td>\n      <td>0.0</td>\n      <td>...</td>\n      <td>Basal-like</td>\n      <td>-12</td>\n      <td>-13</td>\n      <td>5</td>\n      <td>5</td>\n      <td>Basal</td>\n      <td>1</td>\n      <td>2</td>\n      <td>2</td>\n      <td>2</td>\n    </tr>\n    <tr>\n      <th>4</th>\n      <td>TCGA-BH-A0E0</td>\n      <td>38</td>\n      <td>0.0</td>\n      <td>0</td>\n      <td>0.0</td>\n      <td>2.0</td>\n      <td>1</td>\n      <td>3.0</td>\n      <td>1</td>\n      <td>0.0</td>\n      <td>...</td>\n      <td>Basal-like</td>\n      <td>0</td>\n      <td>-13</td>\n      <td>5</td>\n      <td>5</td>\n      <td>Basal</td>\n      <td>1</td>\n      <td>2</td>\n      <td>2</td>\n      <td>2</td>\n    </tr>\n  </tbody>\n</table>\n<p>5 rows × 28 columns</p>\n</div>"
     },
     "execution_count": 357,
     "metadata": {},
     "output_type": "execute_result"
    }
   ],
   "source": [
    "patient.head()"
   ],
   "metadata": {
    "collapsed": false,
    "ExecuteTime": {
     "end_time": "2024-07-28T12:30:02.189228Z",
     "start_time": "2024-07-28T12:30:02.165086Z"
    }
   },
   "id": "94ece1f318a7bbd8",
   "execution_count": 357
  },
  {
   "cell_type": "code",
   "outputs": [
    {
     "data": {
      "text/plain": "np.int64(94)"
     },
     "execution_count": 358,
     "metadata": {},
     "output_type": "execute_result"
    }
   ],
   "source": [
    "patient['Days to date of Death'].isnull().sum()"
   ],
   "metadata": {
    "collapsed": false,
    "ExecuteTime": {
     "end_time": "2024-07-28T12:30:03.639182Z",
     "start_time": "2024-07-28T12:30:03.632557Z"
    }
   },
   "id": "e80df399dffbe313",
   "execution_count": 358
  },
  {
   "cell_type": "code",
   "outputs": [
    {
     "name": "stdout",
     "output_type": "stream",
     "text": [
      "    Complete TCGA ID  PAM50 mRNA RPPA Clusters\n",
      "0       TCGA-A2-A0T2  Basal-like         Basal\n",
      "1       TCGA-A2-A0CM  Basal-like         Basal\n",
      "2       TCGA-BH-A18V  Basal-like         Basal\n",
      "3       TCGA-BH-A18Q  Basal-like         Basal\n",
      "4       TCGA-BH-A0E0  Basal-like         Basal\n",
      "..               ...         ...           ...\n",
      "100     TCGA-BH-A0C7   Luminal B        LumA/B\n",
      "101     TCGA-BH-A0DD   Luminal B        LumA/B\n",
      "102     TCGA-C8-A12U   Luminal B         Basal\n",
      "103     TCGA-C8-A12W   Luminal B        ReacII\n",
      "104     TCGA-E2-A15A   Luminal B          Her2\n",
      "\n",
      "[105 rows x 3 columns]\n"
     ]
    }
   ],
   "source": [
    "knnimputeDeathDays=KNNImputer()\n",
    "number_columns = patient.select_dtypes(include=[np.number]).columns\n",
    "category_columns = patient.select_dtypes(exclude=[np.number]).columns\n",
    "category_data = patient[category_columns]\n",
    "number_data = patient[number_columns]\n",
    "numericalDataImputed= pd.DataFrame(knnimputeDeathDays.fit_transform(number_data), columns=number_data.columns, index=number_data.index)\n",
    "print(category_data)\n",
    "patient=numericalDataImputed\n"
   ],
   "metadata": {
    "collapsed": false,
    "ExecuteTime": {
     "end_time": "2024-07-28T12:30:06.845216Z",
     "start_time": "2024-07-28T12:30:06.819289Z"
    }
   },
   "id": "7a681c09c9441da",
   "execution_count": 359
  },
  {
   "cell_type": "code",
   "outputs": [
    {
     "name": "stdout",
     "output_type": "stream",
     "text": [
      "     Age at Initial Pathologic Diagnosis  ER Status  PR Status  \\\n",
      "0                                   66.0        0.0        0.0   \n",
      "1                                   40.0        0.0        0.0   \n",
      "2                                   48.0        0.0        0.0   \n",
      "3                                   56.0        0.0        0.0   \n",
      "4                                   38.0        0.0        0.0   \n",
      "..                                   ...        ...        ...   \n",
      "100                                 48.0        1.0        0.0   \n",
      "101                                 58.0        1.0        1.0   \n",
      "102                                 46.0        1.0        1.0   \n",
      "103                                 49.0        1.0        1.0   \n",
      "104                                 45.0        1.0        1.0   \n",
      "\n",
      "     HER2 Final Status  Tumor  Tumor--T1 Coded  Node  Node-Coded  Metastasis  \\\n",
      "0                  0.0    2.0              1.0   3.0         1.0         1.0   \n",
      "1                  0.0    1.0              1.0   0.0         0.0         0.0   \n",
      "2                  0.0    1.0              1.0   1.0         1.0         0.0   \n",
      "3                  0.0    1.0              1.0   1.0         1.0         0.0   \n",
      "4                  0.0    2.0              1.0   3.0         1.0         0.0   \n",
      "..                 ...    ...              ...   ...         ...         ...   \n",
      "100                1.0    1.0              1.0   1.0         1.0         0.0   \n",
      "101                1.0    1.0              1.0   1.0         1.0         0.0   \n",
      "102                0.0    1.0              1.0   1.0         1.0         0.0   \n",
      "103                0.0    3.0              1.0   1.0         1.0         0.0   \n",
      "104                0.0    1.0              1.0   3.0         1.0         0.0   \n",
      "\n",
      "     AJCC Stage  ...  OS event  OS Time  SigClust Unsupervised mRNA  \\\n",
      "0          10.0  ...       1.0    240.0                         0.0   \n",
      "1           3.0  ...       1.0    754.0                       -12.0   \n",
      "2           4.0  ...       1.0   1555.0                       -12.0   \n",
      "3           4.0  ...       1.0   1692.0                       -12.0   \n",
      "4           8.0  ...       0.0    133.0                         0.0   \n",
      "..          ...  ...       ...      ...                         ...   \n",
      "100         4.0  ...       0.0   1305.0                        -3.0   \n",
      "101         4.0  ...       0.0   1393.0                        -3.0   \n",
      "102         1.0  ...       0.0      0.0                        -5.0   \n",
      "103         7.0  ...       0.0      0.0                        -5.0   \n",
      "104         8.0  ...       0.0    502.0                        -5.0   \n",
      "\n",
      "     SigClust Intrinsic mRNA  miRNA Clusters  methylation Clusters  \\\n",
      "0                      -13.0             3.0                   5.0   \n",
      "1                      -13.0             4.0                   4.0   \n",
      "2                      -13.0             5.0                   5.0   \n",
      "3                      -13.0             5.0                   5.0   \n",
      "4                      -13.0             5.0                   5.0   \n",
      "..                       ...             ...                   ...   \n",
      "100                      0.0             4.0                   4.0   \n",
      "101                     -6.0             4.0                   4.0   \n",
      "102                     -2.0             5.0                   4.0   \n",
      "103                     -2.0             4.0                   4.0   \n",
      "104                     -2.0             4.0                   4.0   \n",
      "\n",
      "     CN Clusters  Integrated Clusters (with PAM50)  \\\n",
      "0            3.0                               2.0   \n",
      "1            4.0                               2.0   \n",
      "2            1.0                               2.0   \n",
      "3            1.0                               2.0   \n",
      "4            1.0                               2.0   \n",
      "..           ...                               ...   \n",
      "100          5.0                               4.0   \n",
      "101          3.0                               4.0   \n",
      "102          5.0                               4.0   \n",
      "103          3.0                               4.0   \n",
      "104          4.0                               4.0   \n",
      "\n",
      "     Integrated Clusters (no exp)  Integrated Clusters (unsup exp)  \n",
      "0                             2.0                              2.0  \n",
      "1                             1.0                              1.0  \n",
      "2                             2.0                              2.0  \n",
      "3                             2.0                              2.0  \n",
      "4                             2.0                              2.0  \n",
      "..                            ...                              ...  \n",
      "100                           1.0                              3.0  \n",
      "101                           1.0                              3.0  \n",
      "102                           1.0                              1.0  \n",
      "103                           1.0                              1.0  \n",
      "104                           1.0                              1.0  \n",
      "\n",
      "[105 rows x 25 columns]\n"
     ]
    }
   ],
   "source": [
    "print(patient)"
   ],
   "metadata": {
    "collapsed": false,
    "ExecuteTime": {
     "end_time": "2024-07-28T12:30:09.737609Z",
     "start_time": "2024-07-28T12:30:09.711782Z"
    }
   },
   "id": "9a538d4180bd42b2",
   "execution_count": 360
  },
  {
   "cell_type": "code",
   "outputs": [
    {
     "data": {
      "text/plain": "   Age at Initial Pathologic Diagnosis  ER Status  PR Status  \\\n0                                 66.0        0.0        0.0   \n1                                 40.0        0.0        0.0   \n2                                 48.0        0.0        0.0   \n3                                 56.0        0.0        0.0   \n4                                 38.0        0.0        0.0   \n\n   HER2 Final Status  Tumor  Tumor--T1 Coded  Node  Node-Coded  Metastasis  \\\n0                0.0    2.0              1.0   3.0         1.0         1.0   \n1                0.0    1.0              1.0   0.0         0.0         0.0   \n2                0.0    1.0              1.0   1.0         1.0         0.0   \n3                0.0    1.0              1.0   1.0         1.0         0.0   \n4                0.0    2.0              1.0   3.0         1.0         0.0   \n\n   AJCC Stage  ...  OS event  OS Time  SigClust Unsupervised mRNA  \\\n0        10.0  ...       1.0    240.0                         0.0   \n1         3.0  ...       1.0    754.0                       -12.0   \n2         4.0  ...       1.0   1555.0                       -12.0   \n3         4.0  ...       1.0   1692.0                       -12.0   \n4         8.0  ...       0.0    133.0                         0.0   \n\n   SigClust Intrinsic mRNA  miRNA Clusters  methylation Clusters  CN Clusters  \\\n0                    -13.0             3.0                   5.0          3.0   \n1                    -13.0             4.0                   4.0          4.0   \n2                    -13.0             5.0                   5.0          1.0   \n3                    -13.0             5.0                   5.0          1.0   \n4                    -13.0             5.0                   5.0          1.0   \n\n   Integrated Clusters (with PAM50)  Integrated Clusters (no exp)  \\\n0                               2.0                           2.0   \n1                               2.0                           1.0   \n2                               2.0                           2.0   \n3                               2.0                           2.0   \n4                               2.0                           2.0   \n\n   Integrated Clusters (unsup exp)  \n0                              2.0  \n1                              1.0  \n2                              2.0  \n3                              2.0  \n4                              2.0  \n\n[5 rows x 25 columns]",
      "text/html": "<div>\n<style scoped>\n    .dataframe tbody tr th:only-of-type {\n        vertical-align: middle;\n    }\n\n    .dataframe tbody tr th {\n        vertical-align: top;\n    }\n\n    .dataframe thead th {\n        text-align: right;\n    }\n</style>\n<table border=\"1\" class=\"dataframe\">\n  <thead>\n    <tr style=\"text-align: right;\">\n      <th></th>\n      <th>Age at Initial Pathologic Diagnosis</th>\n      <th>ER Status</th>\n      <th>PR Status</th>\n      <th>HER2 Final Status</th>\n      <th>Tumor</th>\n      <th>Tumor--T1 Coded</th>\n      <th>Node</th>\n      <th>Node-Coded</th>\n      <th>Metastasis</th>\n      <th>AJCC Stage</th>\n      <th>...</th>\n      <th>OS event</th>\n      <th>OS Time</th>\n      <th>SigClust Unsupervised mRNA</th>\n      <th>SigClust Intrinsic mRNA</th>\n      <th>miRNA Clusters</th>\n      <th>methylation Clusters</th>\n      <th>CN Clusters</th>\n      <th>Integrated Clusters (with PAM50)</th>\n      <th>Integrated Clusters (no exp)</th>\n      <th>Integrated Clusters (unsup exp)</th>\n    </tr>\n  </thead>\n  <tbody>\n    <tr>\n      <th>0</th>\n      <td>66.0</td>\n      <td>0.0</td>\n      <td>0.0</td>\n      <td>0.0</td>\n      <td>2.0</td>\n      <td>1.0</td>\n      <td>3.0</td>\n      <td>1.0</td>\n      <td>1.0</td>\n      <td>10.0</td>\n      <td>...</td>\n      <td>1.0</td>\n      <td>240.0</td>\n      <td>0.0</td>\n      <td>-13.0</td>\n      <td>3.0</td>\n      <td>5.0</td>\n      <td>3.0</td>\n      <td>2.0</td>\n      <td>2.0</td>\n      <td>2.0</td>\n    </tr>\n    <tr>\n      <th>1</th>\n      <td>40.0</td>\n      <td>0.0</td>\n      <td>0.0</td>\n      <td>0.0</td>\n      <td>1.0</td>\n      <td>1.0</td>\n      <td>0.0</td>\n      <td>0.0</td>\n      <td>0.0</td>\n      <td>3.0</td>\n      <td>...</td>\n      <td>1.0</td>\n      <td>754.0</td>\n      <td>-12.0</td>\n      <td>-13.0</td>\n      <td>4.0</td>\n      <td>4.0</td>\n      <td>4.0</td>\n      <td>2.0</td>\n      <td>1.0</td>\n      <td>1.0</td>\n    </tr>\n    <tr>\n      <th>2</th>\n      <td>48.0</td>\n      <td>0.0</td>\n      <td>0.0</td>\n      <td>0.0</td>\n      <td>1.0</td>\n      <td>1.0</td>\n      <td>1.0</td>\n      <td>1.0</td>\n      <td>0.0</td>\n      <td>4.0</td>\n      <td>...</td>\n      <td>1.0</td>\n      <td>1555.0</td>\n      <td>-12.0</td>\n      <td>-13.0</td>\n      <td>5.0</td>\n      <td>5.0</td>\n      <td>1.0</td>\n      <td>2.0</td>\n      <td>2.0</td>\n      <td>2.0</td>\n    </tr>\n    <tr>\n      <th>3</th>\n      <td>56.0</td>\n      <td>0.0</td>\n      <td>0.0</td>\n      <td>0.0</td>\n      <td>1.0</td>\n      <td>1.0</td>\n      <td>1.0</td>\n      <td>1.0</td>\n      <td>0.0</td>\n      <td>4.0</td>\n      <td>...</td>\n      <td>1.0</td>\n      <td>1692.0</td>\n      <td>-12.0</td>\n      <td>-13.0</td>\n      <td>5.0</td>\n      <td>5.0</td>\n      <td>1.0</td>\n      <td>2.0</td>\n      <td>2.0</td>\n      <td>2.0</td>\n    </tr>\n    <tr>\n      <th>4</th>\n      <td>38.0</td>\n      <td>0.0</td>\n      <td>0.0</td>\n      <td>0.0</td>\n      <td>2.0</td>\n      <td>1.0</td>\n      <td>3.0</td>\n      <td>1.0</td>\n      <td>0.0</td>\n      <td>8.0</td>\n      <td>...</td>\n      <td>0.0</td>\n      <td>133.0</td>\n      <td>0.0</td>\n      <td>-13.0</td>\n      <td>5.0</td>\n      <td>5.0</td>\n      <td>1.0</td>\n      <td>2.0</td>\n      <td>2.0</td>\n      <td>2.0</td>\n    </tr>\n  </tbody>\n</table>\n<p>5 rows × 25 columns</p>\n</div>"
     },
     "execution_count": 361,
     "metadata": {},
     "output_type": "execute_result"
    }
   ],
   "source": [
    "patient.head()"
   ],
   "metadata": {
    "collapsed": false,
    "ExecuteTime": {
     "end_time": "2024-07-28T12:30:11.571288Z",
     "start_time": "2024-07-28T12:30:11.533613Z"
    }
   },
   "id": "b37173a41acefc7c",
   "execution_count": 361
  },
  {
   "cell_type": "code",
   "outputs": [],
   "source": [
    "patient=pd.merge(patient,category_data,left_index=True,right_index=True,how='left')"
   ],
   "metadata": {
    "collapsed": false,
    "ExecuteTime": {
     "end_time": "2024-07-28T12:30:13.071856Z",
     "start_time": "2024-07-28T12:30:13.052257Z"
    }
   },
   "id": "589875caea618ad6",
   "execution_count": 362
  },
  {
   "cell_type": "code",
   "outputs": [
    {
     "data": {
      "text/plain": "   Age at Initial Pathologic Diagnosis  ER Status  PR Status  \\\n0                                 66.0        0.0        0.0   \n1                                 40.0        0.0        0.0   \n2                                 48.0        0.0        0.0   \n3                                 56.0        0.0        0.0   \n4                                 38.0        0.0        0.0   \n\n   HER2 Final Status  Tumor  Tumor--T1 Coded  Node  Node-Coded  Metastasis  \\\n0                0.0    2.0              1.0   3.0         1.0         1.0   \n1                0.0    1.0              1.0   0.0         0.0         0.0   \n2                0.0    1.0              1.0   1.0         1.0         0.0   \n3                0.0    1.0              1.0   1.0         1.0         0.0   \n4                0.0    2.0              1.0   3.0         1.0         0.0   \n\n   AJCC Stage  ...  SigClust Intrinsic mRNA  miRNA Clusters  \\\n0        10.0  ...                    -13.0             3.0   \n1         3.0  ...                    -13.0             4.0   \n2         4.0  ...                    -13.0             5.0   \n3         4.0  ...                    -13.0             5.0   \n4         8.0  ...                    -13.0             5.0   \n\n   methylation Clusters  CN Clusters  Integrated Clusters (with PAM50)  \\\n0                   5.0          3.0                               2.0   \n1                   4.0          4.0                               2.0   \n2                   5.0          1.0                               2.0   \n3                   5.0          1.0                               2.0   \n4                   5.0          1.0                               2.0   \n\n   Integrated Clusters (no exp)  Integrated Clusters (unsup exp)  \\\n0                           2.0                              2.0   \n1                           1.0                              1.0   \n2                           2.0                              2.0   \n3                           2.0                              2.0   \n4                           2.0                              2.0   \n\n   Complete TCGA ID  PAM50 mRNA  RPPA Clusters  \n0      TCGA-A2-A0T2  Basal-like          Basal  \n1      TCGA-A2-A0CM  Basal-like          Basal  \n2      TCGA-BH-A18V  Basal-like          Basal  \n3      TCGA-BH-A18Q  Basal-like          Basal  \n4      TCGA-BH-A0E0  Basal-like          Basal  \n\n[5 rows x 28 columns]",
      "text/html": "<div>\n<style scoped>\n    .dataframe tbody tr th:only-of-type {\n        vertical-align: middle;\n    }\n\n    .dataframe tbody tr th {\n        vertical-align: top;\n    }\n\n    .dataframe thead th {\n        text-align: right;\n    }\n</style>\n<table border=\"1\" class=\"dataframe\">\n  <thead>\n    <tr style=\"text-align: right;\">\n      <th></th>\n      <th>Age at Initial Pathologic Diagnosis</th>\n      <th>ER Status</th>\n      <th>PR Status</th>\n      <th>HER2 Final Status</th>\n      <th>Tumor</th>\n      <th>Tumor--T1 Coded</th>\n      <th>Node</th>\n      <th>Node-Coded</th>\n      <th>Metastasis</th>\n      <th>AJCC Stage</th>\n      <th>...</th>\n      <th>SigClust Intrinsic mRNA</th>\n      <th>miRNA Clusters</th>\n      <th>methylation Clusters</th>\n      <th>CN Clusters</th>\n      <th>Integrated Clusters (with PAM50)</th>\n      <th>Integrated Clusters (no exp)</th>\n      <th>Integrated Clusters (unsup exp)</th>\n      <th>Complete TCGA ID</th>\n      <th>PAM50 mRNA</th>\n      <th>RPPA Clusters</th>\n    </tr>\n  </thead>\n  <tbody>\n    <tr>\n      <th>0</th>\n      <td>66.0</td>\n      <td>0.0</td>\n      <td>0.0</td>\n      <td>0.0</td>\n      <td>2.0</td>\n      <td>1.0</td>\n      <td>3.0</td>\n      <td>1.0</td>\n      <td>1.0</td>\n      <td>10.0</td>\n      <td>...</td>\n      <td>-13.0</td>\n      <td>3.0</td>\n      <td>5.0</td>\n      <td>3.0</td>\n      <td>2.0</td>\n      <td>2.0</td>\n      <td>2.0</td>\n      <td>TCGA-A2-A0T2</td>\n      <td>Basal-like</td>\n      <td>Basal</td>\n    </tr>\n    <tr>\n      <th>1</th>\n      <td>40.0</td>\n      <td>0.0</td>\n      <td>0.0</td>\n      <td>0.0</td>\n      <td>1.0</td>\n      <td>1.0</td>\n      <td>0.0</td>\n      <td>0.0</td>\n      <td>0.0</td>\n      <td>3.0</td>\n      <td>...</td>\n      <td>-13.0</td>\n      <td>4.0</td>\n      <td>4.0</td>\n      <td>4.0</td>\n      <td>2.0</td>\n      <td>1.0</td>\n      <td>1.0</td>\n      <td>TCGA-A2-A0CM</td>\n      <td>Basal-like</td>\n      <td>Basal</td>\n    </tr>\n    <tr>\n      <th>2</th>\n      <td>48.0</td>\n      <td>0.0</td>\n      <td>0.0</td>\n      <td>0.0</td>\n      <td>1.0</td>\n      <td>1.0</td>\n      <td>1.0</td>\n      <td>1.0</td>\n      <td>0.0</td>\n      <td>4.0</td>\n      <td>...</td>\n      <td>-13.0</td>\n      <td>5.0</td>\n      <td>5.0</td>\n      <td>1.0</td>\n      <td>2.0</td>\n      <td>2.0</td>\n      <td>2.0</td>\n      <td>TCGA-BH-A18V</td>\n      <td>Basal-like</td>\n      <td>Basal</td>\n    </tr>\n    <tr>\n      <th>3</th>\n      <td>56.0</td>\n      <td>0.0</td>\n      <td>0.0</td>\n      <td>0.0</td>\n      <td>1.0</td>\n      <td>1.0</td>\n      <td>1.0</td>\n      <td>1.0</td>\n      <td>0.0</td>\n      <td>4.0</td>\n      <td>...</td>\n      <td>-13.0</td>\n      <td>5.0</td>\n      <td>5.0</td>\n      <td>1.0</td>\n      <td>2.0</td>\n      <td>2.0</td>\n      <td>2.0</td>\n      <td>TCGA-BH-A18Q</td>\n      <td>Basal-like</td>\n      <td>Basal</td>\n    </tr>\n    <tr>\n      <th>4</th>\n      <td>38.0</td>\n      <td>0.0</td>\n      <td>0.0</td>\n      <td>0.0</td>\n      <td>2.0</td>\n      <td>1.0</td>\n      <td>3.0</td>\n      <td>1.0</td>\n      <td>0.0</td>\n      <td>8.0</td>\n      <td>...</td>\n      <td>-13.0</td>\n      <td>5.0</td>\n      <td>5.0</td>\n      <td>1.0</td>\n      <td>2.0</td>\n      <td>2.0</td>\n      <td>2.0</td>\n      <td>TCGA-BH-A0E0</td>\n      <td>Basal-like</td>\n      <td>Basal</td>\n    </tr>\n  </tbody>\n</table>\n<p>5 rows × 28 columns</p>\n</div>"
     },
     "execution_count": 363,
     "metadata": {},
     "output_type": "execute_result"
    }
   ],
   "source": [
    "patient.head()"
   ],
   "metadata": {
    "collapsed": false,
    "ExecuteTime": {
     "end_time": "2024-07-28T12:30:14.955884Z",
     "start_time": "2024-07-28T12:30:14.920537Z"
    }
   },
   "id": "e8b7db94f5ec2340",
   "execution_count": 363
  },
  {
   "cell_type": "code",
   "outputs": [],
   "source": [
    "severityOrderOfSubtype = {\n",
    "    'Luminal A': 0,\n",
    "    'Luminal B': 1,\n",
    "    'HER2-enriched': 2,\n",
    "    'Basal-like': 3\n",
    "}\n",
    "\n",
    "patient['PAM50 mRNA'] = patient['PAM50 mRNA'].map(severityOrderOfSubtype)"
   ],
   "metadata": {
    "collapsed": false,
    "ExecuteTime": {
     "end_time": "2024-07-28T12:30:16.472231Z",
     "start_time": "2024-07-28T12:30:16.466069Z"
    }
   },
   "id": "9b2bfa8de6f0ac3d",
   "execution_count": 364
  },
  {
   "cell_type": "code",
   "outputs": [
    {
     "data": {
      "text/plain": "   Age at Initial Pathologic Diagnosis  ER Status  PR Status  \\\n0                                 66.0        0.0        0.0   \n1                                 40.0        0.0        0.0   \n2                                 48.0        0.0        0.0   \n3                                 56.0        0.0        0.0   \n4                                 38.0        0.0        0.0   \n5                                 57.0        0.0        0.0   \n6                                 74.0        0.0        0.0   \n7                                 60.0        0.0        0.0   \n8                                 61.0        0.0        0.0   \n9                                 67.0        0.0        0.0   \n\n   HER2 Final Status  Tumor  Tumor--T1 Coded  Node  Node-Coded  Metastasis  \\\n0                0.0    2.0              1.0   3.0         1.0         1.0   \n1                0.0    1.0              1.0   0.0         0.0         0.0   \n2                0.0    1.0              1.0   1.0         1.0         0.0   \n3                0.0    1.0              1.0   1.0         1.0         0.0   \n4                0.0    2.0              1.0   3.0         1.0         0.0   \n5                0.0    1.0              1.0   0.0         0.0         0.0   \n6                0.0    2.0              1.0   0.0         0.0         0.0   \n7                0.0    1.0              1.0   0.0         0.0         0.0   \n8                0.0    1.0              1.0   0.0         0.0         0.0   \n9                0.0    1.0              1.0   0.0         0.0         0.0   \n\n   AJCC Stage  ...  SigClust Intrinsic mRNA  miRNA Clusters  \\\n0        10.0  ...                    -13.0             3.0   \n1         3.0  ...                    -13.0             4.0   \n2         4.0  ...                    -13.0             5.0   \n3         4.0  ...                    -13.0             5.0   \n4         8.0  ...                    -13.0             5.0   \n5         3.0  ...                    -13.0             5.0   \n6         4.0  ...                    -13.0             3.0   \n7         3.0  ...                    -13.0             5.0   \n8         3.0  ...                    -13.0             2.0   \n9         3.0  ...                    -13.0             5.0   \n\n   methylation Clusters  CN Clusters  Integrated Clusters (with PAM50)  \\\n0                   5.0          3.0                               2.0   \n1                   4.0          4.0                               2.0   \n2                   5.0          1.0                               2.0   \n3                   5.0          1.0                               2.0   \n4                   5.0          1.0                               2.0   \n5                   5.0          1.0                               2.0   \n6                   5.0          1.0                               2.0   \n7                   5.0          1.0                               2.0   \n8                   5.0          1.0                               2.0   \n9                   5.0          3.0                               2.0   \n\n   Integrated Clusters (no exp)  Integrated Clusters (unsup exp)  \\\n0                           2.0                              2.0   \n1                           1.0                              1.0   \n2                           2.0                              2.0   \n3                           2.0                              2.0   \n4                           2.0                              2.0   \n5                           2.0                              2.0   \n6                           2.0                              2.0   \n7                           2.0                              2.0   \n8                           2.0                              2.0   \n9                           2.0                              2.0   \n\n   Complete TCGA ID  PAM50 mRNA  RPPA Clusters  \n0      TCGA-A2-A0T2           3          Basal  \n1      TCGA-A2-A0CM           3          Basal  \n2      TCGA-BH-A18V           3          Basal  \n3      TCGA-BH-A18Q           3          Basal  \n4      TCGA-BH-A0E0           3          Basal  \n5      TCGA-A7-A0CE           3          Basal  \n6      TCGA-D8-A142           3              X  \n7      TCGA-A2-A0D0           3          Basal  \n8      TCGA-AO-A0J6           3          Basal  \n9      TCGA-A2-A0YM           3          Basal  \n\n[10 rows x 28 columns]",
      "text/html": "<div>\n<style scoped>\n    .dataframe tbody tr th:only-of-type {\n        vertical-align: middle;\n    }\n\n    .dataframe tbody tr th {\n        vertical-align: top;\n    }\n\n    .dataframe thead th {\n        text-align: right;\n    }\n</style>\n<table border=\"1\" class=\"dataframe\">\n  <thead>\n    <tr style=\"text-align: right;\">\n      <th></th>\n      <th>Age at Initial Pathologic Diagnosis</th>\n      <th>ER Status</th>\n      <th>PR Status</th>\n      <th>HER2 Final Status</th>\n      <th>Tumor</th>\n      <th>Tumor--T1 Coded</th>\n      <th>Node</th>\n      <th>Node-Coded</th>\n      <th>Metastasis</th>\n      <th>AJCC Stage</th>\n      <th>...</th>\n      <th>SigClust Intrinsic mRNA</th>\n      <th>miRNA Clusters</th>\n      <th>methylation Clusters</th>\n      <th>CN Clusters</th>\n      <th>Integrated Clusters (with PAM50)</th>\n      <th>Integrated Clusters (no exp)</th>\n      <th>Integrated Clusters (unsup exp)</th>\n      <th>Complete TCGA ID</th>\n      <th>PAM50 mRNA</th>\n      <th>RPPA Clusters</th>\n    </tr>\n  </thead>\n  <tbody>\n    <tr>\n      <th>0</th>\n      <td>66.0</td>\n      <td>0.0</td>\n      <td>0.0</td>\n      <td>0.0</td>\n      <td>2.0</td>\n      <td>1.0</td>\n      <td>3.0</td>\n      <td>1.0</td>\n      <td>1.0</td>\n      <td>10.0</td>\n      <td>...</td>\n      <td>-13.0</td>\n      <td>3.0</td>\n      <td>5.0</td>\n      <td>3.0</td>\n      <td>2.0</td>\n      <td>2.0</td>\n      <td>2.0</td>\n      <td>TCGA-A2-A0T2</td>\n      <td>3</td>\n      <td>Basal</td>\n    </tr>\n    <tr>\n      <th>1</th>\n      <td>40.0</td>\n      <td>0.0</td>\n      <td>0.0</td>\n      <td>0.0</td>\n      <td>1.0</td>\n      <td>1.0</td>\n      <td>0.0</td>\n      <td>0.0</td>\n      <td>0.0</td>\n      <td>3.0</td>\n      <td>...</td>\n      <td>-13.0</td>\n      <td>4.0</td>\n      <td>4.0</td>\n      <td>4.0</td>\n      <td>2.0</td>\n      <td>1.0</td>\n      <td>1.0</td>\n      <td>TCGA-A2-A0CM</td>\n      <td>3</td>\n      <td>Basal</td>\n    </tr>\n    <tr>\n      <th>2</th>\n      <td>48.0</td>\n      <td>0.0</td>\n      <td>0.0</td>\n      <td>0.0</td>\n      <td>1.0</td>\n      <td>1.0</td>\n      <td>1.0</td>\n      <td>1.0</td>\n      <td>0.0</td>\n      <td>4.0</td>\n      <td>...</td>\n      <td>-13.0</td>\n      <td>5.0</td>\n      <td>5.0</td>\n      <td>1.0</td>\n      <td>2.0</td>\n      <td>2.0</td>\n      <td>2.0</td>\n      <td>TCGA-BH-A18V</td>\n      <td>3</td>\n      <td>Basal</td>\n    </tr>\n    <tr>\n      <th>3</th>\n      <td>56.0</td>\n      <td>0.0</td>\n      <td>0.0</td>\n      <td>0.0</td>\n      <td>1.0</td>\n      <td>1.0</td>\n      <td>1.0</td>\n      <td>1.0</td>\n      <td>0.0</td>\n      <td>4.0</td>\n      <td>...</td>\n      <td>-13.0</td>\n      <td>5.0</td>\n      <td>5.0</td>\n      <td>1.0</td>\n      <td>2.0</td>\n      <td>2.0</td>\n      <td>2.0</td>\n      <td>TCGA-BH-A18Q</td>\n      <td>3</td>\n      <td>Basal</td>\n    </tr>\n    <tr>\n      <th>4</th>\n      <td>38.0</td>\n      <td>0.0</td>\n      <td>0.0</td>\n      <td>0.0</td>\n      <td>2.0</td>\n      <td>1.0</td>\n      <td>3.0</td>\n      <td>1.0</td>\n      <td>0.0</td>\n      <td>8.0</td>\n      <td>...</td>\n      <td>-13.0</td>\n      <td>5.0</td>\n      <td>5.0</td>\n      <td>1.0</td>\n      <td>2.0</td>\n      <td>2.0</td>\n      <td>2.0</td>\n      <td>TCGA-BH-A0E0</td>\n      <td>3</td>\n      <td>Basal</td>\n    </tr>\n    <tr>\n      <th>5</th>\n      <td>57.0</td>\n      <td>0.0</td>\n      <td>0.0</td>\n      <td>0.0</td>\n      <td>1.0</td>\n      <td>1.0</td>\n      <td>0.0</td>\n      <td>0.0</td>\n      <td>0.0</td>\n      <td>3.0</td>\n      <td>...</td>\n      <td>-13.0</td>\n      <td>5.0</td>\n      <td>5.0</td>\n      <td>1.0</td>\n      <td>2.0</td>\n      <td>2.0</td>\n      <td>2.0</td>\n      <td>TCGA-A7-A0CE</td>\n      <td>3</td>\n      <td>Basal</td>\n    </tr>\n    <tr>\n      <th>6</th>\n      <td>74.0</td>\n      <td>0.0</td>\n      <td>0.0</td>\n      <td>0.0</td>\n      <td>2.0</td>\n      <td>1.0</td>\n      <td>0.0</td>\n      <td>0.0</td>\n      <td>0.0</td>\n      <td>4.0</td>\n      <td>...</td>\n      <td>-13.0</td>\n      <td>3.0</td>\n      <td>5.0</td>\n      <td>1.0</td>\n      <td>2.0</td>\n      <td>2.0</td>\n      <td>2.0</td>\n      <td>TCGA-D8-A142</td>\n      <td>3</td>\n      <td>X</td>\n    </tr>\n    <tr>\n      <th>7</th>\n      <td>60.0</td>\n      <td>0.0</td>\n      <td>0.0</td>\n      <td>0.0</td>\n      <td>1.0</td>\n      <td>1.0</td>\n      <td>0.0</td>\n      <td>0.0</td>\n      <td>0.0</td>\n      <td>3.0</td>\n      <td>...</td>\n      <td>-13.0</td>\n      <td>5.0</td>\n      <td>5.0</td>\n      <td>1.0</td>\n      <td>2.0</td>\n      <td>2.0</td>\n      <td>2.0</td>\n      <td>TCGA-A2-A0D0</td>\n      <td>3</td>\n      <td>Basal</td>\n    </tr>\n    <tr>\n      <th>8</th>\n      <td>61.0</td>\n      <td>0.0</td>\n      <td>0.0</td>\n      <td>0.0</td>\n      <td>1.0</td>\n      <td>1.0</td>\n      <td>0.0</td>\n      <td>0.0</td>\n      <td>0.0</td>\n      <td>3.0</td>\n      <td>...</td>\n      <td>-13.0</td>\n      <td>2.0</td>\n      <td>5.0</td>\n      <td>1.0</td>\n      <td>2.0</td>\n      <td>2.0</td>\n      <td>2.0</td>\n      <td>TCGA-AO-A0J6</td>\n      <td>3</td>\n      <td>Basal</td>\n    </tr>\n    <tr>\n      <th>9</th>\n      <td>67.0</td>\n      <td>0.0</td>\n      <td>0.0</td>\n      <td>0.0</td>\n      <td>1.0</td>\n      <td>1.0</td>\n      <td>0.0</td>\n      <td>0.0</td>\n      <td>0.0</td>\n      <td>3.0</td>\n      <td>...</td>\n      <td>-13.0</td>\n      <td>5.0</td>\n      <td>5.0</td>\n      <td>3.0</td>\n      <td>2.0</td>\n      <td>2.0</td>\n      <td>2.0</td>\n      <td>TCGA-A2-A0YM</td>\n      <td>3</td>\n      <td>Basal</td>\n    </tr>\n  </tbody>\n</table>\n<p>10 rows × 28 columns</p>\n</div>"
     },
     "execution_count": 365,
     "metadata": {},
     "output_type": "execute_result"
    }
   ],
   "source": [
    "patient.head(10)"
   ],
   "metadata": {
    "collapsed": false,
    "ExecuteTime": {
     "end_time": "2024-07-28T12:30:17.930841Z",
     "start_time": "2024-07-28T12:30:17.886874Z"
    }
   },
   "id": "e97318e7d99fdb89",
   "execution_count": 365
  },
  {
   "cell_type": "code",
   "outputs": [],
   "source": [
    "rppaEncoding = {\n",
    "    'Basal': 4,\n",
    "    'Her2': 3,\n",
    "    'LumA/B': 2,\n",
    "    'LumA': 1,\n",
    "    'ReacI': 2,\n",
    "    'ReacII': 2,\n",
    "    'X': 0\n",
    "}"
   ],
   "metadata": {
    "collapsed": false,
    "ExecuteTime": {
     "end_time": "2024-07-28T12:30:19.459121Z",
     "start_time": "2024-07-28T12:30:19.454675Z"
    }
   },
   "id": "f0a2befbc8e513f7",
   "execution_count": 366
  },
  {
   "cell_type": "code",
   "outputs": [],
   "source": [
    "patient['RPPA Clusters']=patient['RPPA Clusters'].map(rppaEncoding)"
   ],
   "metadata": {
    "collapsed": false,
    "ExecuteTime": {
     "end_time": "2024-07-28T12:30:22.648425Z",
     "start_time": "2024-07-28T12:30:22.642317Z"
    }
   },
   "id": "bff5d047eea81eb2",
   "execution_count": 367
  },
  {
   "cell_type": "code",
   "outputs": [
    {
     "data": {
      "text/plain": "   Age at Initial Pathologic Diagnosis  ER Status  PR Status  \\\n0                                 66.0        0.0        0.0   \n1                                 40.0        0.0        0.0   \n2                                 48.0        0.0        0.0   \n3                                 56.0        0.0        0.0   \n4                                 38.0        0.0        0.0   \n5                                 57.0        0.0        0.0   \n6                                 74.0        0.0        0.0   \n7                                 60.0        0.0        0.0   \n8                                 61.0        0.0        0.0   \n9                                 67.0        0.0        0.0   \n\n   HER2 Final Status  Tumor  Tumor--T1 Coded  Node  Node-Coded  Metastasis  \\\n0                0.0    2.0              1.0   3.0         1.0         1.0   \n1                0.0    1.0              1.0   0.0         0.0         0.0   \n2                0.0    1.0              1.0   1.0         1.0         0.0   \n3                0.0    1.0              1.0   1.0         1.0         0.0   \n4                0.0    2.0              1.0   3.0         1.0         0.0   \n5                0.0    1.0              1.0   0.0         0.0         0.0   \n6                0.0    2.0              1.0   0.0         0.0         0.0   \n7                0.0    1.0              1.0   0.0         0.0         0.0   \n8                0.0    1.0              1.0   0.0         0.0         0.0   \n9                0.0    1.0              1.0   0.0         0.0         0.0   \n\n   AJCC Stage  ...  SigClust Intrinsic mRNA  miRNA Clusters  \\\n0        10.0  ...                    -13.0             3.0   \n1         3.0  ...                    -13.0             4.0   \n2         4.0  ...                    -13.0             5.0   \n3         4.0  ...                    -13.0             5.0   \n4         8.0  ...                    -13.0             5.0   \n5         3.0  ...                    -13.0             5.0   \n6         4.0  ...                    -13.0             3.0   \n7         3.0  ...                    -13.0             5.0   \n8         3.0  ...                    -13.0             2.0   \n9         3.0  ...                    -13.0             5.0   \n\n   methylation Clusters  CN Clusters  Integrated Clusters (with PAM50)  \\\n0                   5.0          3.0                               2.0   \n1                   4.0          4.0                               2.0   \n2                   5.0          1.0                               2.0   \n3                   5.0          1.0                               2.0   \n4                   5.0          1.0                               2.0   \n5                   5.0          1.0                               2.0   \n6                   5.0          1.0                               2.0   \n7                   5.0          1.0                               2.0   \n8                   5.0          1.0                               2.0   \n9                   5.0          3.0                               2.0   \n\n   Integrated Clusters (no exp)  Integrated Clusters (unsup exp)  \\\n0                           2.0                              2.0   \n1                           1.0                              1.0   \n2                           2.0                              2.0   \n3                           2.0                              2.0   \n4                           2.0                              2.0   \n5                           2.0                              2.0   \n6                           2.0                              2.0   \n7                           2.0                              2.0   \n8                           2.0                              2.0   \n9                           2.0                              2.0   \n\n   Complete TCGA ID  PAM50 mRNA  RPPA Clusters  \n0      TCGA-A2-A0T2           3              4  \n1      TCGA-A2-A0CM           3              4  \n2      TCGA-BH-A18V           3              4  \n3      TCGA-BH-A18Q           3              4  \n4      TCGA-BH-A0E0           3              4  \n5      TCGA-A7-A0CE           3              4  \n6      TCGA-D8-A142           3              0  \n7      TCGA-A2-A0D0           3              4  \n8      TCGA-AO-A0J6           3              4  \n9      TCGA-A2-A0YM           3              4  \n\n[10 rows x 28 columns]",
      "text/html": "<div>\n<style scoped>\n    .dataframe tbody tr th:only-of-type {\n        vertical-align: middle;\n    }\n\n    .dataframe tbody tr th {\n        vertical-align: top;\n    }\n\n    .dataframe thead th {\n        text-align: right;\n    }\n</style>\n<table border=\"1\" class=\"dataframe\">\n  <thead>\n    <tr style=\"text-align: right;\">\n      <th></th>\n      <th>Age at Initial Pathologic Diagnosis</th>\n      <th>ER Status</th>\n      <th>PR Status</th>\n      <th>HER2 Final Status</th>\n      <th>Tumor</th>\n      <th>Tumor--T1 Coded</th>\n      <th>Node</th>\n      <th>Node-Coded</th>\n      <th>Metastasis</th>\n      <th>AJCC Stage</th>\n      <th>...</th>\n      <th>SigClust Intrinsic mRNA</th>\n      <th>miRNA Clusters</th>\n      <th>methylation Clusters</th>\n      <th>CN Clusters</th>\n      <th>Integrated Clusters (with PAM50)</th>\n      <th>Integrated Clusters (no exp)</th>\n      <th>Integrated Clusters (unsup exp)</th>\n      <th>Complete TCGA ID</th>\n      <th>PAM50 mRNA</th>\n      <th>RPPA Clusters</th>\n    </tr>\n  </thead>\n  <tbody>\n    <tr>\n      <th>0</th>\n      <td>66.0</td>\n      <td>0.0</td>\n      <td>0.0</td>\n      <td>0.0</td>\n      <td>2.0</td>\n      <td>1.0</td>\n      <td>3.0</td>\n      <td>1.0</td>\n      <td>1.0</td>\n      <td>10.0</td>\n      <td>...</td>\n      <td>-13.0</td>\n      <td>3.0</td>\n      <td>5.0</td>\n      <td>3.0</td>\n      <td>2.0</td>\n      <td>2.0</td>\n      <td>2.0</td>\n      <td>TCGA-A2-A0T2</td>\n      <td>3</td>\n      <td>4</td>\n    </tr>\n    <tr>\n      <th>1</th>\n      <td>40.0</td>\n      <td>0.0</td>\n      <td>0.0</td>\n      <td>0.0</td>\n      <td>1.0</td>\n      <td>1.0</td>\n      <td>0.0</td>\n      <td>0.0</td>\n      <td>0.0</td>\n      <td>3.0</td>\n      <td>...</td>\n      <td>-13.0</td>\n      <td>4.0</td>\n      <td>4.0</td>\n      <td>4.0</td>\n      <td>2.0</td>\n      <td>1.0</td>\n      <td>1.0</td>\n      <td>TCGA-A2-A0CM</td>\n      <td>3</td>\n      <td>4</td>\n    </tr>\n    <tr>\n      <th>2</th>\n      <td>48.0</td>\n      <td>0.0</td>\n      <td>0.0</td>\n      <td>0.0</td>\n      <td>1.0</td>\n      <td>1.0</td>\n      <td>1.0</td>\n      <td>1.0</td>\n      <td>0.0</td>\n      <td>4.0</td>\n      <td>...</td>\n      <td>-13.0</td>\n      <td>5.0</td>\n      <td>5.0</td>\n      <td>1.0</td>\n      <td>2.0</td>\n      <td>2.0</td>\n      <td>2.0</td>\n      <td>TCGA-BH-A18V</td>\n      <td>3</td>\n      <td>4</td>\n    </tr>\n    <tr>\n      <th>3</th>\n      <td>56.0</td>\n      <td>0.0</td>\n      <td>0.0</td>\n      <td>0.0</td>\n      <td>1.0</td>\n      <td>1.0</td>\n      <td>1.0</td>\n      <td>1.0</td>\n      <td>0.0</td>\n      <td>4.0</td>\n      <td>...</td>\n      <td>-13.0</td>\n      <td>5.0</td>\n      <td>5.0</td>\n      <td>1.0</td>\n      <td>2.0</td>\n      <td>2.0</td>\n      <td>2.0</td>\n      <td>TCGA-BH-A18Q</td>\n      <td>3</td>\n      <td>4</td>\n    </tr>\n    <tr>\n      <th>4</th>\n      <td>38.0</td>\n      <td>0.0</td>\n      <td>0.0</td>\n      <td>0.0</td>\n      <td>2.0</td>\n      <td>1.0</td>\n      <td>3.0</td>\n      <td>1.0</td>\n      <td>0.0</td>\n      <td>8.0</td>\n      <td>...</td>\n      <td>-13.0</td>\n      <td>5.0</td>\n      <td>5.0</td>\n      <td>1.0</td>\n      <td>2.0</td>\n      <td>2.0</td>\n      <td>2.0</td>\n      <td>TCGA-BH-A0E0</td>\n      <td>3</td>\n      <td>4</td>\n    </tr>\n    <tr>\n      <th>5</th>\n      <td>57.0</td>\n      <td>0.0</td>\n      <td>0.0</td>\n      <td>0.0</td>\n      <td>1.0</td>\n      <td>1.0</td>\n      <td>0.0</td>\n      <td>0.0</td>\n      <td>0.0</td>\n      <td>3.0</td>\n      <td>...</td>\n      <td>-13.0</td>\n      <td>5.0</td>\n      <td>5.0</td>\n      <td>1.0</td>\n      <td>2.0</td>\n      <td>2.0</td>\n      <td>2.0</td>\n      <td>TCGA-A7-A0CE</td>\n      <td>3</td>\n      <td>4</td>\n    </tr>\n    <tr>\n      <th>6</th>\n      <td>74.0</td>\n      <td>0.0</td>\n      <td>0.0</td>\n      <td>0.0</td>\n      <td>2.0</td>\n      <td>1.0</td>\n      <td>0.0</td>\n      <td>0.0</td>\n      <td>0.0</td>\n      <td>4.0</td>\n      <td>...</td>\n      <td>-13.0</td>\n      <td>3.0</td>\n      <td>5.0</td>\n      <td>1.0</td>\n      <td>2.0</td>\n      <td>2.0</td>\n      <td>2.0</td>\n      <td>TCGA-D8-A142</td>\n      <td>3</td>\n      <td>0</td>\n    </tr>\n    <tr>\n      <th>7</th>\n      <td>60.0</td>\n      <td>0.0</td>\n      <td>0.0</td>\n      <td>0.0</td>\n      <td>1.0</td>\n      <td>1.0</td>\n      <td>0.0</td>\n      <td>0.0</td>\n      <td>0.0</td>\n      <td>3.0</td>\n      <td>...</td>\n      <td>-13.0</td>\n      <td>5.0</td>\n      <td>5.0</td>\n      <td>1.0</td>\n      <td>2.0</td>\n      <td>2.0</td>\n      <td>2.0</td>\n      <td>TCGA-A2-A0D0</td>\n      <td>3</td>\n      <td>4</td>\n    </tr>\n    <tr>\n      <th>8</th>\n      <td>61.0</td>\n      <td>0.0</td>\n      <td>0.0</td>\n      <td>0.0</td>\n      <td>1.0</td>\n      <td>1.0</td>\n      <td>0.0</td>\n      <td>0.0</td>\n      <td>0.0</td>\n      <td>3.0</td>\n      <td>...</td>\n      <td>-13.0</td>\n      <td>2.0</td>\n      <td>5.0</td>\n      <td>1.0</td>\n      <td>2.0</td>\n      <td>2.0</td>\n      <td>2.0</td>\n      <td>TCGA-AO-A0J6</td>\n      <td>3</td>\n      <td>4</td>\n    </tr>\n    <tr>\n      <th>9</th>\n      <td>67.0</td>\n      <td>0.0</td>\n      <td>0.0</td>\n      <td>0.0</td>\n      <td>1.0</td>\n      <td>1.0</td>\n      <td>0.0</td>\n      <td>0.0</td>\n      <td>0.0</td>\n      <td>3.0</td>\n      <td>...</td>\n      <td>-13.0</td>\n      <td>5.0</td>\n      <td>5.0</td>\n      <td>3.0</td>\n      <td>2.0</td>\n      <td>2.0</td>\n      <td>2.0</td>\n      <td>TCGA-A2-A0YM</td>\n      <td>3</td>\n      <td>4</td>\n    </tr>\n  </tbody>\n</table>\n<p>10 rows × 28 columns</p>\n</div>"
     },
     "execution_count": 368,
     "metadata": {},
     "output_type": "execute_result"
    }
   ],
   "source": [
    "patient.head(10)"
   ],
   "metadata": {
    "collapsed": false,
    "ExecuteTime": {
     "end_time": "2024-07-28T12:30:23.799724Z",
     "start_time": "2024-07-28T12:30:23.758666Z"
    }
   },
   "id": "2d4fb96f4345184d",
   "execution_count": 368
  },
  {
   "cell_type": "code",
   "outputs": [],
   "source": [
    "patient.to_csv('patient.csv')\n"
   ],
   "metadata": {
    "collapsed": false,
    "ExecuteTime": {
     "end_time": "2024-07-28T12:32:29.618288Z",
     "start_time": "2024-07-28T12:30:25.391841Z"
    }
   },
   "id": "693bae200b5ef6ee",
   "execution_count": 369
  },
  {
   "cell_type": "code",
   "outputs": [],
   "source": [
    "altered_patient=pd.read_csv(r\"C:\\Users\\sujal\\PycharmProjects\\KMeanNeighbourBreastCancer\\dataset\\altered_patient.csv\")"
   ],
   "metadata": {
    "collapsed": false,
    "ExecuteTime": {
     "end_time": "2024-07-28T12:32:29.641879Z",
     "start_time": "2024-07-28T12:32:29.621199Z"
    }
   },
   "id": "2f6f6f19a03d1724",
   "execution_count": 370
  },
  {
   "cell_type": "code",
   "outputs": [],
   "source": [],
   "metadata": {
    "collapsed": false,
    "ExecuteTime": {
     "end_time": "2024-07-28T12:32:29.650891Z",
     "start_time": "2024-07-28T12:32:29.644178Z"
    }
   },
   "id": "8555b7e97b34b1f",
   "execution_count": 371
  },
  {
   "cell_type": "code",
   "outputs": [],
   "source": [
    "altered_patient.to_csv(\"altered_patient2.csv\")"
   ],
   "metadata": {
    "collapsed": false,
    "ExecuteTime": {
     "end_time": "2024-07-28T12:32:29.663478Z",
     "start_time": "2024-07-28T12:32:29.653863Z"
    }
   },
   "id": "21e27345d0255807",
   "execution_count": 372
  },
  {
   "cell_type": "code",
   "outputs": [
    {
     "name": "stdout",
     "output_type": "stream",
     "text": [
      "<class 'pandas.core.frame.DataFrame'>\n",
      "Index: 77 entries, 1 to 104\n",
      "Data columns (total 29 columns):\n",
      " #   Column                               Non-Null Count  Dtype  \n",
      "---  ------                               --------------  -----  \n",
      " 0   Unnamed: 0                           77 non-null     int64  \n",
      " 1   Age at Initial Pathologic Diagnosis  77 non-null     float64\n",
      " 2   ER Status                            77 non-null     float64\n",
      " 3   PR Status                            77 non-null     float64\n",
      " 4   HER2 Final Status                    77 non-null     float64\n",
      " 5   Tumor                                77 non-null     float64\n",
      " 6   Tumor--T1 Coded                      77 non-null     float64\n",
      " 7   Node                                 77 non-null     float64\n",
      " 8   Node-Coded                           77 non-null     float64\n",
      " 9   Metastasis                           77 non-null     float64\n",
      " 10  AJCC Stage                           77 non-null     float64\n",
      " 11  Converted Stage                      77 non-null     float64\n",
      " 12  Survival Data Form                   77 non-null     float64\n",
      " 13  Vital Status                         77 non-null     float64\n",
      " 14  Days to Date of Last Contact         77 non-null     float64\n",
      " 15  Days to date of Death                77 non-null     float64\n",
      " 16  OS event                             77 non-null     float64\n",
      " 17  OS Time                              77 non-null     float64\n",
      " 18  SigClust Unsupervised mRNA           77 non-null     float64\n",
      " 19  SigClust Intrinsic mRNA              77 non-null     float64\n",
      " 20  miRNA Clusters                       77 non-null     float64\n",
      " 21  methylation Clusters                 77 non-null     float64\n",
      " 22  CN Clusters                          77 non-null     float64\n",
      " 23  Integrated Clusters (with PAM50)     77 non-null     float64\n",
      " 24  Integrated Clusters (no exp)         77 non-null     float64\n",
      " 25  Integrated Clusters (unsup exp)      77 non-null     float64\n",
      " 26  Complete TCGA ID                     77 non-null     object \n",
      " 27  PAM50 mRNA                           77 non-null     int64  \n",
      " 28  RPPA Clusters                        77 non-null     int64  \n",
      "dtypes: float64(25), int64(3), object(1)\n",
      "memory usage: 18.0+ KB\n"
     ]
    }
   ],
   "source": [
    "altered_patient.info()"
   ],
   "metadata": {
    "collapsed": false,
    "ExecuteTime": {
     "end_time": "2024-07-28T12:32:57.368773Z",
     "start_time": "2024-07-28T12:32:57.353090Z"
    }
   },
   "id": "2d50b1e1c3c25cd9",
   "execution_count": 374
  },
  {
   "cell_type": "code",
   "outputs": [],
   "source": [
    "patient.drop(columns=['Complete TCGA ID'],inplace=True)"
   ],
   "metadata": {
    "collapsed": false,
    "ExecuteTime": {
     "end_time": "2024-07-28T12:33:23.502424Z",
     "start_time": "2024-07-28T12:33:23.496189Z"
    }
   },
   "id": "aa7398cec4aa1efb",
   "execution_count": 375
  },
  {
   "cell_type": "code",
   "outputs": [
    {
     "name": "stdout",
     "output_type": "stream",
     "text": [
      "<class 'pandas.core.frame.DataFrame'>\n",
      "RangeIndex: 105 entries, 0 to 104\n",
      "Data columns (total 27 columns):\n",
      " #   Column                               Non-Null Count  Dtype  \n",
      "---  ------                               --------------  -----  \n",
      " 0   Age at Initial Pathologic Diagnosis  105 non-null    float64\n",
      " 1   ER Status                            105 non-null    float64\n",
      " 2   PR Status                            105 non-null    float64\n",
      " 3   HER2 Final Status                    105 non-null    float64\n",
      " 4   Tumor                                105 non-null    float64\n",
      " 5   Tumor--T1 Coded                      105 non-null    float64\n",
      " 6   Node                                 105 non-null    float64\n",
      " 7   Node-Coded                           105 non-null    float64\n",
      " 8   Metastasis                           105 non-null    float64\n",
      " 9   AJCC Stage                           105 non-null    float64\n",
      " 10  Converted Stage                      105 non-null    float64\n",
      " 11  Survival Data Form                   105 non-null    float64\n",
      " 12  Vital Status                         105 non-null    float64\n",
      " 13  Days to Date of Last Contact         105 non-null    float64\n",
      " 14  Days to date of Death                105 non-null    float64\n",
      " 15  OS event                             105 non-null    float64\n",
      " 16  OS Time                              105 non-null    float64\n",
      " 17  SigClust Unsupervised mRNA           105 non-null    float64\n",
      " 18  SigClust Intrinsic mRNA              105 non-null    float64\n",
      " 19  miRNA Clusters                       105 non-null    float64\n",
      " 20  methylation Clusters                 105 non-null    float64\n",
      " 21  CN Clusters                          105 non-null    float64\n",
      " 22  Integrated Clusters (with PAM50)     105 non-null    float64\n",
      " 23  Integrated Clusters (no exp)         105 non-null    float64\n",
      " 24  Integrated Clusters (unsup exp)      105 non-null    float64\n",
      " 25  PAM50 mRNA                           105 non-null    int64  \n",
      " 26  RPPA Clusters                        105 non-null    int64  \n",
      "dtypes: float64(25), int64(2)\n",
      "memory usage: 22.3 KB\n"
     ]
    }
   ],
   "source": [
    "patient.info()"
   ],
   "metadata": {
    "collapsed": false,
    "ExecuteTime": {
     "end_time": "2024-07-28T12:33:25.967232Z",
     "start_time": "2024-07-28T12:33:25.953056Z"
    }
   },
   "id": "a6e0197211a5a504",
   "execution_count": 376
  },
  {
   "cell_type": "code",
   "outputs": [
    {
     "data": {
      "text/plain": "<Figure size 640x480 with 1 Axes>",
      "image/png": "[encoded data removed]"
     },
     "metadata": {},
     "output_type": "display_data"
    }
   ],
   "source": [
    "from sklearn.cluster import KMeans\n",
    "wcss=[]\n",
    "for i in range(1, 11):\n",
    "    kmeans = KMeans(n_clusters=i, init='k-means++', random_state=42)\n",
    "    kmeans.fit(patient)\n",
    "    wcss.append(kmeans.inertia_)\n",
    "\n",
    "plt.plot(range(1, 11), wcss)\n",
    "plt.title('Elbow Method')\n",
    "plt.xlabel('Number of clusters')\n",
    "plt.ylabel('WCSS')\n",
    "plt.show()"
   ],
   "metadata": {
    "collapsed": false,
    "ExecuteTime": {
     "end_time": "2024-07-28T12:38:59.424372Z",
     "start_time": "2024-07-28T12:38:56.816339Z"
    }
   },
   "id": "e3c8e87a8aef3074",
   "execution_count": 377
  },
  {
   "cell_type": "code",
   "outputs": [
    {
     "data": {
      "text/plain": "   Age at Initial Pathologic Diagnosis  ER Status  PR Status  \\\n0                                 66.0        0.0        0.0   \n1                                 40.0        0.0        0.0   \n2                                 48.0        0.0        0.0   \n3                                 56.0        0.0        0.0   \n4                                 38.0        0.0        0.0   \n\n   HER2 Final Status  Tumor  Tumor--T1 Coded  Node  Node-Coded  Metastasis  \\\n0                0.0    2.0              1.0   3.0         1.0         1.0   \n1                0.0    1.0              1.0   0.0         0.0         0.0   \n2                0.0    1.0              1.0   1.0         1.0         0.0   \n3                0.0    1.0              1.0   1.0         1.0         0.0   \n4                0.0    2.0              1.0   3.0         1.0         0.0   \n\n   AJCC Stage  ...  SigClust Unsupervised mRNA  SigClust Intrinsic mRNA  \\\n0        10.0  ...                         0.0                    -13.0   \n1         3.0  ...                       -12.0                    -13.0   \n2         4.0  ...                       -12.0                    -13.0   \n3         4.0  ...                       -12.0                    -13.0   \n4         8.0  ...                         0.0                    -13.0   \n\n   miRNA Clusters  methylation Clusters  CN Clusters  \\\n0             3.0                   5.0          3.0   \n1             4.0                   4.0          4.0   \n2             5.0                   5.0          1.0   \n3             5.0                   5.0          1.0   \n4             5.0                   5.0          1.0   \n\n   Integrated Clusters (with PAM50)  Integrated Clusters (no exp)  \\\n0                               2.0                           2.0   \n1                               2.0                           1.0   \n2                               2.0                           2.0   \n3                               2.0                           2.0   \n4                               2.0                           2.0   \n\n   Integrated Clusters (unsup exp)  PAM50 mRNA  RPPA Clusters  \n0                              2.0           3              4  \n1                              1.0           3              4  \n2                              2.0           3              4  \n3                              2.0           3              4  \n4                              2.0           3              4  \n\n[5 rows x 27 columns]",
      "text/html": "<div>\n<style scoped>\n    .dataframe tbody tr th:only-of-type {\n        vertical-align: middle;\n    }\n\n    .dataframe tbody tr th {\n        vertical-align: top;\n    }\n\n    .dataframe thead th {\n        text-align: right;\n    }\n</style>\n<table border=\"1\" class=\"dataframe\">\n  <thead>\n    <tr style=\"text-align: right;\">\n      <th></th>\n      <th>Age at Initial Pathologic Diagnosis</th>\n      <th>ER Status</th>\n      <th>PR Status</th>\n      <th>HER2 Final Status</th>\n      <th>Tumor</th>\n      <th>Tumor--T1 Coded</th>\n      <th>Node</th>\n      <th>Node-Coded</th>\n      <th>Metastasis</th>\n      <th>AJCC Stage</th>\n      <th>...</th>\n      <th>SigClust Unsupervised mRNA</th>\n      <th>SigClust Intrinsic mRNA</th>\n      <th>miRNA Clusters</th>\n      <th>methylation Clusters</th>\n      <th>CN Clusters</th>\n      <th>Integrated Clusters (with PAM50)</th>\n      <th>Integrated Clusters (no exp)</th>\n      <th>Integrated Clusters (unsup exp)</th>\n      <th>PAM50 mRNA</th>\n      <th>RPPA Clusters</th>\n    </tr>\n  </thead>\n  <tbody>\n    <tr>\n      <th>0</th>\n      <td>66.0</td>\n      <td>0.0</td>\n      <td>0.0</td>\n      <td>0.0</td>\n      <td>2.0</td>\n      <td>1.0</td>\n      <td>3.0</td>\n      <td>1.0</td>\n      <td>1.0</td>\n      <td>10.0</td>\n      <td>...</td>\n      <td>0.0</td>\n      <td>-13.0</td>\n      <td>3.0</td>\n      <td>5.0</td>\n      <td>3.0</td>\n      <td>2.0</td>\n      <td>2.0</td>\n      <td>2.0</td>\n      <td>3</td>\n      <td>4</td>\n    </tr>\n    <tr>\n      <th>1</th>\n      <td>40.0</td>\n      <td>0.0</td>\n      <td>0.0</td>\n      <td>0.0</td>\n      <td>1.0</td>\n      <td>1.0</td>\n      <td>0.0</td>\n      <td>0.0</td>\n      <td>0.0</td>\n      <td>3.0</td>\n      <td>...</td>\n      <td>-12.0</td>\n      <td>-13.0</td>\n      <td>4.0</td>\n      <td>4.0</td>\n      <td>4.0</td>\n      <td>2.0</td>\n      <td>1.0</td>\n      <td>1.0</td>\n      <td>3</td>\n      <td>4</td>\n    </tr>\n    <tr>\n      <th>2</th>\n      <td>48.0</td>\n      <td>0.0</td>\n      <td>0.0</td>\n      <td>0.0</td>\n      <td>1.0</td>\n      <td>1.0</td>\n      <td>1.0</td>\n      <td>1.0</td>\n      <td>0.0</td>\n      <td>4.0</td>\n      <td>...</td>\n      <td>-12.0</td>\n      <td>-13.0</td>\n      <td>5.0</td>\n      <td>5.0</td>\n      <td>1.0</td>\n      <td>2.0</td>\n      <td>2.0</td>\n      <td>2.0</td>\n      <td>3</td>\n      <td>4</td>\n    </tr>\n    <tr>\n      <th>3</th>\n      <td>56.0</td>\n      <td>0.0</td>\n      <td>0.0</td>\n      <td>0.0</td>\n      <td>1.0</td>\n      <td>1.0</td>\n      <td>1.0</td>\n      <td>1.0</td>\n      <td>0.0</td>\n      <td>4.0</td>\n      <td>...</td>\n      <td>-12.0</td>\n      <td>-13.0</td>\n      <td>5.0</td>\n      <td>5.0</td>\n      <td>1.0</td>\n      <td>2.0</td>\n      <td>2.0</td>\n      <td>2.0</td>\n      <td>3</td>\n      <td>4</td>\n    </tr>\n    <tr>\n      <th>4</th>\n      <td>38.0</td>\n      <td>0.0</td>\n      <td>0.0</td>\n      <td>0.0</td>\n      <td>2.0</td>\n      <td>1.0</td>\n      <td>3.0</td>\n      <td>1.0</td>\n      <td>0.0</td>\n      <td>8.0</td>\n      <td>...</td>\n      <td>0.0</td>\n      <td>-13.0</td>\n      <td>5.0</td>\n      <td>5.0</td>\n      <td>1.0</td>\n      <td>2.0</td>\n      <td>2.0</td>\n      <td>2.0</td>\n      <td>3</td>\n      <td>4</td>\n    </tr>\n  </tbody>\n</table>\n<p>5 rows × 27 columns</p>\n</div>"
     },
     "execution_count": 378,
     "metadata": {},
     "output_type": "execute_result"
    }
   ],
   "source": [
    "patient.head()"
   ],
   "metadata": {
    "collapsed": false,
    "ExecuteTime": {
     "end_time": "2024-07-28T12:48:26.568982Z",
     "start_time": "2024-07-28T12:48:26.532374Z"
    }
   },
   "id": "efc0b0caa5618f12",
   "execution_count": 378
  },
  {
   "cell_type": "code",
   "outputs": [],
   "source": [
    "X=patient[['Age at Initial Pathologic Diagnosis','ER Status','PR Status',\"HER2 Final Status\",\"Tumor\",\"Tumor--T1 Coded\",\"Node\",\"Node-Coded\",\"Metastasis\",\"Converted Stage\",\"Survival Data Form\",\"Vital Status\",\"Days to date of Death\",\"Days to Date of Last Contact\",\"PAM50 mRNA\",\"OS Time\",\"SigClust Unsupervised mRNA\",\"SigClust Intrinsic mRNA\",\"miRNA Clusters\",\"methylation Clusters\",\"CN Clusters\",\"Integrated Clusters (no exp)\",\"Integrated Clusters (unsup exp)\",\"Integrated Clusters (with PAM50)\",\"RPPA Clusters\"]]\n",
    "y=patient[\"OS event\"]"
   ],
   "metadata": {
    "collapsed": false,
    "ExecuteTime": {
     "end_time": "2024-07-28T13:07:41.851101Z",
     "start_time": "2024-07-28T13:07:41.844267Z"
    }
   },
   "id": "84a507ff12bb6db5",
   "execution_count": 429
  },
  {
   "cell_type": "code",
   "outputs": [],
   "source": [
    "from sklearn.model_selection import train_test_split\n",
    "from sklearn.neighbors import KNeighborsClassifier\n",
    "from sklearn.metrics import accuracy_score"
   ],
   "metadata": {
    "collapsed": false,
    "ExecuteTime": {
     "end_time": "2024-07-28T13:07:43.739630Z",
     "start_time": "2024-07-28T13:07:43.733598Z"
    }
   },
   "id": "e990978c8ef2278a",
   "execution_count": 430
  },
  {
   "cell_type": "code",
   "outputs": [],
   "source": [
    "X_train, X_test, y_train, y_test = train_test_split(X, y, test_size=0.2, \n",
    " random_state=42)"
   ],
   "metadata": {
    "collapsed": false,
    "ExecuteTime": {
     "end_time": "2024-07-28T13:07:46.414356Z",
     "start_time": "2024-07-28T13:07:46.405286Z"
    }
   },
   "id": "7f90cb8a28b2e076",
   "execution_count": 431
  },
  {
   "cell_type": "code",
   "outputs": [],
   "source": [
    "knn = KNeighborsClassifier(n_neighbors=4)"
   ],
   "metadata": {
    "collapsed": false,
    "ExecuteTime": {
     "end_time": "2024-07-28T13:08:11.668697Z",
     "start_time": "2024-07-28T13:08:11.662696Z"
    }
   },
   "id": "acb5f8469f091c5f",
   "execution_count": 440
  },
  {
   "cell_type": "code",
   "outputs": [
    {
     "data": {
      "text/plain": "KNeighborsClassifier(n_neighbors=4)",
      "text/html": "<style>#sk-container-id-14 {\n  /* Definition of color scheme common for light and dark mode */\n  --sklearn-color-text: black;\n  --sklearn-color-line: gray;\n  /* Definition of color scheme for unfitted estimators */\n  --sklearn-color-unfitted-level-0: #fff5e6;\n  --sklearn-color-unfitted-level-1: #f6e4d2;\n  --sklearn-color-unfitted-level-2: #ffe0b3;\n  --sklearn-color-unfitted-level-3: chocolate;\n  /* Definition of color scheme for fitted estimators */\n  --sklearn-color-fitted-level-0: #f0f8ff;\n  --sklearn-color-fitted-level-1: #d4ebff;\n  --sklearn-color-fitted-level-2: #b3dbfd;\n  --sklearn-color-fitted-level-3: cornflowerblue;\n\n  /* Specific color for light theme */\n  --sklearn-color-text-on-default-background: var(--sg-text-color, var(--theme-code-foreground, var(--jp-content-font-color1, black)));\n  --sklearn-color-background: var(--sg-background-color, var(--theme-background, var(--jp-layout-color0, white)));\n  --sklearn-color-border-box: var(--sg-text-color, var(--theme-code-foreground, var(--jp-content-font-color1, black)));\n  --sklearn-color-icon: #696969;\n\n  @media (prefers-color-scheme: dark) {\n    /* Redefinition of color scheme for dark theme */\n    --sklearn-color-text-on-default-background: var(--sg-text-color, var(--theme-code-foreground, var(--jp-content-font-color1, white)));\n    --sklearn-color-background: var(--sg-background-color, var(--theme-background, var(--jp-layout-color0, #111)));\n    --sklearn-color-border-box: var(--sg-text-color, var(--theme-code-foreground, var(--jp-content-font-color1, white)));\n    --sklearn-color-icon: #878787;\n  }\n}\n\n#sk-container-id-14 {\n  color: var(--sklearn-color-text);\n}\n\n#sk-container-id-14 pre {\n  padding: 0;\n}\n\n#sk-container-id-14 input.sk-hidden--visually {\n  border: 0;\n  clip: rect(1px 1px 1px 1px);\n  clip: rect(1px, 1px, 1px, 1px);\n  height: 1px;\n  margin: -1px;\n  overflow: hidden;\n  padding: 0;\n  position: absolute;\n  width: 1px;\n}\n\n#sk-container-id-14 div.sk-dashed-wrapped {\n  border: 1px dashed var(--sklearn-color-line);\n  margin: 0 0.4em 0.5em 0.4em;\n  box-sizing: border-box;\n  padding-bottom: 0.4em;\n  background-color: var(--sklearn-color-background);\n}\n\n#sk-container-id-14 div.sk-container {\n  /* jupyter's `normalize.less` sets `[hidden] { display: none; }`\n     but bootstrap.min.css set `[hidden] { display: none !important; }`\n     so we also need the `!important` here to be able to override the\n     default hidden behavior on the sphinx rendered scikit-learn.org.\n     See: https://github.com/scikit-learn/scikit-learn/issues/21755 */\n  display: inline-block !important;\n  position: relative;\n}\n\n#sk-container-id-14 div.sk-text-repr-fallback {\n  display: none;\n}\n\ndiv.sk-parallel-item,\ndiv.sk-serial,\ndiv.sk-item {\n  /* draw centered vertical line to link estimators */\n  background-image: linear-gradient(var(--sklearn-color-text-on-default-background), var(--sklearn-color-text-on-default-background));\n  background-size: 2px 100%;\n  background-repeat: no-repeat;\n  background-position: center center;\n}\n\n/* Parallel-specific style estimator block */\n\n#sk-container-id-14 div.sk-parallel-item::after {\n  content: \"\";\n  width: 100%;\n  border-bottom: 2px solid var(--sklearn-color-text-on-default-background);\n  flex-grow: 1;\n}\n\n#sk-container-id-14 div.sk-parallel {\n  display: flex;\n  align-items: stretch;\n  justify-content: center;\n  background-color: var(--sklearn-color-background);\n  position: relative;\n}\n\n#sk-container-id-14 div.sk-parallel-item {\n  display: flex;\n  flex-direction: column;\n}\n\n#sk-container-id-14 div.sk-parallel-item:first-child::after {\n  align-self: flex-end;\n  width: 50%;\n}\n\n#sk-container-id-14 div.sk-parallel-item:last-child::after {\n  align-self: flex-start;\n  width: 50%;\n}\n\n#sk-container-id-14 div.sk-parallel-item:only-child::after {\n  width: 0;\n}\n\n/* Serial-specific style estimator block */\n\n#sk-container-id-14 div.sk-serial {\n  display: flex;\n  flex-direction: column;\n  align-items: center;\n  background-color: var(--sklearn-color-background);\n  padding-right: 1em;\n  padding-left: 1em;\n}\n\n\n/* Toggleable style: style used for estimator/Pipeline/ColumnTransformer box that is\nclickable and can be expanded/collapsed.\n- Pipeline and ColumnTransformer use this feature and define the default style\n- Estimators will overwrite some part of the style using the `sk-estimator` class\n*/\n\n/* Pipeline and ColumnTransformer style (default) */\n\n#sk-container-id-14 div.sk-toggleable {\n  /* Default theme specific background. It is overwritten whether we have a\n  specific estimator or a Pipeline/ColumnTransformer */\n  background-color: var(--sklearn-color-background);\n}\n\n/* Toggleable label */\n#sk-container-id-14 label.sk-toggleable__label {\n  cursor: pointer;\n  display: block;\n  width: 100%;\n  margin-bottom: 0;\n  padding: 0.5em;\n  box-sizing: border-box;\n  text-align: center;\n}\n\n#sk-container-id-14 label.sk-toggleable__label-arrow:before {\n  /* Arrow on the left of the label */\n  content: \"▸\";\n  float: left;\n  margin-right: 0.25em;\n  color: var(--sklearn-color-icon);\n}\n\n#sk-container-id-14 label.sk-toggleable__label-arrow:hover:before {\n  color: var(--sklearn-color-text);\n}\n\n/* Toggleable content - dropdown */\n\n#sk-container-id-14 div.sk-toggleable__content {\n  max-height: 0;\n  max-width: 0;\n  overflow: hidden;\n  text-align: left;\n  /* unfitted */\n  background-color: var(--sklearn-color-unfitted-level-0);\n}\n\n#sk-container-id-14 div.sk-toggleable__content.fitted {\n  /* fitted */\n  background-color: var(--sklearn-color-fitted-level-0);\n}\n\n#sk-container-id-14 div.sk-toggleable__content pre {\n  margin: 0.2em;\n  border-radius: 0.25em;\n  color: var(--sklearn-color-text);\n  /* unfitted */\n  background-color: var(--sklearn-color-unfitted-level-0);\n}\n\n#sk-container-id-14 div.sk-toggleable__content.fitted pre {\n  /* unfitted */\n  background-color: var(--sklearn-color-fitted-level-0);\n}\n\n#sk-container-id-14 input.sk-toggleable__control:checked~div.sk-toggleable__content {\n  /* Expand drop-down */\n  max-height: 200px;\n  max-width: 100%;\n  overflow: auto;\n}\n\n#sk-container-id-14 input.sk-toggleable__control:checked~label.sk-toggleable__label-arrow:before {\n  content: \"▾\";\n}\n\n/* Pipeline/ColumnTransformer-specific style */\n\n#sk-container-id-14 div.sk-label input.sk-toggleable__control:checked~label.sk-toggleable__label {\n  color: var(--sklearn-color-text);\n  background-color: var(--sklearn-color-unfitted-level-2);\n}\n\n#sk-container-id-14 div.sk-label.fitted input.sk-toggleable__control:checked~label.sk-toggleable__label {\n  background-color: var(--sklearn-color-fitted-level-2);\n}\n\n/* Estimator-specific style */\n\n/* Colorize estimator box */\n#sk-container-id-14 div.sk-estimator input.sk-toggleable__control:checked~label.sk-toggleable__label {\n  /* unfitted */\n  background-color: var(--sklearn-color-unfitted-level-2);\n}\n\n#sk-container-id-14 div.sk-estimator.fitted input.sk-toggleable__control:checked~label.sk-toggleable__label {\n  /* fitted */\n  background-color: var(--sklearn-color-fitted-level-2);\n}\n\n#sk-container-id-14 div.sk-label label.sk-toggleable__label,\n#sk-container-id-14 div.sk-label label {\n  /* The background is the default theme color */\n  color: var(--sklearn-color-text-on-default-background);\n}\n\n/* On hover, darken the color of the background */\n#sk-container-id-14 div.sk-label:hover label.sk-toggleable__label {\n  color: var(--sklearn-color-text);\n  background-color: var(--sklearn-color-unfitted-level-2);\n}\n\n/* Label box, darken color on hover, fitted */\n#sk-container-id-14 div.sk-label.fitted:hover label.sk-toggleable__label.fitted {\n  color: var(--sklearn-color-text);\n  background-color: var(--sklearn-color-fitted-level-2);\n}\n\n/* Estimator label */\n\n#sk-container-id-14 div.sk-label label {\n  font-family: monospace;\n  font-weight: bold;\n  display: inline-block;\n  line-height: 1.2em;\n}\n\n#sk-container-id-14 div.sk-label-container {\n  text-align: center;\n}\n\n/* Estimator-specific */\n#sk-container-id-14 div.sk-estimator {\n  font-family: monospace;\n  border: 1px dotted var(--sklearn-color-border-box);\n  border-radius: 0.25em;\n  box-sizing: border-box;\n  margin-bottom: 0.5em;\n  /* unfitted */\n  background-color: var(--sklearn-color-unfitted-level-0);\n}\n\n#sk-container-id-14 div.sk-estimator.fitted {\n  /* fitted */\n  background-color: var(--sklearn-color-fitted-level-0);\n}\n\n/* on hover */\n#sk-container-id-14 div.sk-estimator:hover {\n  /* unfitted */\n  background-color: var(--sklearn-color-unfitted-level-2);\n}\n\n#sk-container-id-14 div.sk-estimator.fitted:hover {\n  /* fitted */\n  background-color: var(--sklearn-color-fitted-level-2);\n}\n\n/* Specification for estimator info (e.g. \"i\" and \"?\") */\n\n/* Common style for \"i\" and \"?\" */\n\n.sk-estimator-doc-link,\na:link.sk-estimator-doc-link,\na:visited.sk-estimator-doc-link {\n  float: right;\n  font-size: smaller;\n  line-height: 1em;\n  font-family: monospace;\n  background-color: var(--sklearn-color-background);\n  border-radius: 1em;\n  height: 1em;\n  width: 1em;\n  text-decoration: none !important;\n  margin-left: 1ex;\n  /* unfitted */\n  border: var(--sklearn-color-unfitted-level-1) 1pt solid;\n  color: var(--sklearn-color-unfitted-level-1);\n}\n\n.sk-estimator-doc-link.fitted,\na:link.sk-estimator-doc-link.fitted,\na:visited.sk-estimator-doc-link.fitted {\n  /* fitted */\n  border: var(--sklearn-color-fitted-level-1) 1pt solid;\n  color: var(--sklearn-color-fitted-level-1);\n}\n\n/* On hover */\ndiv.sk-estimator:hover .sk-estimator-doc-link:hover,\n.sk-estimator-doc-link:hover,\ndiv.sk-label-container:hover .sk-estimator-doc-link:hover,\n.sk-estimator-doc-link:hover {\n  /* unfitted */\n  background-color: var(--sklearn-color-unfitted-level-3);\n  color: var(--sklearn-color-background);\n  text-decoration: none;\n}\n\ndiv.sk-estimator.fitted:hover .sk-estimator-doc-link.fitted:hover,\n.sk-estimator-doc-link.fitted:hover,\ndiv.sk-label-container:hover .sk-estimator-doc-link.fitted:hover,\n.sk-estimator-doc-link.fitted:hover {\n  /* fitted */\n  background-color: var(--sklearn-color-fitted-level-3);\n  color: var(--sklearn-color-background);\n  text-decoration: none;\n}\n\n/* Span, style for the box shown on hovering the info icon */\n.sk-estimator-doc-link span {\n  display: none;\n  z-index: 9999;\n  position: relative;\n  font-weight: normal;\n  right: .2ex;\n  padding: .5ex;\n  margin: .5ex;\n  width: min-content;\n  min-width: 20ex;\n  max-width: 50ex;\n  color: var(--sklearn-color-text);\n  box-shadow: 2pt 2pt 4pt #999;\n  /* unfitted */\n  background: var(--sklearn-color-unfitted-level-0);\n  border: .5pt solid var(--sklearn-color-unfitted-level-3);\n}\n\n.sk-estimator-doc-link.fitted span {\n  /* fitted */\n  background: var(--sklearn-color-fitted-level-0);\n  border: var(--sklearn-color-fitted-level-3);\n}\n\n.sk-estimator-doc-link:hover span {\n  display: block;\n}\n\n/* \"?\"-specific style due to the `<a>` HTML tag */\n\n#sk-container-id-14 a.estimator_doc_link {\n  float: right;\n  font-size: 1rem;\n  line-height: 1em;\n  font-family: monospace;\n  background-color: var(--sklearn-color-background);\n  border-radius: 1rem;\n  height: 1rem;\n  width: 1rem;\n  text-decoration: none;\n  /* unfitted */\n  color: var(--sklearn-color-unfitted-level-1);\n  border: var(--sklearn-color-unfitted-level-1) 1pt solid;\n}\n\n#sk-container-id-14 a.estimator_doc_link.fitted {\n  /* fitted */\n  border: var(--sklearn-color-fitted-level-1) 1pt solid;\n  color: var(--sklearn-color-fitted-level-1);\n}\n\n/* On hover */\n#sk-container-id-14 a.estimator_doc_link:hover {\n  /* unfitted */\n  background-color: var(--sklearn-color-unfitted-level-3);\n  color: var(--sklearn-color-background);\n  text-decoration: none;\n}\n\n#sk-container-id-14 a.estimator_doc_link.fitted:hover {\n  /* fitted */\n  background-color: var(--sklearn-color-fitted-level-3);\n}\n</style><div id=\"sk-container-id-14\" class=\"sk-top-container\"><div class=\"sk-text-repr-fallback\"><pre>KNeighborsClassifier(n_neighbors=4)</pre><b>In a Jupyter environment, please rerun this cell to show the HTML representation or trust the notebook. <br />On GitHub, the HTML representation is unable to render, please try loading this page with nbviewer.org.</b></div><div class=\"sk-container\" hidden><div class=\"sk-item\"><div class=\"sk-estimator fitted sk-toggleable\"><input class=\"sk-toggleable__control sk-hidden--visually\" id=\"sk-estimator-id-14\" type=\"checkbox\" checked><label for=\"sk-estimator-id-14\" class=\"sk-toggleable__label fitted sk-toggleable__label-arrow fitted\">&nbsp;&nbsp;KNeighborsClassifier<a class=\"sk-estimator-doc-link fitted\" rel=\"noreferrer\" target=\"_blank\" href=\"https://scikit-learn.org/1.5/modules/generated/sklearn.neighbors.KNeighborsClassifier.html\">?<span>Documentation for KNeighborsClassifier</span></a><span class=\"sk-estimator-doc-link fitted\">i<span>Fitted</span></span></label><div class=\"sk-toggleable__content fitted\"><pre>KNeighborsClassifier(n_neighbors=4)</pre></div> </div></div></div></div>"
     },
     "execution_count": 441,
     "metadata": {},
     "output_type": "execute_result"
    }
   ],
   "source": [
    "knn.fit(X_train, y_train)"
   ],
   "metadata": {
    "collapsed": false,
    "ExecuteTime": {
     "end_time": "2024-07-28T13:08:12.987979Z",
     "start_time": "2024-07-28T13:08:12.975209Z"
    }
   },
   "id": "7fd66729baf2fe67",
   "execution_count": 441
  },
  {
   "cell_type": "code",
   "outputs": [],
   "source": [
    "y_predicted = knn.predict(X_test)"
   ],
   "metadata": {
    "collapsed": false,
    "ExecuteTime": {
     "end_time": "2024-07-28T13:08:13.246763Z",
     "start_time": "2024-07-28T13:08:13.226437Z"
    }
   },
   "id": "32bfe9bdc3ca3906",
   "execution_count": 442
  },
  {
   "cell_type": "code",
   "outputs": [
    {
     "name": "stdout",
     "output_type": "stream",
     "text": [
      "Accuracy: 0.9523809523809523\n"
     ]
    }
   ],
   "source": [
    "accuracy = accuracy_score(y_test, y_predicted)\n",
    "print(\"Accuracy:\", accuracy) "
   ],
   "metadata": {
    "collapsed": false,
    "ExecuteTime": {
     "end_time": "2024-07-28T13:08:14.684991Z",
     "start_time": "2024-07-28T13:08:14.676425Z"
    }
   },
   "id": "1225bb0fecc10c18",
   "execution_count": 443
  },
  {
   "cell_type": "code",
   "outputs": [],
   "source": [],
   "metadata": {
    "collapsed": false,
    "ExecuteTime": {
     "end_time": "2024-07-28T13:08:14.690433Z",
     "start_time": "2024-07-28T13:08:14.687272Z"
    }
   },
   "id": "c58d8161bfce8310",
   "execution_count": 443
  },
  {
   "cell_type": "code",
   "outputs": [],
   "source": [],
   "metadata": {
    "collapsed": false,
    "ExecuteTime": {
     "end_time": "2024-07-28T13:08:14.695936Z",
     "start_time": "2024-07-28T13:08:14.692041Z"
    }
   },
   "id": "44c898617f2eb75e",
   "execution_count": 443
  },
  {
   "cell_type": "code",
   "outputs": [],
   "source": [],
   "metadata": {
    "collapsed": false
   },
   "id": "f1422d6075e3ce7d"
  }
 ],
 "metadata": {
  "kernelspec": {
   "display_name": "Python 3",
   "language": "python",
   "name": "python3"
  },
  "language_info": {
   "codemirror_mode": {
    "name": "ipython",
    "version": 2
   },
   "file_extension": ".py",
   "mimetype": "text/x-python",
   "name": "python",
   "nbconvert_exporter": "python",
   "pygments_lexer": "ipython2",
   "version": "2.7.6"
  }
 },
 "nbformat": 4,
 "nbformat_minor": 5
}
